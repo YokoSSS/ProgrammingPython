{
  "nbformat": 4,
  "nbformat_minor": 0,
  "metadata": {
    "colab": {
      "provenance": [],
      "collapsed_sections": [
        "WX4sRVO63me5",
        "FnSBdgK-Bwtz"
      ],
      "include_colab_link": true
    },
    "kernelspec": {
      "name": "python3",
      "display_name": "Python 3"
    }
  },
  "cells": [
    {
      "cell_type": "markdown",
      "metadata": {
        "id": "view-in-github",
        "colab_type": "text"
      },
      "source": [
        "<a href=\"https://colab.research.google.com/github/YokoSSS/ProgrammingPython/blob/OUJ_%E3%83%97%E3%83%AD%E3%82%B0%E3%83%A9%E3%83%9F%E3%83%B3%E3%82%B0%E5%85%A5%E9%96%80%EF%BC%B0%EF%BD%99%EF%BD%94%EF%BD%88%EF%BD%8F%EF%BD%8E%EF%BC%88'24%EF%BC%89/%E3%83%97%E3%83%AD%E3%82%B0%E3%83%A9%E3%83%9F%E3%83%B3%E3%82%B0%E5%85%A5%E9%96%80%EF%BC%B0%EF%BD%99%EF%BD%94%EF%BD%88%EF%BD%8F%EF%BD%8E%EF%BC%88'24%EF%BC%89_64e1A%E7%B7%B4%E7%BF%92%E5%95%8F%E9%A1%8C%E3%81%AE%E8%A7%A3%E7%AD%94_%E3%83%97%E3%83%AD%E3%82%B0%E3%83%A9%E3%83%9F%E3%83%B3%E3%82%B0%E5%85%A5%E9%96%80Python24.ipynb\" target=\"_parent\"><img src=\"https://colab.research.google.com/assets/colab-badge.svg\" alt=\"Open In Colab\"/></a>"
      ]
    },
    {
      "cell_type": "markdown",
      "metadata": {
        "id": "rtIwBxrqqx2w"
      },
      "source": [
        "# 練習問題の解答"
      ]
    },
    {
      "cell_type": "code",
      "source": [],
      "metadata": {
        "id": "El237CNUX6Pw"
      },
      "execution_count": null,
      "outputs": []
    },
    {
      "cell_type": "markdown",
      "source": [
        " * 左上の「ファイル」を開いて、「ドライブにコピーを保存」をしてください。\n",
        " * 自分のGoogleドライブに、そのファイルが保存されます。ファイル名は「のコピー」が、最後（右端）についています。それを利用して学習・演習を進めて下さい。"
      ],
      "metadata": {
        "id": "lm7oxHNx4rIf"
      }
    },
    {
      "cell_type": "markdown",
      "source": [
        "# 第6章"
      ],
      "metadata": {
        "id": "0LSGWmN5Htex"
      }
    },
    {
      "cell_type": "markdown",
      "source": [
        "## フィボナッチ数列"
      ],
      "metadata": {
        "id": "r-FWjuAfHj5v"
      }
    },
    {
      "cell_type": "markdown",
      "source": [
        "フィボナッチ数列とは、次の漸化式によって表される数列$\\{F_n\\}$ のことである。\n",
        "\n",
        "* $F_0 = 1 $\n",
        "* $F_1 = 1 $\n",
        "* $F_{k}= F_{k-1} + F_{k-2} $ （$k=2, 3, \\cdots $のとき）\n",
        "\n",
        "$n$　を入力させ、フィボナッチ数列の $F_{n} $ を求めるプログラムを作れ。"
      ],
      "metadata": {
        "id": "h8IzG23TGjRO"
      }
    },
    {
      "cell_type": "markdown",
      "source": [
        "解答例"
      ],
      "metadata": {
        "id": "xQ6RETZy_3GU"
      }
    },
    {
      "cell_type": "code",
      "source": [
        "def fib(n):\n",
        "    if n == 0:\n",
        "        return 1\n",
        "    elif n == 1:\n",
        "        return 1\n",
        "    else:\n",
        "        return fib(n - 1) + fib(n - 2)\n",
        "\n",
        "n = int(input(\"n?\"))\n",
        "print(fib(n))"
      ],
      "metadata": {
        "id": "iEXfbZVEHytA",
        "colab": {
          "base_uri": "https://localhost:8080/"
        },
        "outputId": "9a6485b4-edd6-4282-fa15-286516ea51b6"
      },
      "execution_count": null,
      "outputs": [
        {
          "name": "stdout",
          "output_type": "stream",
          "text": [
            "n?52\n"
          ]
        }
      ]
    },
    {
      "cell_type": "code",
      "source": [],
      "metadata": {
        "id": "e68uLDxgYBM-"
      },
      "execution_count": null,
      "outputs": []
    }
  ]
}