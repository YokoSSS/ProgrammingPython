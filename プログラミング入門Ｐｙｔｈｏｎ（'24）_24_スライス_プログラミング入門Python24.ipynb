{
  "nbformat": 4,
  "nbformat_minor": 0,
  "metadata": {
    "colab": {
      "provenance": [],
      "collapsed_sections": [
        "WX4sRVO63me5",
        "FnSBdgK-Bwtz"
      ],
      "include_colab_link": true
    },
    "kernelspec": {
      "name": "python3",
      "display_name": "Python 3"
    }
  },
  "cells": [
    {
      "cell_type": "markdown",
      "metadata": {
        "id": "view-in-github",
        "colab_type": "text"
      },
      "source": [
        "<a href=\"https://colab.research.google.com/github/YokoSSS/ProgrammingPython/blob/OUJ_%E3%83%97%E3%83%AD%E3%82%B0%E3%83%A9%E3%83%9F%E3%83%B3%E3%82%B0%E5%85%A5%E9%96%80%EF%BC%B0%EF%BD%99%EF%BD%94%EF%BD%88%EF%BD%8F%EF%BD%8E%EF%BC%88'24%EF%BC%89/%E3%83%97%E3%83%AD%E3%82%B0%E3%83%A9%E3%83%9F%E3%83%B3%E3%82%B0%E5%85%A5%E9%96%80%EF%BC%B0%EF%BD%99%EF%BD%94%EF%BD%88%EF%BD%8F%EF%BD%8E%EF%BC%88'24%EF%BC%89_24_%E3%82%B9%E3%83%A9%E3%82%A4%E3%82%B9_%E3%83%97%E3%83%AD%E3%82%B0%E3%83%A9%E3%83%9F%E3%83%B3%E3%82%B0%E5%85%A5%E9%96%80Python24.ipynb\" target=\"_parent\"><img src=\"https://colab.research.google.com/assets/colab-badge.svg\" alt=\"Open In Colab\"/></a>"
      ]
    },
    {
      "cell_type": "markdown",
      "source": [
        "# 第2章 キーボードから入力、代入と演算、タプルとリスト"
      ],
      "metadata": {
        "id": "mHON3KhHJDNm"
      }
    },
    {
      "cell_type": "markdown",
      "source": [
        " * 左上の「ファイル」を開いて、「ドライブにコピーを保存」をしてください。\n",
        " * 自分のGoogleドライブに、そのファイルが保存されます。ファイル名は「のコピー」が、最後（右端）についています。それを利用して学習・演習を進めて下さい。"
      ],
      "metadata": {
        "id": "lm7oxHNx4rIf"
      }
    },
    {
      "cell_type": "markdown",
      "source": [
        "# 2.4 スライス\n",
        "\n",
        "文字列や、タプル、リストを部分的に切り出す書き方のことを、スライスという。\n"
      ],
      "metadata": {
        "id": "3r7afJh6MGSD"
      }
    },
    {
      "cell_type": "code",
      "source": [
        "alp = 'ABCDEFGHIJKLMNOPQRSTUVWXYZ'\n",
        "\n",
        "print(alp[2:5]) #（先頭を0番目として）2番目から4番目の3文字を切り出す。\n",
        "print(alp[:5]) #（先頭を0番目として）0番目から4番目の5文字を切り出す。\n",
        "print(alp[20:]) #（先頭を0番目として）20番目から最後までを切り出す。\n",
        "print(alp[1::3]) #（先頭を0番目として）1番目から3個おきに途中を1文字ずつ飛ばしながら切り出す。\n",
        "print(alp[5:20:4]) # （先頭を0番目として）5番目から20番目の文字を途中を4文字間隔で（3文字ずつ飛ばしながら）切り出す。\n",
        "print(alp[25:4:-2]) # （先頭を0番目として）0番目から4番目の文字を、右から左に |2| 文字間隔で切り出す。\n",
        "print(alp[::-1]) # 逆順に並べる。\n",
        "print(alp[:]) # 全部そのまま"
      ],
      "metadata": {
        "id": "Ui0GDKUIPP5N",
        "colab": {
          "base_uri": "https://localhost:8080/"
        },
        "outputId": "a284b6b8-7d53-43a6-8d6a-ceb3b12a2a8f"
      },
      "execution_count": 1,
      "outputs": [
        {
          "output_type": "stream",
          "name": "stdout",
          "text": [
            "CDE\n",
            "ABCDE\n",
            "UVWXYZ\n",
            "BEHKNQTWZ\n",
            "FJNR\n",
            "ZXVTRPNLJHF\n",
            "ZYXWVUTSRQPONMLKJIHGFEDCBA\n",
            "ABCDEFGHIJKLMNOPQRSTUVWXYZ\n"
          ]
        }
      ]
    },
    {
      "cell_type": "markdown",
      "source": [
        "このように、スライスでは、次の書き方がある。\n",
        "* hoge[s:e]\n",
        "    * リストhogeの、（先頭を0番目として）s番目からe番目までの文字列を切り出す。\n",
        "* hoge[s:]\n",
        "    * リストhogeの、（先頭を0番目として）s番目から最後までの文字列を切り出す。\n",
        "* hoge[:e]\n",
        "    * リストhogeの、（先頭を0番目として）e番目までの文字を切り出す。\n",
        "* hoge[s:e:d]\n",
        "    * リストhogeの、（先頭を0番目として）s番目からe番目までの文字列を、d文字間隔で切り出す。\n",
        "* hoge[s:e:b] ただし、b < 0\n",
        "    * リストhogeの、（先頭を0番目として）e番目からs番目までの文字列を、右から左に |b| 文字間隔で切り出す。"
      ],
      "metadata": {
        "id": "yX5LzsRt-lMm"
      }
    },
    {
      "cell_type": "code",
      "source": [
        "hiragana = 'あいうえおかきくけこさしすせそたちつてとなにぬねのはひふへほまみむめもやゆよらりるれろわをん'\n",
        "\n",
        "print(hiragana[2:5]) #（先頭を0番目として）2番目から4番目の3文字を切り出す。\n",
        "print(hiragana[:5]) #（先頭を0番目として）0番目から4番目の5文字を切り出す。\n",
        "print(hiragana[20:]) #（先頭を0番目として）20番目から最後までを切り出す。\n",
        "print(hiragana[1::3]) #（先頭を0番目として）1番目から3個おきに1つずつの要素のみにする。\n",
        "print(hiragana[::-1]) # 逆順に並べる。\n",
        "print(hiragana[:]) # 全部そのまま"
      ],
      "metadata": {
        "id": "IJ6wJ7a6PhZz",
        "colab": {
          "base_uri": "https://localhost:8080/"
        },
        "outputId": "ab0bebac-dfe3-463a-9290-9b674640f9ca"
      },
      "execution_count": 2,
      "outputs": [
        {
          "output_type": "stream",
          "name": "stdout",
          "text": [
            "うえお\n",
            "あいうえお\n",
            "なにぬねのはひふへほまみむめもやゆよらりるれろわをん\n",
            "いおくさせちとぬはへみもよるわ\n",
            "んをわろれるりらよゆやもめむみまほへふひはのねぬになとてつちたそせすしさこけくきかおえういあ\n",
            "あいうえおかきくけこさしすせそたちつてとなにぬねのはひふへほまみむめもやゆよらりるれろわをん\n"
          ]
        }
      ]
    },
    {
      "cell_type": "code",
      "source": [
        "# 数を並べたタプル\n",
        "days_of_month = (31, 28, 31, 30, 31, 30, 31, 31, 30, 31, 30, 31)\n",
        "\n",
        "print(days_of_month[3:6])# 添字（インデックス）は 0 から始まる\n",
        "print(days_of_month[:2])\n",
        "print(days_of_month[7:])\n",
        "print(days_of_month[1::2])"
      ],
      "metadata": {
        "id": "mCc14xYHcMx-",
        "colab": {
          "base_uri": "https://localhost:8080/"
        },
        "outputId": "6866c65f-1dad-49ba-d050-8d3a42034470"
      },
      "execution_count": 3,
      "outputs": [
        {
          "output_type": "stream",
          "name": "stdout",
          "text": [
            "(30, 31, 30)\n",
            "(31, 28)\n",
            "(31, 30, 31, 30, 31)\n",
            "(28, 30, 30, 31, 31, 31)\n"
          ]
        }
      ]
    },
    {
      "cell_type": "code",
      "source": [
        "# リストに対するスライス\n",
        "hoge = [\"zero\", \"ichi\", \"ni\", \"san\", \"yon\", \"go\",\n",
        "        \"roku\", \"nana\", \"hachi\", \"kyu\", \"juu\"]\n",
        "\n",
        "print(hoge[2:5])# 添字（インデックス）は 0 から始まる\n",
        "print(hoge[:5])\n",
        "print(hoge[3:])\n",
        "print(hoge[::3])\n",
        "print(hoge[::-1])\n",
        "print(hoge[:])"
      ],
      "metadata": {
        "id": "KiwF3B2IquJK",
        "colab": {
          "base_uri": "https://localhost:8080/"
        },
        "outputId": "1bbebf23-93a5-4f1e-9fc8-10f766dcc25a"
      },
      "execution_count": 4,
      "outputs": [
        {
          "output_type": "stream",
          "name": "stdout",
          "text": [
            "['ni', 'san', 'yon']\n",
            "['zero', 'ichi', 'ni', 'san', 'yon']\n",
            "['san', 'yon', 'go', 'roku', 'nana', 'hachi', 'kyu', 'juu']\n",
            "['zero', 'san', 'roku', 'kyu']\n",
            "['juu', 'kyu', 'hachi', 'nana', 'roku', 'go', 'yon', 'san', 'ni', 'ichi', 'zero']\n",
            "['zero', 'ichi', 'ni', 'san', 'yon', 'go', 'roku', 'nana', 'hachi', 'kyu', 'juu']\n"
          ]
        }
      ]
    },
    {
      "cell_type": "markdown",
      "source": [
        "### 確認問題　（確認問題の正答はありません。授業中に提示します）"
      ],
      "metadata": {
        "id": "ovDE2_uSGLif"
      }
    },
    {
      "cell_type": "markdown",
      "source": [
        "長さ10のリスト hoge に対して、次のスライスは何を表すか。プログラムを作って確認せよ。\n",
        "* hoge[1:20]\n",
        "* hoge[10:]\n",
        "* hoge[20:]\n",
        "* hoge[8:4]"
      ],
      "metadata": {
        "id": "zFbXRnbJ3Dvb"
      }
    },
    {
      "cell_type": "code",
      "source": [
        "hoge = [\"あ\", \"い\", \"う\", \"え\", \"お\",\n",
        "        \"か\", \"き\", \"く\", \"け\", \"こ\"]\n",
        "print(hoge[1:20])\n",
        "print(hoge[10:])\n",
        "print(hoge[20:])\n",
        "print(hoge[8:4])"
      ],
      "metadata": {
        "id": "3MB2TiMSLgR7",
        "colab": {
          "base_uri": "https://localhost:8080/"
        },
        "outputId": "4d50b8e5-9d27-4e0a-c9ff-b5faacfcc697"
      },
      "execution_count": 11,
      "outputs": [
        {
          "output_type": "stream",
          "name": "stdout",
          "text": [
            "['い', 'う', 'え', 'お', 'か', 'き', 'く', 'け', 'こ']\n",
            "[]\n",
            "[]\n",
            "[]\n"
          ]
        }
      ]
    },
    {
      "cell_type": "markdown",
      "source": [
        "## リスト・タプルと文字列の変換"
      ],
      "metadata": {
        "id": "L0cDFrmwOBDI"
      }
    },
    {
      "cell_type": "markdown",
      "source": [
        "### リストやタプルを文字列にする"
      ],
      "metadata": {
        "id": "x0ILRcJtAfwj"
      }
    },
    {
      "cell_type": "markdown",
      "source": [
        "リストやタプルを文字列にするには、str を用いる。"
      ],
      "metadata": {
        "id": "BnW8rI1IAimP"
      }
    },
    {
      "cell_type": "code",
      "source": [
        "# リストの定義\n",
        "hoge = [\"kita\", \"higashi\", \"minami\", \"nishi\"]\n",
        "\n",
        "# 連結するために、文字列に変換する\n",
        "ugougo = str(hoge) + \"desu.\"\n",
        "print(ugougo)"
      ],
      "metadata": {
        "id": "l0aazKOLCpuF",
        "colab": {
          "base_uri": "https://localhost:8080/"
        },
        "outputId": "b78a1009-81e9-4ec5-a116-4a3b01c64b17"
      },
      "execution_count": 12,
      "outputs": [
        {
          "output_type": "stream",
          "name": "stdout",
          "text": [
            "['kita', 'higashi', 'minami', 'nishi']desu.\n"
          ]
        }
      ]
    },
    {
      "cell_type": "markdown",
      "source": [
        "リストと文字列を直接連結することはできない。"
      ],
      "metadata": {
        "id": "03FwnXThCGIL"
      }
    },
    {
      "cell_type": "code",
      "source": [
        "# リストの定義\n",
        "hoge = [\"kita\", \"higashi\", \"minami\", \"nishi\"]\n",
        "\n",
        "# 次の代入は、型エラー(TypeError)になる\n",
        "ugougo = hoge + \"desu.\"\n",
        "print(ugougo)"
      ],
      "metadata": {
        "id": "qHkmYXlYCKDe",
        "colab": {
          "base_uri": "https://localhost:8080/",
          "height": 193
        },
        "outputId": "0f5683ca-ec23-4e50-ed3c-fd35dfbaf775"
      },
      "execution_count": 13,
      "outputs": [
        {
          "output_type": "error",
          "ename": "TypeError",
          "evalue": "can only concatenate list (not \"str\") to list",
          "traceback": [
            "\u001b[0;31m---------------------------------------------------------------------------\u001b[0m",
            "\u001b[0;31mTypeError\u001b[0m                                 Traceback (most recent call last)",
            "\u001b[0;32m<ipython-input-13-6f826297fce6>\u001b[0m in \u001b[0;36m<cell line: 5>\u001b[0;34m()\u001b[0m\n\u001b[1;32m      3\u001b[0m \u001b[0;34m\u001b[0m\u001b[0m\n\u001b[1;32m      4\u001b[0m \u001b[0;31m# 次の代入は、型エラー(TypeError)になる\u001b[0m\u001b[0;34m\u001b[0m\u001b[0;34m\u001b[0m\u001b[0m\n\u001b[0;32m----> 5\u001b[0;31m \u001b[0mugougo\u001b[0m \u001b[0;34m=\u001b[0m \u001b[0mhoge\u001b[0m \u001b[0;34m+\u001b[0m \u001b[0;34m\"desu.\"\u001b[0m\u001b[0;34m\u001b[0m\u001b[0;34m\u001b[0m\u001b[0m\n\u001b[0m\u001b[1;32m      6\u001b[0m \u001b[0mprint\u001b[0m\u001b[0;34m(\u001b[0m\u001b[0mugougo\u001b[0m\u001b[0;34m)\u001b[0m\u001b[0;34m\u001b[0m\u001b[0;34m\u001b[0m\u001b[0m\n",
            "\u001b[0;31mTypeError\u001b[0m: can only concatenate list (not \"str\") to list"
          ]
        }
      ]
    },
    {
      "cell_type": "markdown",
      "source": [
        "スライスを見るとよくわかる。"
      ],
      "metadata": {
        "id": "WCArTo1-DDmQ"
      }
    },
    {
      "cell_type": "code",
      "source": [
        "# リストの定義\n",
        "hoge = [\"kita\", \"higashi\", \"minami\", \"nishi\"]\n",
        "\n",
        "# リストを連結する\n",
        "hogehoge = hoge + hoge\n",
        "print(hogehoge)\n",
        "print(hogehoge[:6]) # 最初の6つの要素\n",
        "print(\"\")\n",
        "\n",
        "# リストを文字列にして連結する\n",
        "fugafuga = str(hoge) + str(hoge)\n",
        "print(fugafuga)\n",
        "print(fugafuga[:6]) # 最初の6文字"
      ],
      "metadata": {
        "id": "Ce8V0y8ZAltd",
        "colab": {
          "base_uri": "https://localhost:8080/"
        },
        "outputId": "48a78fde-3ddc-408d-abe2-344e578e5342"
      },
      "execution_count": 14,
      "outputs": [
        {
          "output_type": "stream",
          "name": "stdout",
          "text": [
            "['kita', 'higashi', 'minami', 'nishi', 'kita', 'higashi', 'minami', 'nishi']\n",
            "['kita', 'higashi', 'minami', 'nishi', 'kita', 'higashi']\n",
            "\n",
            "['kita', 'higashi', 'minami', 'nishi']['kita', 'higashi', 'minami', 'nishi']\n",
            "['kita\n"
          ]
        }
      ]
    },
    {
      "cell_type": "markdown",
      "source": [
        "タプルも文字列に変換できる。"
      ],
      "metadata": {
        "id": "mEu5OoI7EOMk"
      }
    },
    {
      "cell_type": "code",
      "source": [
        "# タプル\n",
        "youbi_tuple = (\"getsu\", \"ka\", \"sui\", \"moku\", \"kin\", \"do\")\n",
        "print(youbi_tuple)\n",
        "aa = str(youbi_tuple)\n",
        "print(aa[:5])"
      ],
      "metadata": {
        "id": "woH9cQ0eD7kp",
        "colab": {
          "base_uri": "https://localhost:8080/"
        },
        "outputId": "89eaefaf-af22-48db-fbaa-df2f4dd4190a"
      },
      "execution_count": 15,
      "outputs": [
        {
          "output_type": "stream",
          "name": "stdout",
          "text": [
            "('getsu', 'ka', 'sui', 'moku', 'kin', 'do')\n",
            "('get\n"
          ]
        }
      ]
    },
    {
      "cell_type": "markdown",
      "source": [
        "### 文字列をリストにする"
      ],
      "metadata": {
        "id": "xe4DeP3CFS01"
      }
    },
    {
      "cell_type": "markdown",
      "source": [
        "リストのような文字列をリストにするには、eval を用いる。"
      ],
      "metadata": {
        "id": "TCG7DLExFVN8"
      }
    },
    {
      "cell_type": "code",
      "source": [
        "# リストのような文字列の定義\n",
        "housoudaigaku =\"['Nihon', 'Chiba', 'Chiba', 'Mihama', 'Wakaba', '2-11']\"\n",
        "\n",
        "# 文字列としての処理\n",
        "print(housoudaigaku)\n",
        "print(housoudaigaku[:4]) # 先頭4文字\n",
        "\n",
        "# リストにして処理\n",
        "jusyo = eval(housoudaigaku)\n",
        "print(jusyo)\n",
        "print(jusyo[:4]) # 先頭4要素"
      ],
      "metadata": {
        "id": "S6PMm58eFY5n",
        "colab": {
          "base_uri": "https://localhost:8080/"
        },
        "outputId": "889ba260-7ab9-45bb-e893-d09c863daa1c"
      },
      "execution_count": 16,
      "outputs": [
        {
          "output_type": "stream",
          "name": "stdout",
          "text": [
            "['Nihon', 'Chiba', 'Chiba', 'Mihama', 'Wakaba', '2-11']\n",
            "['Ni\n",
            "['Nihon', 'Chiba', 'Chiba', 'Mihama', 'Wakaba', '2-11']\n",
            "['Nihon', 'Chiba', 'Chiba', 'Mihama']\n"
          ]
        }
      ]
    },
    {
      "cell_type": "markdown",
      "source": [
        "文字列を、区切りをつけて分割してリストにすることもできる。"
      ],
      "metadata": {
        "id": "2TFpC82xGXAJ"
      }
    },
    {
      "cell_type": "code",
      "source": [
        "# 文字列の定義\n",
        "cmes = \"It was seen early in the morning rushing over Winchester eastward, \\\n",
        "    a line of flame, high in the atmosphere.\"\n",
        "\n",
        "# 文字列を、空白を区切りにして分割してリストにして  words に代入する\n",
        "words = cmes.split(' ')\n",
        "\n",
        "# 結果の表示\n",
        "print(words)\n",
        "print(words[3]) # 4番目の要素\n",
        "\n",
        "# スライスで逆順にする\n",
        "print(words[::-1])"
      ],
      "metadata": {
        "id": "R_zwocuKGuI4",
        "colab": {
          "base_uri": "https://localhost:8080/"
        },
        "outputId": "0a55d1bc-2477-4aa6-89a6-45a65383038b"
      },
      "execution_count": 17,
      "outputs": [
        {
          "output_type": "stream",
          "name": "stdout",
          "text": [
            "['It', 'was', 'seen', 'early', 'in', 'the', 'morning', 'rushing', 'over', 'Winchester', 'eastward,', '', '', '', '', 'a', 'line', 'of', 'flame,', 'high', 'in', 'the', 'atmosphere.']\n",
            "early\n",
            "['atmosphere.', 'the', 'in', 'high', 'flame,', 'of', 'line', 'a', '', '', '', '', 'eastward,', 'Winchester', 'over', 'rushing', 'morning', 'the', 'in', 'early', 'seen', 'was', 'It']\n"
          ]
        }
      ]
    },
    {
      "cell_type": "markdown",
      "source": [
        "タプルのような文字列も eval でタプルにできる。"
      ],
      "metadata": {
        "id": "FrAvvofgQHhb"
      }
    },
    {
      "cell_type": "code",
      "source": [
        "# タプルのような文字列\n",
        "kudamono = \"('ringo', 'mikan', 'banana', 'momo', 'nashi', 'budo', 'itidiku')\"\n",
        "print(kudamono)\n",
        "print(kudamono[:5])\n",
        "\n",
        "kudamonotuple = eval(kudamono)\n",
        "print(kudamonotuple)\n",
        "print(kudamonotuple[:5])"
      ],
      "metadata": {
        "id": "4WAQmRKgO_8_",
        "colab": {
          "base_uri": "https://localhost:8080/"
        },
        "outputId": "a27b6c1c-4a57-4c05-deb2-2b482b5d1cb6"
      },
      "execution_count": 18,
      "outputs": [
        {
          "output_type": "stream",
          "name": "stdout",
          "text": [
            "('ringo', 'mikan', 'banana', 'momo', 'nashi', 'budo', 'itidiku')\n",
            "('rin\n",
            "('ringo', 'mikan', 'banana', 'momo', 'nashi', 'budo', 'itidiku')\n",
            "('ringo', 'mikan', 'banana', 'momo', 'nashi')\n"
          ]
        }
      ]
    },
    {
      "cell_type": "code",
      "source": [],
      "metadata": {
        "id": "-Q4Y9MTNF6jp"
      },
      "execution_count": null,
      "outputs": []
    }
  ]
}