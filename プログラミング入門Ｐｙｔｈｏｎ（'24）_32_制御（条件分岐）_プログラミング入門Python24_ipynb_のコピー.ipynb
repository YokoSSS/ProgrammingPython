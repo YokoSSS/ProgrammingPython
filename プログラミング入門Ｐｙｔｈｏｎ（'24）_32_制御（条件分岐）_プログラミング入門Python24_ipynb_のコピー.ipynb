{
  "nbformat": 4,
  "nbformat_minor": 0,
  "metadata": {
    "colab": {
      "provenance": [],
      "collapsed_sections": [
        "WX4sRVO63me5",
        "FnSBdgK-Bwtz"
      ],
      "include_colab_link": true
    },
    "kernelspec": {
      "name": "python3",
      "display_name": "Python 3"
    }
  },
  "cells": [
    {
      "cell_type": "markdown",
      "metadata": {
        "id": "view-in-github",
        "colab_type": "text"
      },
      "source": [
        "<a href=\"https://colab.research.google.com/github/YokoSSS/ProgrammingPython/blob/OUJ_%E3%83%97%E3%83%AD%E3%82%B0%E3%83%A9%E3%83%9F%E3%83%B3%E3%82%B0%E5%85%A5%E9%96%80%EF%BC%B0%EF%BD%99%EF%BD%94%EF%BD%88%EF%BD%8F%EF%BD%8E%EF%BC%88'24%EF%BC%89/%E3%83%97%E3%83%AD%E3%82%B0%E3%83%A9%E3%83%9F%E3%83%B3%E3%82%B0%E5%85%A5%E9%96%80%EF%BC%B0%EF%BD%99%EF%BD%94%EF%BD%88%EF%BD%8F%EF%BD%8E%EF%BC%88'24%EF%BC%89_32_%E5%88%B6%E5%BE%A1%EF%BC%88%E6%9D%A1%E4%BB%B6%E5%88%86%E5%B2%90%EF%BC%89_%E3%83%97%E3%83%AD%E3%82%B0%E3%83%A9%E3%83%9F%E3%83%B3%E3%82%B0%E5%85%A5%E9%96%80Python24_ipynb_%E3%81%AE%E3%82%B3%E3%83%94%E3%83%BC.ipynb\" target=\"_parent\"><img src=\"https://colab.research.google.com/assets/colab-badge.svg\" alt=\"Open In Colab\"/></a>"
      ]
    },
    {
      "cell_type": "markdown",
      "source": [
        "# 第3章 プログラムによる問題解決、制御、数値表現、関数、繰り返し\n"
      ],
      "metadata": {
        "id": "mHON3KhHJDNm"
      }
    },
    {
      "cell_type": "markdown",
      "source": [
        " * 左上の「ファイル」を開いて、「ドライブにコピーを保存」をしてください。\n",
        " * 自分のGoogleドライブに、そのファイルが保存されます。ファイル名は「のコピー」が、最後（右端）についています。それを利用して学習・演習を進めて下さい。"
      ],
      "metadata": {
        "id": "lm7oxHNx4rIf"
      }
    },
    {
      "cell_type": "markdown",
      "source": [
        "# 3.2 制御（条件分岐）"
      ],
      "metadata": {
        "id": "eJoSsJk-mJyz"
      }
    },
    {
      "cell_type": "markdown",
      "source": [
        "すでに述べたように、動作を定める手順には、「ある条件が成立しているとき」に限定して行う動作を書くことがある。\n",
        "\n",
        "このような手順の書き方のことを「制御」という。言い換えると、制御とは、条件に従って動作が分岐するときの、分岐点での判断のさせ方のことである。\n",
        "\n",
        "その「分岐点を二度と通らない」分岐点もあるが、「同じことを繰り返していいか？」を判断する分岐点もある。"
      ],
      "metadata": {
        "id": "178Zp6-aSCbA"
      }
    },
    {
      "cell_type": "markdown",
      "metadata": {
        "id": "igM4WGaR008D"
      },
      "source": [
        "## if"
      ]
    },
    {
      "cell_type": "markdown",
      "source": [
        "状況に応じて動作を変えるには、if を用いる。"
      ],
      "metadata": {
        "id": "5Zs-0__8iNrS"
      }
    },
    {
      "cell_type": "markdown",
      "source": [
        "次のプログラムの解説\n",
        "* 1行目はキーボードから、数字列を入力させて、数に変換して、a に代入する。\n",
        "* 2行目で、aが 10 より大きいかどうかを調べる。\n",
        "* もし、a が 10 より大きければ、3行目で\"BIG\" と表示する。この3行目は字下げされていることに注意する。\n",
        "* a が 10 以下であれば、何もしないので、何も書かれていない。"
      ],
      "metadata": {
        "id": "gqePHE_hYBMj"
      }
    },
    {
      "cell_type": "code",
      "source": [
        "a = float(input(\"a?\"))\n",
        "if a > 10:\n",
        "    print(\"BIG\")"
      ],
      "metadata": {
        "id": "s3uTvgHhXuaH",
        "colab": {
          "base_uri": "https://localhost:8080/",
          "height": 350
        },
        "outputId": "67ebbcd8-5c16-4853-b878-a73c72f175a2"
      },
      "execution_count": 1,
      "outputs": [
        {
          "output_type": "error",
          "ename": "KeyboardInterrupt",
          "evalue": "Interrupted by user",
          "traceback": [
            "\u001b[0;31m---------------------------------------------------------------------------\u001b[0m",
            "\u001b[0;31mKeyboardInterrupt\u001b[0m                         Traceback (most recent call last)",
            "\u001b[0;32m<ipython-input-1-3f962b8730cd>\u001b[0m in \u001b[0;36m<cell line: 1>\u001b[0;34m()\u001b[0m\n\u001b[0;32m----> 1\u001b[0;31m \u001b[0ma\u001b[0m \u001b[0;34m=\u001b[0m \u001b[0mfloat\u001b[0m\u001b[0;34m(\u001b[0m\u001b[0minput\u001b[0m\u001b[0;34m(\u001b[0m\u001b[0;34m\"a?\"\u001b[0m\u001b[0;34m)\u001b[0m\u001b[0;34m)\u001b[0m\u001b[0;34m\u001b[0m\u001b[0;34m\u001b[0m\u001b[0m\n\u001b[0m\u001b[1;32m      2\u001b[0m \u001b[0;32mif\u001b[0m \u001b[0ma\u001b[0m \u001b[0;34m>\u001b[0m \u001b[0;36m10\u001b[0m\u001b[0;34m:\u001b[0m\u001b[0;34m\u001b[0m\u001b[0;34m\u001b[0m\u001b[0m\n\u001b[1;32m      3\u001b[0m     \u001b[0mprint\u001b[0m\u001b[0;34m(\u001b[0m\u001b[0;34m\"BIG\"\u001b[0m\u001b[0;34m)\u001b[0m\u001b[0;34m\u001b[0m\u001b[0;34m\u001b[0m\u001b[0m\n",
            "\u001b[0;32m/usr/local/lib/python3.10/dist-packages/ipykernel/kernelbase.py\u001b[0m in \u001b[0;36mraw_input\u001b[0;34m(self, prompt)\u001b[0m\n\u001b[1;32m    849\u001b[0m                 \u001b[0;34m\"raw_input was called, but this frontend does not support input requests.\"\u001b[0m\u001b[0;34m\u001b[0m\u001b[0;34m\u001b[0m\u001b[0m\n\u001b[1;32m    850\u001b[0m             )\n\u001b[0;32m--> 851\u001b[0;31m         return self._input_request(str(prompt),\n\u001b[0m\u001b[1;32m    852\u001b[0m             \u001b[0mself\u001b[0m\u001b[0;34m.\u001b[0m\u001b[0m_parent_ident\u001b[0m\u001b[0;34m,\u001b[0m\u001b[0;34m\u001b[0m\u001b[0;34m\u001b[0m\u001b[0m\n\u001b[1;32m    853\u001b[0m             \u001b[0mself\u001b[0m\u001b[0;34m.\u001b[0m\u001b[0m_parent_header\u001b[0m\u001b[0;34m,\u001b[0m\u001b[0;34m\u001b[0m\u001b[0;34m\u001b[0m\u001b[0m\n",
            "\u001b[0;32m/usr/local/lib/python3.10/dist-packages/ipykernel/kernelbase.py\u001b[0m in \u001b[0;36m_input_request\u001b[0;34m(self, prompt, ident, parent, password)\u001b[0m\n\u001b[1;32m    893\u001b[0m             \u001b[0;32mexcept\u001b[0m \u001b[0mKeyboardInterrupt\u001b[0m\u001b[0;34m:\u001b[0m\u001b[0;34m\u001b[0m\u001b[0;34m\u001b[0m\u001b[0m\n\u001b[1;32m    894\u001b[0m                 \u001b[0;31m# re-raise KeyboardInterrupt, to truncate traceback\u001b[0m\u001b[0;34m\u001b[0m\u001b[0;34m\u001b[0m\u001b[0m\n\u001b[0;32m--> 895\u001b[0;31m                 \u001b[0;32mraise\u001b[0m \u001b[0mKeyboardInterrupt\u001b[0m\u001b[0;34m(\u001b[0m\u001b[0;34m\"Interrupted by user\"\u001b[0m\u001b[0;34m)\u001b[0m \u001b[0;32mfrom\u001b[0m \u001b[0;32mNone\u001b[0m\u001b[0;34m\u001b[0m\u001b[0;34m\u001b[0m\u001b[0m\n\u001b[0m\u001b[1;32m    896\u001b[0m             \u001b[0;32mexcept\u001b[0m \u001b[0mException\u001b[0m \u001b[0;32mas\u001b[0m \u001b[0me\u001b[0m\u001b[0;34m:\u001b[0m\u001b[0;34m\u001b[0m\u001b[0;34m\u001b[0m\u001b[0m\n\u001b[1;32m    897\u001b[0m                 \u001b[0mself\u001b[0m\u001b[0;34m.\u001b[0m\u001b[0mlog\u001b[0m\u001b[0;34m.\u001b[0m\u001b[0mwarning\u001b[0m\u001b[0;34m(\u001b[0m\u001b[0;34m\"Invalid Message:\"\u001b[0m\u001b[0;34m,\u001b[0m \u001b[0mexc_info\u001b[0m\u001b[0;34m=\u001b[0m\u001b[0;32mTrue\u001b[0m\u001b[0;34m)\u001b[0m\u001b[0;34m\u001b[0m\u001b[0;34m\u001b[0m\u001b[0m\n",
            "\u001b[0;31mKeyboardInterrupt\u001b[0m: Interrupted by user"
          ]
        }
      ]
    },
    {
      "cell_type": "markdown",
      "source": [
        "### ブロックとインデント"
      ],
      "metadata": {
        "id": "qI4eS-Q9ozja"
      }
    },
    {
      "cell_type": "markdown",
      "source": [
        "* if 文の下の部分を **ブロック** という。\n",
        " * ブロックとは、同じ幅のインデント（インデントとは、左側の空白のこと）が続く行のことである。\n",
        " * ブロックは、if の次の行から、字下げをして書く。\n",
        " * この授業では、字下げは 4 文字を標準とする。\n",
        " * １行だけでもブロックとなる。"
      ],
      "metadata": {
        "id": "3Tc5HCANAjcT"
      }
    },
    {
      "cell_type": "markdown",
      "source": [
        "次のプログラムの2行目の if は、次の行がブロックであることを期待しているが、3行目は字下げされておらず、ブロックではないため、動作しない。（エラーになる。）"
      ],
      "metadata": {
        "id": "qEsWG09coDhL"
      }
    },
    {
      "cell_type": "code",
      "source": [
        "a = float(input(\"a?\"))\n",
        "if a > 10:\n",
        "print(\"BIG\")"
      ],
      "metadata": {
        "id": "j5V87EnxoHPf",
        "colab": {
          "base_uri": "https://localhost:8080/",
          "height": 109
        },
        "outputId": "45e112ee-086a-41a6-e0e2-47c77956e2f6"
      },
      "execution_count": 2,
      "outputs": [
        {
          "output_type": "error",
          "ename": "IndentationError",
          "evalue": "expected an indented block after 'if' statement on line 2 (<ipython-input-2-1f4bfbc4870d>, line 3)",
          "traceback": [
            "\u001b[0;36m  File \u001b[0;32m\"<ipython-input-2-1f4bfbc4870d>\"\u001b[0;36m, line \u001b[0;32m3\u001b[0m\n\u001b[0;31m    print(\"BIG\")\u001b[0m\n\u001b[0m    ^\u001b[0m\n\u001b[0;31mIndentationError\u001b[0m\u001b[0;31m:\u001b[0m expected an indented block after 'if' statement on line 2\n"
          ]
        }
      ]
    },
    {
      "cell_type": "markdown",
      "metadata": {
        "id": "9Vmo0qyK1gvh"
      },
      "source": [
        "## if else"
      ]
    },
    {
      "cell_type": "markdown",
      "source": [
        "条件が成立しないときに限って実行するブロックを指定するには、else を用いる。\n",
        "\n",
        "次のプログラムの解説\n",
        "* 1行目、2行目：関数 float は、入力された数字列を浮動小数に変換する。整数でない値を用いるときは、この  float を利用する。\n",
        "* 3行目：  if 条件: は、条件が成立したときに直後のブロックを実行する。\n",
        "* 3行目：  b == 0 は、「$b$が$0$に等しいかどうか」を判断する（後述する）比較演算子である。ここを、 b = 0 と書いては いけない。\n",
        "* 5行目：  else は、 if の条件が成立しなかったときに直後のブロックを実行する。"
      ],
      "metadata": {
        "id": "ns2TtW8hiRD5"
      }
    },
    {
      "cell_type": "code",
      "metadata": {
        "id": "GNPrSPYl02dZ",
        "colab": {
          "base_uri": "https://localhost:8080/"
        },
        "outputId": "611942c8-9977-4cf2-e0a1-2eee8f04e2bd"
      },
      "source": [
        "a = float(input('a?'))\n",
        "b = float(input('b?'))\n",
        "if b == 0:\n",
        "    print('Cannot divide by 0')\n",
        "else:\n",
        "    r = a / b\n",
        "    print(a, '/', b, '=', r)"
      ],
      "execution_count": 7,
      "outputs": [
        {
          "output_type": "stream",
          "name": "stdout",
          "text": [
            "a?88\n",
            "b?66\n",
            "88.0 / 66.0 = 1.3333333333333333\n"
          ]
        }
      ]
    },
    {
      "cell_type": "markdown",
      "source": [
        "## if elif else"
      ],
      "metadata": {
        "id": "zOGpK0oen28_"
      }
    },
    {
      "cell_type": "markdown",
      "source": [
        "最初の条件が成立していないが、もう一つの条件が成立しているときに実行するブロックを指定するには、 elif を用いる。elif は、2個以上書いてもよい。"
      ],
      "metadata": {
        "id": "z6HdzlTBiVuA"
      }
    },
    {
      "cell_type": "code",
      "source": [
        "x = int(input('x?'))\n",
        "\n",
        "if x > 80:\n",
        "    print('A')\n",
        "elif x > 70:\n",
        "    print('B')\n",
        "else:\n",
        "    print('C')"
      ],
      "metadata": {
        "id": "mzQr3pqkxkBF",
        "colab": {
          "base_uri": "https://localhost:8080/"
        },
        "outputId": "0ca4cda1-4c38-466c-b0e8-9a48b2d6386d"
      },
      "execution_count": 8,
      "outputs": [
        {
          "output_type": "stream",
          "name": "stdout",
          "text": [
            "x?44\n",
            "C\n"
          ]
        }
      ]
    },
    {
      "cell_type": "code",
      "source": [
        "x = int(input('x?'))\n",
        "\n",
        "if x > 80:\n",
        "    print('A')\n",
        "elif x > 70:\n",
        "    print('B')\n",
        "elif x > 60:\n",
        "    print('C')\n",
        "else:\n",
        "    print('D')"
      ],
      "metadata": {
        "id": "reF9ldpuoD6A",
        "colab": {
          "base_uri": "https://localhost:8080/"
        },
        "outputId": "9c92ea15-3be4-4638-a230-30a00e34ea99"
      },
      "execution_count": 9,
      "outputs": [
        {
          "output_type": "stream",
          "name": "stdout",
          "text": [
            "x?33\n",
            "D\n"
          ]
        }
      ]
    },
    {
      "cell_type": "markdown",
      "source": [
        "## 条件の書き方"
      ],
      "metadata": {
        "id": "YIJPcanhkyBc"
      }
    },
    {
      "cell_type": "markdown",
      "source": [
        "* 条件のところは、真か偽かで決まる。この「真」「偽」の値（状態）を、真理値（真偽値、ブール値などとも言う）いう。\n",
        "* 真理値を値に持つ式を（ここでは）ブール式と呼ぶ。\n",
        " * $ 3 < 7 $ 真のブール式\n",
        " * $ 2 > 5 $ 偽のブール式\n",
        " * $ x > 0 $ 真か偽かが決まらないブール式"
      ],
      "metadata": {
        "id": "cyIBtfZck1LB"
      }
    },
    {
      "cell_type": "code",
      "source": [
        "if 1 > 0:\n",
        "    print(\"A\")\n",
        "else:\n",
        "    print(\"B\")"
      ],
      "metadata": {
        "id": "VP_QF2xT3Iwv",
        "colab": {
          "base_uri": "https://localhost:8080/"
        },
        "outputId": "0e1cd700-61c2-42ad-bde7-4ee716561c34"
      },
      "execution_count": 10,
      "outputs": [
        {
          "output_type": "stream",
          "name": "stdout",
          "text": [
            "A\n"
          ]
        }
      ]
    },
    {
      "cell_type": "markdown",
      "source": [
        "* 真理値のデータ型は真偽型（ブール型）である。"
      ],
      "metadata": {
        "id": "2zU8v7SxV36x"
      }
    },
    {
      "cell_type": "code",
      "source": [
        "print(3 > 2)\n",
        "print(type(3 > 2))\n",
        "print(3 < 2)\n",
        "print(type(3 < 2))"
      ],
      "metadata": {
        "id": "Oc3E6GueV52E",
        "colab": {
          "base_uri": "https://localhost:8080/"
        },
        "outputId": "14969408-25b0-4230-ed55-4ab361cf2c11"
      },
      "execution_count": 11,
      "outputs": [
        {
          "output_type": "stream",
          "name": "stdout",
          "text": [
            "True\n",
            "<class 'bool'>\n",
            "False\n",
            "<class 'bool'>\n"
          ]
        }
      ]
    },
    {
      "cell_type": "markdown",
      "source": [
        "* 複数のブール式を「かつ」「または」などでつなげて、長いブール式を作ることができる。\n",
        "* 例\n",
        " * aが 0より大きく、b も 0 より大きい\n",
        "   * a > 0 and b > 0\n",
        " * aが 0 より大きいか、あるいは、b が 0 より大きい\n",
        "   * a > 0 or b > 0\n",
        " * aが0より大きくて、さらに、「bが0より大きいか、あるいは、cが0より大きい」\n",
        "   * a > 0 and (b > 0 or c > 0)"
      ],
      "metadata": {
        "id": "hZBy9haLCajz"
      }
    },
    {
      "cell_type": "code",
      "source": [
        "a = 1\n",
        "b = 0\n",
        "c = 0\n",
        "if a > 0 and (b > 0 or c > 0):\n",
        "    print(\"AAA\")\n",
        "else:\n",
        "    print(\"BBB\")"
      ],
      "metadata": {
        "id": "78AGOQkumEUU",
        "colab": {
          "base_uri": "https://localhost:8080/"
        },
        "outputId": "68d4bd11-05af-4713-ec34-6ac35a3efd41"
      },
      "execution_count": 12,
      "outputs": [
        {
          "output_type": "stream",
          "name": "stdout",
          "text": [
            "BBB\n"
          ]
        }
      ]
    },
    {
      "cell_type": "markdown",
      "source": [
        "#### 比較演算子\n",
        "\n",
        "数値同士を比較するときに用いる。\n",
        "\n",
        "* a と b の値は等しい\n",
        " * a == b\n",
        "* a は b より大きい\n",
        " *  a > b\n",
        "* a は b より小さい\n",
        " * a < b\n",
        "* a は b 以上である\n",
        " * a >= b\n",
        " * (a > b or a == b) と同じ。\n",
        "* a は b 以下である\n",
        " * a <= b\n",
        " * (a < b or a == b) と同じ。\n",
        "* a と b は等しくない\n",
        " * a != b\n",
        " * (a > b or a < b) と同じ。\n",
        "* 論理式の否定\n",
        " * not(論理式)\n",
        " * 例 not(a > 0) は、 a $\\leq$ 0 と同じ。\n",
        " * 例 not(a == b) は、 a $\\ne$ b と同じ。\n",
        "\n",
        "次は、比較演算子や論理演算子を利用した計算例である。"
      ],
      "metadata": {
        "id": "4NqsUvbsEN0B"
      }
    },
    {
      "cell_type": "code",
      "source": [
        "a = float(input('a?'))\n",
        "b = float(input('b?'))\n",
        "\n",
        "if a > b:\n",
        "    print(\"larger than\")\n",
        "\n",
        "if a >= b:\n",
        "    print(\"not less than\")\n",
        "\n",
        "if not(a == b):\n",
        "    print(\"Not Equal\")"
      ],
      "metadata": {
        "id": "bXorR5uGnsRD",
        "colab": {
          "base_uri": "https://localhost:8080/"
        },
        "outputId": "fbc03a26-0f8b-44f2-de8a-c799680413ce"
      },
      "execution_count": 13,
      "outputs": [
        {
          "output_type": "stream",
          "name": "stdout",
          "text": [
            "a?44\n",
            "b?11\n",
            "larger than\n",
            "not less than\n",
            "Not Equal\n"
          ]
        }
      ]
    },
    {
      "cell_type": "markdown",
      "source": [
        "# 次の教材\n",
        "\n",
        "3.3 数値の取り扱い\n",
        "* https://colab.research.google.com/drive/1BZp759aeRkRr2eLJHtGOdY0zb3-WtGPw"
      ],
      "metadata": {
        "id": "tuLhBbD3QW-M"
      }
    }
  ]
}