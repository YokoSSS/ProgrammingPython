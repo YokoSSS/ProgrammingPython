{
  "nbformat": 4,
  "nbformat_minor": 0,
  "metadata": {
    "colab": {
      "provenance": [],
      "collapsed_sections": [
        "WX4sRVO63me5",
        "FnSBdgK-Bwtz"
      ],
      "include_colab_link": true
    },
    "kernelspec": {
      "name": "python3",
      "display_name": "Python 3"
    }
  },
  "cells": [
    {
      "cell_type": "markdown",
      "metadata": {
        "id": "view-in-github",
        "colab_type": "text"
      },
      "source": [
        "<a href=\"https://colab.research.google.com/github/YokoSSS/ProgrammingPython/blob/OUJ_%E3%83%97%E3%83%AD%E3%82%B0%E3%83%A9%E3%83%9F%E3%83%B3%E3%82%B0%E5%85%A5%E9%96%80%EF%BC%B0%EF%BD%99%EF%BD%94%EF%BD%88%EF%BD%8F%EF%BD%8E%EF%BC%88'24%EF%BC%89/%E3%83%97%E3%83%AD%E3%82%B0%E3%83%A9%E3%83%9F%E3%83%B3%E3%82%B0%E5%85%A5%E9%96%80%EF%BC%B0%EF%BD%99%EF%BD%94%EF%BD%88%EF%BD%8F%EF%BD%8E%EF%BC%88'24%EF%BC%89_86_WebAPI%E3%81%AE%E5%88%A9%E7%94%A8_geocoder_%E3%83%97%E3%83%AD%E3%82%B0%E3%83%A9%E3%83%9F%E3%83%B3%E3%82%B0%E5%85%A5%E9%96%80Python24.ipynb\" target=\"_parent\"><img src=\"https://colab.research.google.com/assets/colab-badge.svg\" alt=\"Open In Colab\"/></a>"
      ]
    },
    {
      "cell_type": "markdown",
      "source": [
        "# 第8章 シミュレーション・WebAPIの利用"
      ],
      "metadata": {
        "id": "OphPQyIyT4iG"
      }
    },
    {
      "cell_type": "markdown",
      "source": [
        " * 左上の「ファイル」を開いて、「ドライブにコピーを保存」をしてください。\n",
        " * 自分のGoogleドライブに、そのファイルが保存されます。ファイル名は「のコピー」が、最後（右端）についています。それを利用して学習・演習を進めて下さい。"
      ],
      "metadata": {
        "id": "lm7oxHNx4rIf"
      }
    },
    {
      "cell_type": "markdown",
      "source": [
        "# 8.6 WebAPIの利用 geocoder"
      ],
      "metadata": {
        "id": "-S4cx7GYUYD0"
      }
    },
    {
      "cell_type": "markdown",
      "source": [
        "## 名称から緯度・経度・住居表示を得る"
      ],
      "metadata": {
        "id": "Fm2Uryb_W-pE"
      }
    },
    {
      "cell_type": "markdown",
      "source": [
        "Python のライブラリ、 geocoder を利用して、名称から、その所在地の緯度・経度・住居表示を得ることもできる。"
      ],
      "metadata": {
        "id": "l-ZOSuAPXILG"
      }
    },
    {
      "cell_type": "markdown",
      "source": [
        "【プログラム8601】"
      ],
      "metadata": {
        "id": "BOPAmBT_arVM"
      }
    },
    {
      "cell_type": "code",
      "source": [
        "# geocoder を読み込む\n",
        "from geopy.geocoders import Nominatim\n",
        "\n",
        "place_name = \"放送大学千葉学習センター\"\n",
        "\n",
        "# 以下、プログラム本体\n",
        "geolocator = Nominatim(user_agent=\"user-id\") # geocoderを呼び出すモード\n",
        "location = geolocator.geocode(place_name) # place_nameを変換する\n",
        "\n",
        "# 緯度・経度を表示\n",
        "print(location.longitude,location.latitude)\n",
        "\n",
        "# 所在地は、小さい名称から大きい名称になっている\n",
        "print(location.address)\n",
        "\n",
        "# 日本国内では、逆転させるほうがわかりやすい。.split(\",\") をつけてカンマ区切りでリストにしてから、スライスで逆順にする\n",
        "print(location.address.split(\",\")[:0:-1])"
      ],
      "metadata": {
        "id": "odV0hwIerE0C",
        "colab": {
          "base_uri": "https://localhost:8080/"
        },
        "outputId": "4f80274e-43ca-4f5c-d460-06a083df69ff"
      },
      "execution_count": 1,
      "outputs": [
        {
          "output_type": "stream",
          "name": "stdout",
          "text": [
            "140.0497505 35.654113\n",
            "放送大学千葉学習センター, 公園大通り, 若葉二丁目, 美浜区, 千葉市, 千葉県, 261-8586, 日本\n",
            "[' 日本', ' 261-8586', ' 千葉県', ' 千葉市', ' 美浜区', ' 若葉二丁目', ' 公園大通り']\n"
          ]
        }
      ]
    },
    {
      "cell_type": "markdown",
      "source": [
        "### 確認問題　（確認問題の正答はありません。授業中に提示します）"
      ],
      "metadata": {
        "id": "xnhS8rUNzFj-"
      }
    },
    {
      "cell_type": "markdown",
      "source": [
        "上のプログラムの最後の行のスライスが、[:0:-1]ではなく、[::-1]だとどのように表示されるか、プログラムを改造せずに予想し、その後、改造して確認せよ。"
      ],
      "metadata": {
        "id": "oxBEGqSAzGg4"
      }
    }
  ]
}