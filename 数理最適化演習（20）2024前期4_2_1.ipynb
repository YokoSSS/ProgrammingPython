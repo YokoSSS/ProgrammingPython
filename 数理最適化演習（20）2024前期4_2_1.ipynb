{
  "cells": [
    {
      "cell_type": "markdown",
      "metadata": {
        "id": "view-in-github",
        "colab_type": "text"
      },
      "source": [
        "<a href=\"https://colab.research.google.com/github/YokoSSS/ProgrammingPython/blob/%E6%95%B0%E7%90%86%E6%9C%80%E9%81%A9%E5%8C%96%E6%BC%94%E7%BF%92(20)/%E6%95%B0%E7%90%86%E6%9C%80%E9%81%A9%E5%8C%96%E6%BC%94%E7%BF%92%EF%BC%8820%EF%BC%892024%E5%89%8D%E6%9C%9F4_2_1.ipynb\" target=\"_parent\"><img src=\"https://colab.research.google.com/assets/colab-badge.svg\" alt=\"Open In Colab\"/></a>"
      ]
    },
    {
      "cell_type": "markdown",
      "metadata": {
        "id": "KK57eWIzsg-i"
      },
      "source": [
        "## PuLPモジュール読み込み"
      ]
    },
    {
      "cell_type": "code",
      "execution_count": 1,
      "metadata": {
        "colab": {
          "base_uri": "https://localhost:8080/"
        },
        "id": "IrUgmj-ksg-j",
        "outputId": "5ed06401-4155-4e04-aa0b-9279a46c8276"
      },
      "outputs": [
        {
          "output_type": "stream",
          "name": "stdout",
          "text": [
            "Collecting pulp\n",
            "  Downloading PuLP-2.8.0-py3-none-any.whl (17.7 MB)\n",
            "\u001b[2K     \u001b[90m━━━━━━━━━━━━━━━━━━━━━━━━━━━━━━━━━━━━━━━━\u001b[0m \u001b[32m17.7/17.7 MB\u001b[0m \u001b[31m31.8 MB/s\u001b[0m eta \u001b[36m0:00:00\u001b[0m\n",
            "\u001b[?25hInstalling collected packages: pulp\n",
            "Successfully installed pulp-2.8.0\n"
          ]
        }
      ],
      "source": [
        "# Install pulp package\n",
        "!pip install pulp\n",
        "import pulp"
      ]
    },
    {
      "cell_type": "markdown",
      "metadata": {
        "id": "WxpNt2aGsg-k"
      },
      "source": [
        "## 目的関数の係数および制約条件左辺の係数を定義"
      ]
    },
    {
      "cell_type": "code",
      "execution_count": 2,
      "metadata": {
        "id": "-u76FvYQsg-k"
      },
      "outputs": [],
      "source": [
        "S = [1,2,3] # 送出元の番号\n",
        "D = [1,2] # 受取先の番号\n",
        "C = {(1,1):10, (1,2):14, (2,1):12, (2,2):8, (3,1):6, (3,2):12} # 輸送コスト\n",
        "Supply = {1:160, 2:80, 3:80} # 送出元の送出可能量\n",
        "Demand = {1:160, 2:140} # 受取先の受取量"
      ]
    },
    {
      "cell_type": "markdown",
      "metadata": {
        "id": "9cLbqgiVsg-l"
      },
      "source": [
        "## 決定変数の定義"
      ]
    },
    {
      "cell_type": "code",
      "execution_count": 3,
      "metadata": {
        "id": "8Je7BhrGsg-l"
      },
      "outputs": [],
      "source": [
        "x ={(i,j):pulp.LpVariable(f'x{i}_{j}',0) for i in S for j in D}"
      ]
    },
    {
      "cell_type": "markdown",
      "metadata": {
        "id": "_e5RrbO-sg-l"
      },
      "source": [
        "## 問題の定義"
      ]
    },
    {
      "cell_type": "code",
      "execution_count": 4,
      "metadata": {
        "colab": {
          "base_uri": "https://localhost:8080/"
        },
        "id": "n7PHWJX7sg-l",
        "outputId": "0ad235b3-0c86-4556-b35f-9e94e6184a1a"
      },
      "outputs": [
        {
          "output_type": "execute_result",
          "data": {
            "text/plain": [
              "輸送問題:\n",
              "MINIMIZE\n",
              "10*x1_1 + 14*x1_2 + 12*x2_1 + 8*x2_2 + 6*x3_1 + 12*x3_2 + 0\n",
              "SUBJECT TO\n",
              "送出元1の送出可能量制約: x1_1 + x1_2 <= 160\n",
              "\n",
              "送出元2の送出可能量制約: x2_1 + x2_2 <= 80\n",
              "\n",
              "送出元3の送出可能量制約: x3_1 + x3_2 <= 80\n",
              "\n",
              "受取先1の受取量制約: x1_1 + x2_1 + x3_1 = 160\n",
              "\n",
              "受取先2の受取量制約: x1_2 + x2_2 + x3_2 = 140\n",
              "\n",
              "VARIABLES\n",
              "x1_1 Continuous\n",
              "x1_2 Continuous\n",
              "x2_1 Continuous\n",
              "x2_2 Continuous\n",
              "x3_1 Continuous\n",
              "x3_2 Continuous"
            ]
          },
          "metadata": {},
          "execution_count": 4
        }
      ],
      "source": [
        "p = pulp.LpProblem('輸送問題', sense=pulp.LpMinimize)\n",
        "p += pulp.lpSum(C[(i,j)]*x[(i,j)] for i in S for j in D), '目的関数　輸送コスト'\n",
        "\n",
        "# 各送出元の送出可能量制約\n",
        "for i in S:\n",
        "    p += pulp.lpSum(x[(i,j)] for j in D) <= Supply[i], f'送出元{i}の送出可能量制約'\n",
        "\n",
        "# 各受取先の受取量制約\n",
        "for j in D:\n",
        "    p += pulp.lpSum(x[(i,j)] for i in S) == Demand[j] , f'受取先{j}の受取量制約'\n",
        "p"
      ]
    },
    {
      "cell_type": "markdown",
      "metadata": {
        "id": "7YO6svcrsg-m"
      },
      "source": [
        "## 最適解の計算と結果の読み取り"
      ]
    },
    {
      "cell_type": "code",
      "execution_count": 5,
      "metadata": {
        "id": "9Jtqvbyzsg-m"
      },
      "outputs": [],
      "source": [
        "result = p.solve()"
      ]
    },
    {
      "cell_type": "code",
      "execution_count": 6,
      "metadata": {
        "colab": {
          "base_uri": "https://localhost:8080/",
          "height": 35
        },
        "id": "E07Et-Mdsg-m",
        "outputId": "cd2a4b6b-e993-456c-ab61-ec8a6ce5bcbe"
      },
      "outputs": [
        {
          "output_type": "execute_result",
          "data": {
            "text/plain": [
              "'Optimal'"
            ],
            "application/vnd.google.colaboratory.intrinsic+json": {
              "type": "string"
            }
          },
          "metadata": {},
          "execution_count": 6
        }
      ],
      "source": [
        "pulp.LpStatus[result]"
      ]
    },
    {
      "cell_type": "code",
      "execution_count": 7,
      "metadata": {
        "colab": {
          "base_uri": "https://localhost:8080/"
        },
        "id": "shb_iIumsg-m",
        "outputId": "c0898718-2297-4664-a94d-cf2935ed8582"
      },
      "outputs": [
        {
          "output_type": "execute_result",
          "data": {
            "text/plain": [
              "2760.0"
            ]
          },
          "metadata": {},
          "execution_count": 7
        }
      ],
      "source": [
        "pulp.value(p.objective)"
      ]
    },
    {
      "cell_type": "code",
      "execution_count": 8,
      "metadata": {
        "colab": {
          "base_uri": "https://localhost:8080/"
        },
        "id": "mBVwmFeGsg-m",
        "outputId": "5ff5c839-08c0-4bfe-c09b-86d168ce89c1"
      },
      "outputs": [
        {
          "output_type": "stream",
          "name": "stdout",
          "text": [
            "x1_1 = 80.0\n",
            "x1_2 = 60.0\n",
            "x2_1 = 0.0\n",
            "x2_2 = 80.0\n",
            "x3_1 = 80.0\n",
            "x3_2 = 0.0\n"
          ]
        }
      ],
      "source": [
        "for v in p.variables():\n",
        "    print(f'{v} = {pulp.value(v)}')"
      ]
    },
    {
      "cell_type": "code",
      "execution_count": null,
      "metadata": {
        "id": "CNreWPZMsg-n"
      },
      "outputs": [],
      "source": []
    }
  ],
  "metadata": {
    "kernelspec": {
      "display_name": "Python 3",
      "language": "python",
      "name": "python3"
    },
    "language_info": {
      "codemirror_mode": {
        "name": "ipython",
        "version": 3
      },
      "file_extension": ".py",
      "mimetype": "text/x-python",
      "name": "python",
      "nbconvert_exporter": "python",
      "pygments_lexer": "ipython3",
      "version": "3.7.0"
    },
    "colab": {
      "provenance": [],
      "include_colab_link": true
    }
  },
  "nbformat": 4,
  "nbformat_minor": 0
}