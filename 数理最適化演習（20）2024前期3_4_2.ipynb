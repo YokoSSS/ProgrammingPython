{
  "cells": [
    {
      "cell_type": "markdown",
      "metadata": {
        "id": "view-in-github",
        "colab_type": "text"
      },
      "source": [
        "<a href=\"https://colab.research.google.com/github/YokoSSS/ProgrammingPython/blob/%E6%95%B0%E7%90%86%E6%9C%80%E9%81%A9%E5%8C%96%E6%BC%94%E7%BF%92(20)/%E6%95%B0%E7%90%86%E6%9C%80%E9%81%A9%E5%8C%96%E6%BC%94%E7%BF%92%EF%BC%8820%EF%BC%892024%E5%89%8D%E6%9C%9F3_4_2.ipynb\" target=\"_parent\"><img src=\"https://colab.research.google.com/assets/colab-badge.svg\" alt=\"Open In Colab\"/></a>"
      ]
    },
    {
      "cell_type": "markdown",
      "metadata": {
        "id": "1WtmzTDQkFIn"
      },
      "source": [
        "# PuLPモジュールを用いた資材切り出し問題の最適解の計算\n",
        "## PuLPモジュール読み込み"
      ]
    },
    {
      "cell_type": "code",
      "execution_count": 1,
      "metadata": {
        "colab": {
          "base_uri": "https://localhost:8080/"
        },
        "id": "FiywuZwMkFIq",
        "outputId": "02159cfa-8f88-43d7-f4a7-d5743a795e5b"
      },
      "outputs": [
        {
          "output_type": "stream",
          "name": "stdout",
          "text": [
            "Collecting pulp\n",
            "  Downloading PuLP-2.8.0-py3-none-any.whl (17.7 MB)\n",
            "\u001b[2K     \u001b[90m━━━━━━━━━━━━━━━━━━━━━━━━━━━━━━━━━━━━━━━━\u001b[0m \u001b[32m17.7/17.7 MB\u001b[0m \u001b[31m22.4 MB/s\u001b[0m eta \u001b[36m0:00:00\u001b[0m\n",
            "\u001b[?25hInstalling collected packages: pulp\n",
            "Successfully installed pulp-2.8.0\n"
          ]
        }
      ],
      "source": [
        "# Install pulp package\n",
        "!pip install pulp\n",
        "import pulp"
      ]
    },
    {
      "cell_type": "markdown",
      "metadata": {
        "id": "bfvvSgMAkFIr"
      },
      "source": [
        "## 変数の定義\n",
        "    pulp.LpVariable('xA', 0, cat=pulp.LpInteger)\n",
        "資材切り出し問題の決定変数は非負整数なので，下限値(lowBound)を0，cat=pulp.LpIntegerとする．"
      ]
    },
    {
      "cell_type": "code",
      "execution_count": 2,
      "metadata": {
        "id": "aJgG66GSkFIs"
      },
      "outputs": [],
      "source": [
        "xA = pulp.LpVariable('xA', 0, cat=pulp.LpInteger)\n",
        "xB = pulp.LpVariable('xB', 0, cat=pulp.LpInteger)\n",
        "xC = pulp.LpVariable('xC', 0, cat=pulp.LpInteger)\n",
        "xD = pulp.LpVariable('xD', 0, cat=pulp.LpInteger)"
      ]
    },
    {
      "cell_type": "markdown",
      "metadata": {
        "id": "7DOyYuumkFIs"
      },
      "source": [
        "## 問題の定義"
      ]
    },
    {
      "cell_type": "code",
      "execution_count": 3,
      "metadata": {
        "colab": {
          "base_uri": "https://localhost:8080/"
        },
        "id": "09Dpu8_bkFIt",
        "outputId": "c7ed6505-3970-429c-a80c-15b7ff1fc883"
      },
      "outputs": [
        {
          "output_type": "execute_result",
          "data": {
            "text/plain": [
              "資材切り出し問題:\n",
              "MINIMIZE\n",
              "1*xA + 1*xB + 1*xC + 1*xD + 0\n",
              "SUBJECT TO\n",
              "長さ70の必要部品数: xA >= 12\n",
              "\n",
              "長さ40の必要部品数: 2 xB + xC >= 34\n",
              "\n",
              "長さ28の必要部品数: xA + 2 xC + 3 xD >= 62\n",
              "\n",
              "VARIABLES\n",
              "0 <= xA Integer\n",
              "0 <= xB Integer\n",
              "0 <= xC Integer\n",
              "0 <= xD Integer"
            ]
          },
          "metadata": {},
          "execution_count": 3
        }
      ],
      "source": [
        "p = pulp.LpProblem('資材切り出し問題', sense=pulp.LpMinimize)\n",
        "p += xA + xB + xC + xD, '目的関数　各パターンで切り出した母材の本数の合計'\n",
        "p += xA >= 12, '長さ70の必要部品数'\n",
        "p += 2*xB + xC >= 34, '長さ40の必要部品数'\n",
        "p += xA + 2*xC + 3*xD >= 62, '長さ28の必要部品数'\n",
        "p"
      ]
    },
    {
      "cell_type": "markdown",
      "metadata": {
        "id": "QaDIBenEkFIu"
      },
      "source": [
        "## 最適解の計算と結果の読み取り"
      ]
    },
    {
      "cell_type": "code",
      "execution_count": 4,
      "metadata": {
        "id": "RkiEwr1wkFIu"
      },
      "outputs": [],
      "source": [
        "result = p.solve()"
      ]
    },
    {
      "cell_type": "code",
      "execution_count": 5,
      "metadata": {
        "colab": {
          "base_uri": "https://localhost:8080/",
          "height": 35
        },
        "id": "AiymjTackFIu",
        "outputId": "d7554d91-ebc7-4082-b90f-f910a50bd064"
      },
      "outputs": [
        {
          "output_type": "execute_result",
          "data": {
            "text/plain": [
              "'Optimal'"
            ],
            "application/vnd.google.colaboratory.intrinsic+json": {
              "type": "string"
            }
          },
          "metadata": {},
          "execution_count": 5
        }
      ],
      "source": [
        "pulp.LpStatus[result]"
      ]
    },
    {
      "cell_type": "code",
      "execution_count": 6,
      "metadata": {
        "colab": {
          "base_uri": "https://localhost:8080/"
        },
        "id": "qS4S4LtukFIv",
        "outputId": "dec9ba2a-9137-4fb0-ca16-6274652c0557"
      },
      "outputs": [
        {
          "output_type": "execute_result",
          "data": {
            "text/plain": [
              "42.0"
            ]
          },
          "metadata": {},
          "execution_count": 6
        }
      ],
      "source": [
        "pulp.value(p.objective)"
      ]
    },
    {
      "cell_type": "code",
      "execution_count": 7,
      "metadata": {
        "colab": {
          "base_uri": "https://localhost:8080/"
        },
        "id": "xVRvjLjskFIw",
        "outputId": "d2513248-9a4c-49bb-fd57-3ad070914942"
      },
      "outputs": [
        {
          "output_type": "stream",
          "name": "stdout",
          "text": [
            "xA = 12\n",
            "xB = 5\n",
            "xC = 25\n",
            "xD = 0\n"
          ]
        }
      ],
      "source": [
        "for v in p.variables():\n",
        "    print(f'{v} = {pulp.value(v):.0f}') # 小数点以下を表示しない"
      ]
    },
    {
      "cell_type": "code",
      "execution_count": null,
      "metadata": {
        "id": "13i5yjSdkFIw"
      },
      "outputs": [],
      "source": []
    }
  ],
  "metadata": {
    "kernelspec": {
      "display_name": "Python 3",
      "language": "python",
      "name": "python3"
    },
    "language_info": {
      "codemirror_mode": {
        "name": "ipython",
        "version": 3
      },
      "file_extension": ".py",
      "mimetype": "text/x-python",
      "name": "python",
      "nbconvert_exporter": "python",
      "pygments_lexer": "ipython3",
      "version": "3.7.0"
    },
    "colab": {
      "provenance": [],
      "include_colab_link": true
    }
  },
  "nbformat": 4,
  "nbformat_minor": 0
}