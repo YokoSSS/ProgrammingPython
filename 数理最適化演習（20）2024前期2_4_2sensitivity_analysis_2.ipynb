{
  "cells": [
    {
      "cell_type": "markdown",
      "metadata": {
        "id": "view-in-github",
        "colab_type": "text"
      },
      "source": [
        "<a href=\"https://colab.research.google.com/github/YokoSSS/ProgrammingPython/blob/%E6%95%B0%E7%90%86%E6%9C%80%E9%81%A9%E5%8C%96%E6%BC%94%E7%BF%92(20)/%E6%95%B0%E7%90%86%E6%9C%80%E9%81%A9%E5%8C%96%E6%BC%94%E7%BF%92%EF%BC%8820%EF%BC%892024%E5%89%8D%E6%9C%9F2_4_2sensitivity_analysis_2.ipynb\" target=\"_parent\"><img src=\"https://colab.research.google.com/assets/colab-badge.svg\" alt=\"Open In Colab\"/></a>"
      ]
    },
    {
      "cell_type": "code",
      "execution_count": null,
      "metadata": {
        "colab": {
          "base_uri": "https://localhost:8080/"
        },
        "id": "ZmpGi1l9i29F",
        "outputId": "45631e76-f6c9-4967-ef72-c6214d197af2"
      },
      "outputs": [
        {
          "output_type": "stream",
          "name": "stdout",
          "text": [
            "Collecting pulp\n",
            "  Downloading PuLP-2.8.0-py3-none-any.whl (17.7 MB)\n",
            "\u001b[2K     \u001b[90m━━━━━━━━━━━━━━━━━━━━━━━━━━━━━━━━━━━━━━━━\u001b[0m \u001b[32m17.7/17.7 MB\u001b[0m \u001b[31m21.7 MB/s\u001b[0m eta \u001b[36m0:00:00\u001b[0m\n",
            "\u001b[?25hInstalling collected packages: pulp\n",
            "Successfully installed pulp-2.8.0\n"
          ]
        }
      ],
      "source": [
        "# Install pulp package\n",
        "!pip install pulp\n",
        "import pulp"
      ]
    },
    {
      "cell_type": "code",
      "execution_count": null,
      "metadata": {
        "id": "d51_NyOXi29G"
      },
      "outputs": [],
      "source": [
        "x1 = pulp.LpVariable(\"x1\", 0) # 決定変数 x1 >= 0\n",
        "x2 = pulp.LpVariable(\"x2\", 0) # 決定変数 x2 >= 0"
      ]
    },
    {
      "cell_type": "code",
      "execution_count": null,
      "metadata": {
        "colab": {
          "base_uri": "https://localhost:8080/"
        },
        "id": "uJBVhbImi29G",
        "outputId": "acaa463c-cdd6-43e6-b772-ee73d32370d3"
      },
      "outputs": [
        {
          "output_type": "execute_result",
          "data": {
            "text/plain": [
              "生産計画問題:\n",
              "MAXIMIZE\n",
              "1*x1 + 4*x2 + 0\n",
              "SUBJECT TO\n",
              "原料制約: x1 + 3 x2 <= 24\n",
              "\n",
              "労働時間制約: 4 x1 + 4 x2 <= 48\n",
              "\n",
              "機械稼働制約: 2 x1 + x2 <= 22\n",
              "\n",
              "VARIABLES\n",
              "x1 Continuous\n",
              "x2 Continuous"
            ]
          },
          "metadata": {},
          "execution_count": 3
        }
      ],
      "source": [
        "p = pulp.LpProblem(\"生産計画問題\", sense=pulp.LpMaximize) # 目的関数を最大化\n",
        "p += (x1 + 4*x2, \"目的関数　利益見込み\")\n",
        "p += (x1 + 3*x2 <= 24, \"原料制約\")\n",
        "p += (4*x1 + 4*x2 <= 48, \"労働時間制約\")\n",
        "p += (2*x1 + x2 <= 22, \"機械稼働制約\")\n",
        "p"
      ]
    },
    {
      "cell_type": "code",
      "execution_count": null,
      "metadata": {
        "id": "WjdC7KGhi29H"
      },
      "outputs": [],
      "source": [
        "result = p.solve()"
      ]
    },
    {
      "cell_type": "code",
      "execution_count": null,
      "metadata": {
        "colab": {
          "base_uri": "https://localhost:8080/",
          "height": 35
        },
        "id": "e2CRxp2Fi29H",
        "outputId": "a4c0a4fb-c288-48d0-c505-1c7da13ca92d"
      },
      "outputs": [
        {
          "output_type": "execute_result",
          "data": {
            "text/plain": [
              "'Optimal'"
            ],
            "application/vnd.google.colaboratory.intrinsic+json": {
              "type": "string"
            }
          },
          "metadata": {},
          "execution_count": 5
        }
      ],
      "source": [
        "pulp.LpStatus[result]"
      ]
    },
    {
      "cell_type": "code",
      "execution_count": null,
      "metadata": {
        "colab": {
          "base_uri": "https://localhost:8080/"
        },
        "id": "YU80orLli29I",
        "outputId": "0861d5ad-1128-4a79-8096-c16f7ce4d1e1"
      },
      "outputs": [
        {
          "output_type": "execute_result",
          "data": {
            "text/plain": [
              "32.0"
            ]
          },
          "metadata": {},
          "execution_count": 6
        }
      ],
      "source": [
        "pulp.value(p.objective)"
      ]
    },
    {
      "cell_type": "code",
      "execution_count": null,
      "metadata": {
        "colab": {
          "base_uri": "https://localhost:8080/"
        },
        "id": "Tx9vzYjti29I",
        "outputId": "88bbd2c3-c209-4c42-bc75-569fdcbea5e7"
      },
      "outputs": [
        {
          "output_type": "stream",
          "name": "stdout",
          "text": [
            "x1 = 0.0\n",
            "x2 = 8.0\n"
          ]
        }
      ],
      "source": [
        "for v in p.variables():\n",
        "    print(f'{v} = {pulp.value(v)}')"
      ]
    },
    {
      "cell_type": "code",
      "execution_count": null,
      "metadata": {
        "colab": {
          "base_uri": "https://localhost:8080/"
        },
        "id": "j0vEUtaCi29I",
        "outputId": "42df2c62-a0e0-421c-a0ad-3bb6b4eb4da0"
      },
      "outputs": [
        {
          "output_type": "stream",
          "name": "stdout",
          "text": [
            "x1 =        0.0, Reduced cost = -0.33333333\n",
            "x2 =        8.0, Reduced cost = -0.0\n"
          ]
        }
      ],
      "source": [
        "for v in p.variables():\n",
        "    print(f'{v} = {pulp.value(v):10}, Reduced cost = {v.dj}')"
      ]
    },
    {
      "cell_type": "code",
      "execution_count": null,
      "metadata": {
        "colab": {
          "base_uri": "https://localhost:8080/"
        },
        "id": "eIvH-w6Ei29I",
        "outputId": "34cb6e66-8d0a-4fea-805d-ae14504cb682"
      },
      "outputs": [
        {
          "output_type": "stream",
          "name": "stdout",
          "text": [
            "原料制約  , Shadow price = 1.3333333, Slack = -0.0\n",
            "労働時間制約, Shadow price =   -0.0, Slack = 16.0\n",
            "機械稼働制約, Shadow price =   -0.0, Slack = 14.0\n"
          ]
        }
      ],
      "source": [
        "for cname, c in list(p.constraints.items()):\n",
        "    print(f'{cname:6s}, Shadow price = {c.pi:6}, Slack = {c.slack}')"
      ]
    },
    {
      "cell_type": "code",
      "execution_count": null,
      "metadata": {
        "id": "vVa0VRB2i29I"
      },
      "outputs": [],
      "source": []
    }
  ],
  "metadata": {
    "kernelspec": {
      "display_name": "Python 3",
      "language": "python",
      "name": "python3"
    },
    "language_info": {
      "codemirror_mode": {
        "name": "ipython",
        "version": 3
      },
      "file_extension": ".py",
      "mimetype": "text/x-python",
      "name": "python",
      "nbconvert_exporter": "python",
      "pygments_lexer": "ipython3",
      "version": "3.7.0"
    },
    "colab": {
      "provenance": [],
      "include_colab_link": true
    }
  },
  "nbformat": 4,
  "nbformat_minor": 0
}