{
  "nbformat": 4,
  "nbformat_minor": 0,
  "metadata": {
    "colab": {
      "provenance": [],
      "collapsed_sections": [
        "WX4sRVO63me5",
        "FnSBdgK-Bwtz"
      ],
      "include_colab_link": true
    },
    "kernelspec": {
      "name": "python3",
      "display_name": "Python 3"
    }
  },
  "cells": [
    {
      "cell_type": "markdown",
      "metadata": {
        "id": "view-in-github",
        "colab_type": "text"
      },
      "source": [
        "<a href=\"https://colab.research.google.com/github/YokoSSS/ProgrammingPython/blob/OUJ_%E3%83%97%E3%83%AD%E3%82%B0%E3%83%A9%E3%83%9F%E3%83%B3%E3%82%B0%E5%85%A5%E9%96%80%EF%BC%B0%EF%BD%99%EF%BD%94%EF%BD%88%EF%BD%8F%EF%BD%8E%EF%BC%88'24%EF%BC%89/%E3%83%97%E3%83%AD%E3%82%B0%E3%83%A9%E3%83%9F%E3%83%B3%E3%82%B0%E5%85%A5%E9%96%80%EF%BC%B0%EF%BD%99%EF%BD%94%EF%BD%88%EF%BD%8F%EF%BD%8E%EF%BC%88'24%EF%BC%89_35_1A_%E7%B7%B4%E7%BF%92%E5%95%8F%E9%A1%8C%E3%81%AE%E8%A7%A3%E7%AD%94_%E3%83%97%E3%83%AD%E3%82%B0%E3%83%A9%E3%83%9F%E3%83%B3%E3%82%B0%E5%85%A5%E9%96%80Python24.ipynb\" target=\"_parent\"><img src=\"https://colab.research.google.com/assets/colab-badge.svg\" alt=\"Open In Colab\"/></a>"
      ]
    },
    {
      "cell_type": "markdown",
      "metadata": {
        "id": "rtIwBxrqqx2w"
      },
      "source": [
        "# 練習問題の解答"
      ]
    },
    {
      "cell_type": "markdown",
      "source": [
        " * 左上の「ファイル」を開いて、「ドライブにコピーを保存」をしてください。\n",
        " * 自分のGoogleドライブに、そのファイルが保存されます。ファイル名は「のコピー」が、最後（右端）についています。それを利用して学習・演習を進めて下さい。"
      ],
      "metadata": {
        "id": "lm7oxHNx4rIf"
      }
    },
    {
      "cell_type": "markdown",
      "source": [
        "# 第3章"
      ],
      "metadata": {
        "id": "1XSXeYz5YTFT"
      }
    },
    {
      "cell_type": "markdown",
      "source": [
        "【問題】キーボードから、 100 以上の数が入力されるまで、止まらず入力を求め、100以上の数が入力されたら止まるプログラムを作れ。"
      ],
      "metadata": {
        "id": "NTKVAtoRbwc1"
      }
    },
    {
      "cell_type": "markdown",
      "source": [
        "解答例"
      ],
      "metadata": {
        "id": "HPBYqbF4iaZf"
      }
    },
    {
      "cell_type": "code",
      "source": [
        "# 最初に強制的に1回入力させる方針\n",
        "x = int(input(\"x?\"))\n",
        "while x < 100:\n",
        "    x= int(input(\"x?\"))"
      ],
      "metadata": {
        "id": "hjcHCwXtiPcS",
        "colab": {
          "base_uri": "https://localhost:8080/"
        },
        "outputId": "a65b0820-2934-426a-c669-9451e66735da"
      },
      "execution_count": 1,
      "outputs": [
        {
          "name": "stdout",
          "output_type": "stream",
          "text": [
            "x?3\n",
            "x?5\n",
            "x?1\n",
            "x?8\n",
            "x?2\n",
            "x?1\n",
            "x?100\n"
          ]
        }
      ]
    },
    {
      "cell_type": "code",
      "source": [
        "# 最初に条件が成立しない値を入力しておく方式\n",
        "key = 0\n",
        "while key < 100:\n",
        "    key = int(input(\"key?\"))"
      ],
      "metadata": {
        "id": "cZShw8WVRyvS",
        "colab": {
          "base_uri": "https://localhost:8080/"
        },
        "outputId": "10be3bf1-364e-4f82-d39e-9dd694270577"
      },
      "execution_count": 3,
      "outputs": [
        {
          "name": "stdout",
          "output_type": "stream",
          "text": [
            "key?5\n",
            "key?151\n"
          ]
        }
      ]
    },
    {
      "cell_type": "code",
      "source": [
        "# このプログラムはオマケ付き\n",
        "key = int(input(\"key?\"))\n",
        "\n",
        "while key < 100:\n",
        "    key = int(input(\"key?\"))\n",
        "\n",
        "print(\"end.\")"
      ],
      "metadata": {
        "id": "4r3rYyXqajQc",
        "colab": {
          "base_uri": "https://localhost:8080/"
        },
        "outputId": "f023c227-d0b7-435c-b384-201526c3efce"
      },
      "execution_count": 4,
      "outputs": [
        {
          "output_type": "stream",
          "name": "stdout",
          "text": [
            "key?12\n",
            "key?100\n",
            "end.\n"
          ]
        }
      ]
    },
    {
      "cell_type": "code",
      "source": [],
      "metadata": {
        "id": "MDQst1SNt5QK"
      },
      "execution_count": null,
      "outputs": []
    }
  ]
}