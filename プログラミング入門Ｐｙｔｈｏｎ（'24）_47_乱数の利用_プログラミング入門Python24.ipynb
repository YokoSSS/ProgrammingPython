{
  "nbformat": 4,
  "nbformat_minor": 0,
  "metadata": {
    "colab": {
      "provenance": [],
      "collapsed_sections": [
        "WX4sRVO63me5",
        "FnSBdgK-Bwtz"
      ],
      "include_colab_link": true
    },
    "kernelspec": {
      "name": "python3",
      "display_name": "Python 3"
    }
  },
  "cells": [
    {
      "cell_type": "markdown",
      "metadata": {
        "id": "view-in-github",
        "colab_type": "text"
      },
      "source": [
        "<a href=\"https://colab.research.google.com/github/YokoSSS/ProgrammingPython/blob/OUJ_%E3%83%97%E3%83%AD%E3%82%B0%E3%83%A9%E3%83%9F%E3%83%B3%E3%82%B0%E5%85%A5%E9%96%80%EF%BC%B0%EF%BD%99%EF%BD%94%EF%BD%88%EF%BD%8F%EF%BD%8E%EF%BC%88'24%EF%BC%89/%E3%83%97%E3%83%AD%E3%82%B0%E3%83%A9%E3%83%9F%E3%83%B3%E3%82%B0%E5%85%A5%E9%96%80%EF%BC%B0%EF%BD%99%EF%BD%94%EF%BD%88%EF%BD%8F%EF%BD%8E%EF%BC%88'24%EF%BC%89_47_%E4%B9%B1%E6%95%B0%E3%81%AE%E5%88%A9%E7%94%A8_%E3%83%97%E3%83%AD%E3%82%B0%E3%83%A9%E3%83%9F%E3%83%B3%E3%82%B0%E5%85%A5%E9%96%80Python24.ipynb\" target=\"_parent\"><img src=\"https://colab.research.google.com/assets/colab-badge.svg\" alt=\"Open In Colab\"/></a>"
      ]
    },
    {
      "cell_type": "markdown",
      "source": [
        "# 第4章 繰り返し、インデントスタイル、乱数"
      ],
      "metadata": {
        "id": "-fANuhIy_Omf"
      }
    },
    {
      "cell_type": "markdown",
      "source": [
        " * 左上の「ファイル」を開いて、「ドライブにコピーを保存」をしてください。\n",
        " * 自分のGoogleドライブに、そのファイルが保存されます。ファイル名は「のコピー」が、最後（右端）についています。それを利用して学習・演習を進めて下さい。"
      ],
      "metadata": {
        "id": "lm7oxHNx4rIf"
      }
    },
    {
      "cell_type": "markdown",
      "metadata": {
        "id": "j-h00uiMBOvd"
      },
      "source": [
        "# 4.7 乱数の利用"
      ]
    },
    {
      "cell_type": "markdown",
      "source": [
        "## 乱数とは"
      ],
      "metadata": {
        "id": "o6uJJwVWvp1g"
      }
    },
    {
      "cell_type": "markdown",
      "source": [
        "乱数とは、サイコロの目や、コインの表裏のように、「やってみないとわからない」値である。コンピュータの内部にある計算回路や、時計のデータなどを利用して求められる。\n",
        "\n",
        "乱数を使うと、ゲームができたり、後述するモンテカルロ法という計算方法を実現できる。"
      ],
      "metadata": {
        "id": "kd-0vN4q42AA"
      }
    },
    {
      "cell_type": "markdown",
      "source": [
        "### Python での乱数の利用、モジュールの利用"
      ],
      "metadata": {
        "id": "fS7OpV3-mY49"
      }
    },
    {
      "cell_type": "markdown",
      "source": [
        "Python では、乱数を利用するときは、乱数モジュール random の利用を宣言しておく必要がある。その後、random.random() で、0以上1未満の乱数を利用できる。以下では、 as rd でモジュールを導入しているので、 rd.random で呼び出す。"
      ],
      "metadata": {
        "id": "vh6gr1EambiU"
      }
    },
    {
      "cell_type": "code",
      "source": [
        "import random as rd\n",
        "print(rd.random())"
      ],
      "metadata": {
        "id": "0gGAwxCwm4qu",
        "colab": {
          "base_uri": "https://localhost:8080/"
        },
        "outputId": "0c29285e-8c1d-4e63-d451-7442cd963df2"
      },
      "execution_count": 1,
      "outputs": [
        {
          "output_type": "stream",
          "name": "stdout",
          "text": [
            "0.2356313654369927\n"
          ]
        }
      ]
    },
    {
      "cell_type": "markdown",
      "source": [
        "このあとに、次の表記で乱数を作ることができる。\n",
        "* rd.random()  → 0以上 1未満の数\n",
        "* rd.randint(a, b) → a以上 b以下の整数 **（b未満ではない）**"
      ],
      "metadata": {
        "id": "2SXhcl35nGmP"
      }
    },
    {
      "cell_type": "code",
      "source": [
        "import random as rd\n",
        "for _ in range(10):\n",
        "    print(rd.random())"
      ],
      "metadata": {
        "id": "b8DScNpDoKD8",
        "colab": {
          "base_uri": "https://localhost:8080/"
        },
        "outputId": "a7bf4cea-8094-48cd-ceda-66ae26d4efda"
      },
      "execution_count": 2,
      "outputs": [
        {
          "output_type": "stream",
          "name": "stdout",
          "text": [
            "0.35688353643097404\n",
            "0.7925342412909735\n",
            "0.9567932734805141\n",
            "0.7505810055547383\n",
            "0.5836090362042391\n",
            "0.9143981275592794\n",
            "0.4275177418266335\n",
            "0.4426611000861542\n",
            "0.6820006212800366\n",
            "0.4100416843785435\n"
          ]
        }
      ]
    },
    {
      "cell_type": "code",
      "source": [
        "import random as rd\n",
        "for _ in range(10):\n",
        "    print(rd.randint(0, 6))"
      ],
      "metadata": {
        "id": "5lOqfcawnXp_",
        "colab": {
          "base_uri": "https://localhost:8080/"
        },
        "outputId": "c1974593-56b5-4945-d622-ae3479e088b3"
      },
      "execution_count": 3,
      "outputs": [
        {
          "output_type": "stream",
          "name": "stdout",
          "text": [
            "4\n",
            "2\n",
            "6\n",
            "2\n",
            "2\n",
            "5\n",
            "3\n",
            "1\n",
            "4\n",
            "0\n"
          ]
        }
      ]
    },
    {
      "cell_type": "markdown",
      "source": [
        "### じゃんけんゲーム"
      ],
      "metadata": {
        "id": "Jk1Wfyo47WD8"
      }
    },
    {
      "cell_type": "markdown",
      "source": [
        "乱数を使ったじゃんけんゲームのプログラムを示す。\n",
        "\n",
        "* じゃんけんの手は3種類ある\n",
        "* te = (\"Gu\", \"Choki\", \"Pa\")　というタプルを定義しておくと、 te[0] が グー、te[1] がチョキ、te[2] がパーになる。\n",
        "* rd.randint(a, b)を利用する。a=0, b=2 とすべきだが、じゃんけんの手の種類が増えても大丈夫なように、2 ではなく、 len(te) - 1 にしておく。"
      ],
      "metadata": {
        "id": "WBKSyBNC7b5G"
      }
    },
    {
      "cell_type": "code",
      "source": [
        "import random as rd # 乱数を発生させる関数ライブラリを取り込む\n",
        "\n",
        "te = (\"Gu\", \"Choki\", \"Pa\") # じゃんけんの手の定義\n",
        "x = rd.randint(0, len(te) - 1) # 0 以上 2 以下の整数\n",
        "print(te[x]) # 手を表示する"
      ],
      "metadata": {
        "id": "4V0TAlJ9899h",
        "colab": {
          "base_uri": "https://localhost:8080/"
        },
        "outputId": "aad93fde-3a5e-4fba-88f0-5269d32261d9"
      },
      "execution_count": 5,
      "outputs": [
        {
          "output_type": "stream",
          "name": "stdout",
          "text": [
            "Choki\n"
          ]
        }
      ]
    },
    {
      "cell_type": "markdown",
      "source": [
        "### 確認問題\n",
        "\n",
        "じゃんけんの手を10回表示するプログラムを作れ。"
      ],
      "metadata": {
        "id": "M-P7wi5o-S6K"
      }
    },
    {
      "cell_type": "code",
      "source": [
        "import random as rd # 乱数を発生させる関数ライブラリを取り込む\n",
        "\n",
        "te = (\"Gu\", \"Choki\", \"Pa\") # じゃんけんの手の定義\n",
        "for _ in range(10):\n",
        "    x = rd.randint(0, len(te) - 1) # 0 以上 2 以下の整数\n",
        "    print(te[x]) # 手を表示する"
      ],
      "metadata": {
        "id": "LRuP-BzEJCp2",
        "colab": {
          "base_uri": "https://localhost:8080/"
        },
        "outputId": "bb87feab-bfd5-47dd-c369-55eeeb46f36d"
      },
      "execution_count": 7,
      "outputs": [
        {
          "output_type": "stream",
          "name": "stdout",
          "text": [
            "Gu\n",
            "Pa\n",
            "Gu\n",
            "Gu\n",
            "Pa\n",
            "Pa\n",
            "Gu\n",
            "Choki\n",
            "Pa\n",
            "Choki\n"
          ]
        }
      ]
    },
    {
      "cell_type": "markdown",
      "source": [
        "### 研究問題"
      ],
      "metadata": {
        "id": "SRue41pnlsgi"
      }
    },
    {
      "cell_type": "markdown",
      "source": [
        "乱数と、matplotlib を用いて、偶然性のある点と直線による図形を描いてみよ。"
      ],
      "metadata": {
        "id": "9IsJZbyKlvWU"
      }
    },
    {
      "cell_type": "markdown",
      "source": [
        "## テスト用に乱数の列を作る"
      ],
      "metadata": {
        "id": "y9bxv4FVlFV_"
      }
    },
    {
      "cell_type": "markdown",
      "source": [
        "リストの作り方を前提にすると、乱数の列を作ることができる。"
      ],
      "metadata": {
        "id": "4933kU6Roz1y"
      }
    },
    {
      "cell_type": "code",
      "source": [
        "import random as rd #動作テスト用に乱数ライブラリを使うので、先に宣言しておく\n",
        "\n",
        "kosu = 12 # データの個数\n",
        "min_r, max_r = 0, 9999 # 乱数で出したい範囲の最大と最小\n",
        "\n",
        "narabi = [0] * kosu # まず、リストを用意する。最初は 0 が並んでいる。\n",
        "\n",
        "# 乱数 randint で定まった値をリストのそれぞれに入れる\n",
        "for _ in range(kosu):\n",
        "    narabi[_] = rd.randint(min_r, max_r)\n",
        "print(narabi)"
      ],
      "metadata": {
        "id": "2Iq-ZMhnoxie",
        "colab": {
          "base_uri": "https://localhost:8080/"
        },
        "outputId": "9e47f72d-088a-4d3d-830a-4e68a924b8f8"
      },
      "execution_count": 8,
      "outputs": [
        {
          "output_type": "stream",
          "name": "stdout",
          "text": [
            "[7255, 6545, 4705, 5927, 4185, 1937, 8009, 6090, 3499, 9694, 9556, 2219]\n"
          ]
        }
      ]
    },
    {
      "cell_type": "markdown",
      "source": [
        "### リスト内包表記による乱数列の生成"
      ],
      "metadata": {
        "id": "fHVWXCbnEcFn"
      }
    },
    {
      "cell_type": "markdown",
      "source": [
        "リスト内包表記による乱数列の生成を行う。"
      ],
      "metadata": {
        "id": "U5zCivpwlKxF"
      }
    },
    {
      "cell_type": "code",
      "source": [
        "import random as rd #動作テスト用に乱数ライブラリを使うので、先に宣言しておく\n",
        "\n",
        "# 0以上999以下の乱数を kosu 個生成してリストにする\n",
        "kosu = 12\n",
        "min_r, max_r = 0, 999\n",
        "\n",
        "# min_r 以上 max_r以下の乱数を kosu個 生成する\n",
        "narabi = [rd.randint(min_r, max_r) for _ in range(kosu)]\n",
        "print(narabi)"
      ],
      "metadata": {
        "id": "uDjJLVhLlOVG",
        "colab": {
          "base_uri": "https://localhost:8080/"
        },
        "outputId": "01ff17aa-3901-4fb7-b7a7-9aacab46ebef"
      },
      "execution_count": 11,
      "outputs": [
        {
          "output_type": "stream",
          "name": "stdout",
          "text": [
            "[703, 830, 616, 246, 560, 305, 966, 921, 83, 129, 15, 314]\n"
          ]
        }
      ]
    },
    {
      "cell_type": "markdown",
      "source": [
        "このようにして作成された乱数の列を用いて、様々な実験を行うことができる。"
      ],
      "metadata": {
        "id": "ZJtAt6D9lcJi"
      }
    },
    {
      "cell_type": "code",
      "source": [
        "men = (\"そば\", \"うどん\", \"ラーメン\")\n",
        "\n",
        "gu = (\"きつね\", \"たぬき\", \"月見\")\n",
        "\n",
        "for m in men:\n",
        "\n",
        "    for g in gu:\n",
        "\n",
        "#        print(m + g)\n",
        "        print(g + m)"
      ],
      "metadata": {
        "colab": {
          "base_uri": "https://localhost:8080/"
        },
        "id": "RURDiMdYD-Ec",
        "outputId": "eaf9ed5a-c5c4-4fcb-8152-7ff0f155fe83"
      },
      "execution_count": 15,
      "outputs": [
        {
          "output_type": "stream",
          "name": "stdout",
          "text": [
            "きつねそば\n",
            "たぬきそば\n",
            "月見そば\n",
            "きつねうどん\n",
            "たぬきうどん\n",
            "月見うどん\n",
            "きつねラーメン\n",
            "たぬきラーメン\n",
            "月見ラーメン\n"
          ]
        }
      ]
    },
    {
      "cell_type": "code",
      "source": [
        "for i in range(3):\n",
        "\n",
        "    print(\"おはよう\", i)\n",
        "\n",
        "    print(\"おやすみ\", i)"
      ],
      "metadata": {
        "colab": {
          "base_uri": "https://localhost:8080/"
        },
        "id": "Fti-r_-GEDQ8",
        "outputId": "33fdb728-6ede-4c59-e44d-bcf463b8e2ae"
      },
      "execution_count": 17,
      "outputs": [
        {
          "output_type": "stream",
          "name": "stdout",
          "text": [
            "おはよう 0\n",
            "おやすみ 0\n",
            "おはよう 1\n",
            "おやすみ 1\n",
            "おはよう 2\n",
            "おやすみ 2\n"
          ]
        }
      ]
    },
    {
      "cell_type": "code",
      "source": [
        "x = int(input(\"x?\"))\n",
        "\n",
        "y = int(input(\"y?\"))\n",
        "\n",
        "for k in range(x, y, 7):\n",
        "\n",
        "    print(k)"
      ],
      "metadata": {
        "colab": {
          "base_uri": "https://localhost:8080/"
        },
        "id": "aMwvcreRFBLy",
        "outputId": "ea4cf641-41ec-4fab-b111-d5807962e7b8"
      },
      "execution_count": 44,
      "outputs": [
        {
          "output_type": "stream",
          "name": "stdout",
          "text": [
            "x?3\n",
            "y?24\n",
            "3\n",
            "10\n",
            "17\n"
          ]
        }
      ]
    },
    {
      "cell_type": "code",
      "source": [
        "# 硬貨の金額を定義する\n",
        "\n",
        "#koukalist = (1, 5, 10, 50, 100, 500)\n",
        "koukalist = (500, 100, 50, 10, 5, 1)\n",
        "\n",
        "# 金額を入力する\n",
        "\n",
        "p = int(input(\"how much?\"))\n",
        "\n",
        "for kouka in koukalist:\n",
        "\n",
        "    print(kouka, \" yen :\", p // kouka, \"mai\")\n",
        "\n",
        "    p = p % kouka\n"
      ],
      "metadata": {
        "colab": {
          "base_uri": "https://localhost:8080/"
        },
        "id": "TboODEUOFRmb",
        "outputId": "5f1afe39-889e-4300-a039-88e987778fe7"
      },
      "execution_count": 27,
      "outputs": [
        {
          "output_type": "stream",
          "name": "stdout",
          "text": [
            "how much?1234\n",
            "500  yen : 2 mai\n",
            "100  yen : 2 mai\n",
            "50  yen : 0 mai\n",
            "10  yen : 3 mai\n",
            "5  yen : 0 mai\n",
            "1  yen : 4 mai\n"
          ]
        }
      ]
    },
    {
      "cell_type": "code",
      "source": [
        "import random as rd # 乱数を発生させる関数ライブラリを取り込む\n",
        "\n",
        "#2\n",
        "\n",
        "moji = (\"A\", \"B\", \"C\", \"D\")\n",
        "\n",
        "#x = rd.randint(0, 4)\n",
        "x = rd.randint(0, 3)\n",
        "\n",
        "print(moji[x])"
      ],
      "metadata": {
        "colab": {
          "base_uri": "https://localhost:8080/"
        },
        "id": "sr77j6YwFyIX",
        "outputId": "1bdafe6a-a1ca-4d6f-d0fe-cf353cbde168"
      },
      "execution_count": 42,
      "outputs": [
        {
          "output_type": "stream",
          "name": "stdout",
          "text": [
            "B\n"
          ]
        }
      ]
    },
    {
      "cell_type": "code",
      "source": [],
      "metadata": {
        "id": "BNw00K8fGz4f"
      },
      "execution_count": 40,
      "outputs": []
    }
  ]
}