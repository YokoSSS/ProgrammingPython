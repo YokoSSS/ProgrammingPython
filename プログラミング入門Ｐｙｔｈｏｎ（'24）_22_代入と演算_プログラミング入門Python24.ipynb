{
  "nbformat": 4,
  "nbformat_minor": 0,
  "metadata": {
    "colab": {
      "provenance": [],
      "collapsed_sections": [
        "WX4sRVO63me5",
        "FnSBdgK-Bwtz"
      ],
      "include_colab_link": true
    },
    "kernelspec": {
      "name": "python3",
      "display_name": "Python 3"
    }
  },
  "cells": [
    {
      "cell_type": "markdown",
      "metadata": {
        "id": "view-in-github",
        "colab_type": "text"
      },
      "source": [
        "<a href=\"https://colab.research.google.com/github/YokoSSS/ProgrammingPython/blob/OUJ_%E3%83%97%E3%83%AD%E3%82%B0%E3%83%A9%E3%83%9F%E3%83%B3%E3%82%B0%E5%85%A5%E9%96%80%EF%BC%B0%EF%BD%99%EF%BD%94%EF%BD%88%EF%BD%8F%EF%BD%8E%EF%BC%88'24%EF%BC%89/%E3%83%97%E3%83%AD%E3%82%B0%E3%83%A9%E3%83%9F%E3%83%B3%E3%82%B0%E5%85%A5%E9%96%80%EF%BC%B0%EF%BD%99%EF%BD%94%EF%BD%88%EF%BD%8F%EF%BD%8E%EF%BC%88'24%EF%BC%89_22_%E4%BB%A3%E5%85%A5%E3%81%A8%E6%BC%94%E7%AE%97_%E3%83%97%E3%83%AD%E3%82%B0%E3%83%A9%E3%83%9F%E3%83%B3%E3%82%B0%E5%85%A5%E9%96%80Python24.ipynb\" target=\"_parent\"><img src=\"https://colab.research.google.com/assets/colab-badge.svg\" alt=\"Open In Colab\"/></a>"
      ]
    },
    {
      "cell_type": "markdown",
      "source": [
        "# 第2章 キーボードから入力、代入と演算、タプルとリスト"
      ],
      "metadata": {
        "id": "mHON3KhHJDNm"
      }
    },
    {
      "cell_type": "markdown",
      "source": [
        " * 左上の「ファイル」を開いて、「ドライブにコピーを保存」をしてください。\n",
        " * 自分のGoogleドライブに、そのファイルが保存されます。ファイル名は「のコピー」が、最後（右端）についています。それを利用して学習・演習を進めて下さい。"
      ],
      "metadata": {
        "id": "lm7oxHNx4rIf"
      }
    },
    {
      "cell_type": "markdown",
      "source": [],
      "metadata": {
        "id": "zirO6A8vDKZ6"
      }
    },
    {
      "cell_type": "markdown",
      "source": [
        "# 2.2 代入と演算"
      ],
      "metadata": {
        "id": "ZdYIGqmOg8lS"
      }
    },
    {
      "cell_type": "markdown",
      "source": [
        "## 算術演算子\n"
      ],
      "metadata": {
        "id": "N0ARE0rFBBMw"
      }
    },
    {
      "cell_type": "markdown",
      "source": [
        "Python の基本的な計算用の演算記号は、以下の通り。\n",
        "\n",
        "四則演算（既出） +, -, *, /\n",
        "\n",
        "その他\n",
        "* x // y　商（割り算を整数の範囲で行った結果）\n",
        "* x % y 　余り（剰余）\n",
        "* x ** y  　xのy乗（累乗）\n",
        "* abs(x) 　xの絶対値（大きさ）"
      ],
      "metadata": {
        "id": "bt7u_SLFlrNC"
      }
    },
    {
      "cell_type": "code",
      "source": [
        "# 70を8で割った値\n",
        "print(70 / 8)\n",
        "\n",
        "# 70を8で割った商\n",
        "print(70 // 8)\n",
        "\n",
        "# 70を8で割ったときの余り\n",
        "print(70 % 8)"
      ],
      "metadata": {
        "id": "qYNfrDAZhBdY",
        "colab": {
          "base_uri": "https://localhost:8080/"
        },
        "outputId": "85e95c39-4cd8-4326-da30-a7d0dab13c9e"
      },
      "execution_count": 2,
      "outputs": [
        {
          "output_type": "stream",
          "name": "stdout",
          "text": [
            "8.75\n",
            "8\n",
            "6\n"
          ]
        }
      ]
    },
    {
      "cell_type": "code",
      "source": [
        "# 2 の 100 乗を表示する\n",
        "n = 100\n",
        "print(2 ** n)"
      ],
      "metadata": {
        "id": "DIKmdGY4hXPb",
        "colab": {
          "base_uri": "https://localhost:8080/"
        },
        "outputId": "f22bfb30-6aec-4cf7-f2a4-5e036e5dbf8d"
      },
      "execution_count": 4,
      "outputs": [
        {
          "output_type": "stream",
          "name": "stdout",
          "text": [
            "1267650600228229401496703205376\n"
          ]
        }
      ]
    },
    {
      "cell_type": "code",
      "source": [
        "# 絶対値 absolute value を求める\n",
        "print(abs(4)) # 正の場合はそのまま\n",
        "print(abs(-7)) # 負の場合は、その値の -1 倍\n",
        "print(abs(0)) # 0 の絶対値は 0"
      ],
      "metadata": {
        "id": "TrIc6k10n3-q",
        "colab": {
          "base_uri": "https://localhost:8080/"
        },
        "outputId": "337793b7-4168-47ed-e48a-fdb771f1e153"
      },
      "execution_count": 5,
      "outputs": [
        {
          "output_type": "stream",
          "name": "stdout",
          "text": [
            "4\n",
            "7\n",
            "0\n"
          ]
        }
      ]
    },
    {
      "cell_type": "markdown",
      "source": [
        "###代入命令の向き\n",
        "\n",
        "Pythonに限らず、多くのプログラミング言語では、＝（イコール）の右側を計算した結果を、左側に代入する。"
      ],
      "metadata": {
        "id": "IkXPn4WTC0pN"
      }
    },
    {
      "cell_type": "code",
      "source": [
        "x = 3 + 4\n",
        "print(\"x =\", x)"
      ],
      "metadata": {
        "id": "gWVmkkfzDLpi",
        "colab": {
          "base_uri": "https://localhost:8080/"
        },
        "outputId": "406b1c06-4c8b-47d2-9a9b-a9d6b1223a34"
      },
      "execution_count": 6,
      "outputs": [
        {
          "output_type": "stream",
          "name": "stdout",
          "text": [
            "x = 7\n"
          ]
        }
      ]
    },
    {
      "cell_type": "markdown",
      "source": [
        "代入は、逆向きにはかけない。すなわち、左辺を計算して右辺に代入することはできない。"
      ],
      "metadata": {
        "id": "deSv_sDHJrm7"
      }
    },
    {
      "cell_type": "code",
      "source": [
        "# このプログラムはエラーになる\n",
        "3 + 4 = x\n",
        "print(\"x =\", x)"
      ],
      "metadata": {
        "id": "vn0-fl2kDOo1",
        "colab": {
          "base_uri": "https://localhost:8080/",
          "height": 106
        },
        "outputId": "1e2c532f-1b95-4a57-e636-19eb6de003a5"
      },
      "execution_count": 7,
      "outputs": [
        {
          "output_type": "error",
          "ename": "SyntaxError",
          "evalue": "cannot assign to expression here. Maybe you meant '==' instead of '='? (<ipython-input-7-d956982c4e94>, line 2)",
          "traceback": [
            "\u001b[0;36m  File \u001b[0;32m\"<ipython-input-7-d956982c4e94>\"\u001b[0;36m, line \u001b[0;32m2\u001b[0m\n\u001b[0;31m    3 + 4 = x\u001b[0m\n\u001b[0m    ^\u001b[0m\n\u001b[0;31mSyntaxError\u001b[0m\u001b[0;31m:\u001b[0m cannot assign to expression here. Maybe you meant '==' instead of '='?\n"
          ]
        }
      ]
    },
    {
      "cell_type": "markdown",
      "source": [
        "イコールの左の変数が右にも登場することがある。その場合は、右側は「現在の値」で、左側は「新しい値」となる。"
      ],
      "metadata": {
        "id": "ji2iooO7DYQH"
      }
    },
    {
      "cell_type": "code",
      "source": [
        "x = 1\n",
        "print(\"x =\", x)\n",
        "\n",
        "# 新しい x の値は、古い x の値に3を加えた値。つまり、ｘは3増える\n",
        "x = x + 3\n",
        "print(\"x =\", x)"
      ],
      "metadata": {
        "id": "39O8d4ksDhdO",
        "colab": {
          "base_uri": "https://localhost:8080/"
        },
        "outputId": "74a94f0a-2288-4e24-cc8b-5ce541327cd1"
      },
      "execution_count": 8,
      "outputs": [
        {
          "output_type": "stream",
          "name": "stdout",
          "text": [
            "x = 1\n",
            "x = 4\n"
          ]
        }
      ]
    },
    {
      "cell_type": "markdown",
      "source": [
        "### 演算結果を代入するときの記法"
      ],
      "metadata": {
        "id": "P9UA0cGfgu4w"
      }
    },
    {
      "cell_type": "markdown",
      "source": [
        "+= や、 -= という代入命令は、今の左辺の変数の値を、右辺の値だけ増減する。"
      ],
      "metadata": {
        "id": "XkqK7RKdDpWw"
      }
    },
    {
      "cell_type": "code",
      "source": [
        "x = 3\n",
        "print(x)\n",
        "x += 7\n",
        "print(x)\n",
        "x -= 4\n",
        "print(x)"
      ],
      "metadata": {
        "id": "Ta0aeLICDzT5",
        "colab": {
          "base_uri": "https://localhost:8080/"
        },
        "outputId": "a5cb4b03-f3a7-40a4-9c6d-75f151697123"
      },
      "execution_count": 9,
      "outputs": [
        {
          "output_type": "stream",
          "name": "stdout",
          "text": [
            "3\n",
            "10\n",
            "6\n"
          ]
        }
      ]
    },
    {
      "cell_type": "markdown",
      "source": [
        "+= を文字列に用いることもできる。"
      ],
      "metadata": {
        "id": "xb2hF_C3PCwU"
      }
    },
    {
      "cell_type": "code",
      "source": [
        "x = \"a\"\n",
        "print(x)\n",
        "x += \"b\"\n",
        "print(x)\n",
        "x += x\n",
        "print(x)"
      ],
      "metadata": {
        "id": "uwczvP8mPG_B",
        "colab": {
          "base_uri": "https://localhost:8080/"
        },
        "outputId": "c00b184e-52a3-4415-c430-70e6cd7ba64b"
      },
      "execution_count": 10,
      "outputs": [
        {
          "output_type": "stream",
          "name": "stdout",
          "text": [
            "a\n",
            "ab\n",
            "abab\n"
          ]
        }
      ]
    },
    {
      "cell_type": "markdown",
      "source": [
        "### 確認問題\n",
        "\n",
        "次のプログラムは、どのような内容を表示するか。実行前に予想してから、実行して確認せよ。"
      ],
      "metadata": {
        "id": "iOAzJFTFHYxd"
      }
    },
    {
      "cell_type": "code",
      "source": [
        "s = \"ABC\"\n",
        "s += s\n",
        "print(s)"
      ],
      "metadata": {
        "id": "CA52baiAHfj2",
        "colab": {
          "base_uri": "https://localhost:8080/"
        },
        "outputId": "884e5f1d-f271-47b6-ebf0-63fe9b15d16c"
      },
      "execution_count": 11,
      "outputs": [
        {
          "output_type": "stream",
          "name": "stdout",
          "text": [
            "ABCABC\n"
          ]
        }
      ]
    },
    {
      "cell_type": "code",
      "source": [
        "t = \"123\"\n",
        "t += t\n",
        "print(t)"
      ],
      "metadata": {
        "id": "_UUb5ioZHsKk",
        "colab": {
          "base_uri": "https://localhost:8080/"
        },
        "outputId": "f24a2b61-05f4-4ff6-c89c-16a3d4179232"
      },
      "execution_count": 12,
      "outputs": [
        {
          "output_type": "stream",
          "name": "stdout",
          "text": [
            "123123\n"
          ]
        }
      ]
    },
    {
      "cell_type": "code",
      "source": [
        "t = int(\"123\")\n",
        "t += t\n",
        "print(t)"
      ],
      "metadata": {
        "id": "x_WjNU3Juow0",
        "colab": {
          "base_uri": "https://localhost:8080/"
        },
        "outputId": "ec9409ac-f8a0-4fb8-a81e-2011e222ce7e"
      },
      "execution_count": 13,
      "outputs": [
        {
          "output_type": "stream",
          "name": "stdout",
          "text": [
            "246\n"
          ]
        }
      ]
    },
    {
      "cell_type": "markdown",
      "source": [
        "##入力によって動作がかわる例"
      ],
      "metadata": {
        "id": "Xc2uvBGGmA9g"
      }
    },
    {
      "cell_type": "markdown",
      "source": [
        "input 文と代入文を利用して、入力によって動作が変わる例を作成することができる。例えば、数 x を入力させて、 3 * x + １ の値を出力させるプログラムは、次のものとなる。"
      ],
      "metadata": {
        "id": "PSQcNYFaqHmI"
      }
    },
    {
      "cell_type": "code",
      "source": [
        "x = int(input(\"x?\"))\n",
        "print(3 * x + 1)"
      ],
      "metadata": {
        "id": "WlQwNsOnqmK8",
        "colab": {
          "base_uri": "https://localhost:8080/"
        },
        "outputId": "4935274e-b175-4a3a-f588-b6eda040b673"
      },
      "execution_count": 14,
      "outputs": [
        {
          "output_type": "stream",
          "name": "stdout",
          "text": [
            "x?44\n",
            "133\n"
          ]
        }
      ]
    },
    {
      "cell_type": "markdown",
      "source": [
        "## 練習問題（練習問題の正答は、別の[シート](https://colab.research.google.com/drive/10VBb0x3a54CYB09mpu6t0rttoY6jJhxO)にあります。）"
      ],
      "metadata": {
        "id": "ckwS1WyYVFFm"
      }
    },
    {
      "cell_type": "markdown",
      "source": [
        "【問題】2つの数値を入力させて、その和を表示するプログラムを作れ。"
      ],
      "metadata": {
        "id": "gE3opokjkFwP"
      }
    },
    {
      "cell_type": "code",
      "source": [
        "print(int(input(\"first?\")) + int(input(\"second?\")))"
      ],
      "metadata": {
        "id": "VvLoHaycuzhC",
        "colab": {
          "base_uri": "https://localhost:8080/"
        },
        "outputId": "97feda1b-1560-4d48-9a1a-bb2ac54f1988"
      },
      "execution_count": 15,
      "outputs": [
        {
          "output_type": "stream",
          "name": "stdout",
          "text": [
            "first?111\n",
            "second?222\n",
            "333\n"
          ]
        }
      ]
    },
    {
      "cell_type": "markdown",
      "source": [
        "## 練習問題（練習問題の正答は、別の[シート](https://colab.research.google.com/drive/1bfMXlCMSvB22y8N7v7e3ejByfE_2mkQ5)にあります。）"
      ],
      "metadata": {
        "id": "PnMCodqmWpep"
      }
    },
    {
      "cell_type": "markdown",
      "source": [
        "【問題】入力した整数の2乗を表示するプログラムを作れ。"
      ],
      "metadata": {
        "id": "vI5aZWWSCL60"
      }
    },
    {
      "cell_type": "code",
      "source": [
        "x = int(input(\"x?\"))\n",
        "y = x * x\n",
        "print(y)"
      ],
      "metadata": {
        "id": "CPC0VJSEu0XY",
        "colab": {
          "base_uri": "https://localhost:8080/"
        },
        "outputId": "68a0a1d0-3028-4049-ebe2-b439f2c495eb"
      },
      "execution_count": 16,
      "outputs": [
        {
          "output_type": "stream",
          "name": "stdout",
          "text": [
            "x?111\n",
            "12321\n"
          ]
        }
      ]
    },
    {
      "cell_type": "markdown",
      "source": [
        "# （次の教材）2.3 タプルとリスト\n",
        "* https://colab.research.google.com/drive/1jOqjHEjsEYfjfqv_c4-S8sKFyYMk99li"
      ],
      "metadata": {
        "id": "RNsEUXkENzq_"
      }
    }
  ]
}