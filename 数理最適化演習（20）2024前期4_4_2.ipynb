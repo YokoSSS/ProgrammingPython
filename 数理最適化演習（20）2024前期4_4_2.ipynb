{
  "cells": [
    {
      "cell_type": "markdown",
      "metadata": {
        "id": "view-in-github",
        "colab_type": "text"
      },
      "source": [
        "<a href=\"https://colab.research.google.com/github/YokoSSS/ProgrammingPython/blob/%E6%95%B0%E7%90%86%E6%9C%80%E9%81%A9%E5%8C%96%E6%BC%94%E7%BF%92(20)/%E6%95%B0%E7%90%86%E6%9C%80%E9%81%A9%E5%8C%96%E6%BC%94%E7%BF%92%EF%BC%8820%EF%BC%892024%E5%89%8D%E6%9C%9F4_4_2.ipynb\" target=\"_parent\"><img src=\"https://colab.research.google.com/assets/colab-badge.svg\" alt=\"Open In Colab\"/></a>"
      ]
    },
    {
      "cell_type": "markdown",
      "metadata": {
        "id": "ZOvdp0z4skjD"
      },
      "source": [
        "# PuLPモジュールを用いた割当問題の最適解の計算\n",
        "## Pandasを使用しない場合\n",
        "## PuLPモジュール読み込み"
      ]
    },
    {
      "cell_type": "code",
      "execution_count": 1,
      "metadata": {
        "colab": {
          "base_uri": "https://localhost:8080/"
        },
        "id": "V7OU3MpCskjF",
        "outputId": "88deb20b-b613-4ede-9d68-af1bee919b60"
      },
      "outputs": [
        {
          "output_type": "stream",
          "name": "stdout",
          "text": [
            "Collecting pulp\n",
            "  Downloading PuLP-2.8.0-py3-none-any.whl (17.7 MB)\n",
            "\u001b[2K     \u001b[90m━━━━━━━━━━━━━━━━━━━━━━━━━━━━━━━━━━━━━━━━\u001b[0m \u001b[32m17.7/17.7 MB\u001b[0m \u001b[31m18.2 MB/s\u001b[0m eta \u001b[36m0:00:00\u001b[0m\n",
            "\u001b[?25hInstalling collected packages: pulp\n",
            "Successfully installed pulp-2.8.0\n"
          ]
        }
      ],
      "source": [
        "# Install pulp package\n",
        "!pip install pulp\n",
        "\n",
        "import pulp"
      ]
    },
    {
      "cell_type": "markdown",
      "metadata": {
        "id": "dnU9EExTskjG"
      },
      "source": [
        "## 目的関数の係数を定義\n",
        "俳優と役を各々リストとして定義する．俳優は俳優1～俳優4なので，俳優の番号を並べたリストActor = [1,2,3,4]で表す．\n",
        "このリストを作るのに，\n",
        "    \n",
        "    Actor = [i+1 for i in range(4)]\n",
        "を用いている．\n",
        "range(4)は0から(4-1)の系列を生成する．\n",
        "役の番号を並べたリストも同様に作る．\n",
        "配役の評価値Cは，キーを(俳優,役)，値を評価値とする辞書として作成する．"
      ]
    },
    {
      "cell_type": "code",
      "execution_count": 2,
      "metadata": {
        "id": "JS162IgsskjH"
      },
      "outputs": [],
      "source": [
        "Actor = [i+1 for i in range(4)]\n",
        "Role = [j+1 for j in range(4)]\n",
        "C = {(1,1):3, (1,2):6, (1,3):9, (1,4):8, (2,1):6, (2,2):3, (2,3):2, (2,4):4, (3,1):9, (3,2):3, (3,3):2, (3,4):5, (4,1):6, (4,2):2, (4,3):3, (4,4):8}"
      ]
    },
    {
      "cell_type": "markdown",
      "metadata": {
        "id": "AvLmbrLmskjI"
      },
      "source": [
        "## 決定変数の定義\n",
        "(俳優,役)をキーとする辞書として定義する．決定変数は0/1の2値変数なので，cat=pulp.LpBinaryとする．\n",
        "ActorとRoleの要素の組み合わせに対して変数を定義するため，以下のように for による繰り返しを2重にする．"
      ]
    },
    {
      "cell_type": "code",
      "execution_count": 3,
      "metadata": {
        "id": "E44zqIdEskjI"
      },
      "outputs": [],
      "source": [
        "x ={(i,j):pulp.LpVariable(f'x{i}_{j}', cat=pulp.LpBinary) for i in Actor for j in Role}"
      ]
    },
    {
      "cell_type": "markdown",
      "metadata": {
        "id": "7c7ijRZFskjJ"
      },
      "source": [
        "## 問題の定義\n",
        "各決定変数に評価値を乗じて和をとる．決定変数はActorとRoleの要素の組み合わせに対応して定義されているので，総和を求めるにはpulp.lpSum()内で for による繰り返しを2重にする．\n",
        "\n",
        "各俳優が一役のみ演じる制約を設定する．\n",
        "for文で繰り返すことにより，俳優の数が増えたときには効率的な記述になる．\n",
        "同様に，各受取先の受取量を設定する．"
      ]
    },
    {
      "cell_type": "code",
      "execution_count": 4,
      "metadata": {
        "colab": {
          "base_uri": "https://localhost:8080/"
        },
        "id": "QtId6uWjskjJ",
        "outputId": "0af57139-fb4a-4a42-bb30-4e24dee0317d"
      },
      "outputs": [
        {
          "output_type": "execute_result",
          "data": {
            "text/plain": [
              "割り当て問題:\n",
              "MAXIMIZE\n",
              "3*x1_1 + 6*x1_2 + 9*x1_3 + 8*x1_4 + 6*x2_1 + 3*x2_2 + 2*x2_3 + 4*x2_4 + 9*x3_1 + 3*x3_2 + 2*x3_3 + 5*x3_4 + 6*x4_1 + 2*x4_2 + 3*x4_3 + 8*x4_4 + 0\n",
              "SUBJECT TO\n",
              "俳優1は一役を演じる制約: x1_1 + x1_2 + x1_3 + x1_4 = 1\n",
              "\n",
              "俳優2は一役を演じる制約: x2_1 + x2_2 + x2_3 + x2_4 = 1\n",
              "\n",
              "俳優3は一役を演じる制約: x3_1 + x3_2 + x3_3 + x3_4 = 1\n",
              "\n",
              "俳優4は一役を演じる制約: x4_1 + x4_2 + x4_3 + x4_4 = 1\n",
              "\n",
              "役1は一俳優が演じる制約: x1_1 + x2_1 + x3_1 + x4_1 = 1\n",
              "\n",
              "役2は一俳優が演じる制約: x1_2 + x2_2 + x3_2 + x4_2 = 1\n",
              "\n",
              "役3は一俳優が演じる制約: x1_3 + x2_3 + x3_3 + x4_3 = 1\n",
              "\n",
              "役4は一俳優が演じる制約: x1_4 + x2_4 + x3_4 + x4_4 = 1\n",
              "\n",
              "VARIABLES\n",
              "0 <= x1_1 <= 1 Integer\n",
              "0 <= x1_2 <= 1 Integer\n",
              "0 <= x1_3 <= 1 Integer\n",
              "0 <= x1_4 <= 1 Integer\n",
              "0 <= x2_1 <= 1 Integer\n",
              "0 <= x2_2 <= 1 Integer\n",
              "0 <= x2_3 <= 1 Integer\n",
              "0 <= x2_4 <= 1 Integer\n",
              "0 <= x3_1 <= 1 Integer\n",
              "0 <= x3_2 <= 1 Integer\n",
              "0 <= x3_3 <= 1 Integer\n",
              "0 <= x3_4 <= 1 Integer\n",
              "0 <= x4_1 <= 1 Integer\n",
              "0 <= x4_2 <= 1 Integer\n",
              "0 <= x4_3 <= 1 Integer\n",
              "0 <= x4_4 <= 1 Integer"
            ]
          },
          "metadata": {},
          "execution_count": 4
        }
      ],
      "source": [
        "p = pulp.LpProblem('割り当て問題', sense=pulp.LpMaximize)\n",
        "p += pulp.lpSum(C[(i,j)]*x[(i,j)] for i in Actor for j in Role), '目的関数　配役の評価値'\n",
        "\n",
        "for i in Actor:\n",
        "    p += pulp.lpSum(x[(i,j)] for j in Role) == 1, f'俳優{i}は一役を演じる制約'\n",
        "\n",
        "for j in Role:\n",
        "    p += pulp.lpSum(x[(i,j)] for i in Actor) == 1, f'役{j}は一俳優が演じる制約'\n",
        "p"
      ]
    },
    {
      "cell_type": "markdown",
      "metadata": {
        "id": "7QbT_dfCskjK"
      },
      "source": [
        "## 最適解の計算と結果の読み取り"
      ]
    },
    {
      "cell_type": "code",
      "execution_count": 5,
      "metadata": {
        "id": "y9nhildqskjK"
      },
      "outputs": [],
      "source": [
        "result = p.solve()"
      ]
    },
    {
      "cell_type": "code",
      "execution_count": 6,
      "metadata": {
        "colab": {
          "base_uri": "https://localhost:8080/",
          "height": 35
        },
        "id": "Xs1BZHzxskjK",
        "outputId": "49de7e97-193d-44a4-9beb-25cafd0c187b"
      },
      "outputs": [
        {
          "output_type": "execute_result",
          "data": {
            "text/plain": [
              "'Optimal'"
            ],
            "application/vnd.google.colaboratory.intrinsic+json": {
              "type": "string"
            }
          },
          "metadata": {},
          "execution_count": 6
        }
      ],
      "source": [
        "pulp.LpStatus[result]"
      ]
    },
    {
      "cell_type": "code",
      "execution_count": 7,
      "metadata": {
        "colab": {
          "base_uri": "https://localhost:8080/"
        },
        "id": "v8DztkXOskjL",
        "outputId": "aebc6db8-7c3f-4d30-b691-6ea0aa64809a"
      },
      "outputs": [
        {
          "output_type": "execute_result",
          "data": {
            "text/plain": [
              "29.0"
            ]
          },
          "metadata": {},
          "execution_count": 7
        }
      ],
      "source": [
        "pulp.value(p.objective)"
      ]
    },
    {
      "cell_type": "code",
      "execution_count": 8,
      "metadata": {
        "colab": {
          "base_uri": "https://localhost:8080/"
        },
        "id": "KllIT7bcskjL",
        "outputId": "91dd2755-1b7b-422f-bccf-e5492a292ce6"
      },
      "outputs": [
        {
          "output_type": "stream",
          "name": "stdout",
          "text": [
            "x1_3 = 1\n",
            "x2_2 = 1\n",
            "x3_1 = 1\n",
            "x4_4 = 1\n"
          ]
        }
      ],
      "source": [
        "for v in p.variables():\n",
        "    if pulp.value(v) > 0:\n",
        "        print(f'{v} = {pulp.value(v):.0f}')"
      ]
    },
    {
      "cell_type": "markdown",
      "metadata": {
        "id": "LOQGvJtQskjL"
      },
      "source": [
        "    if pulp.value(v) > 0:\n",
        "は，変数vの値が0より大きい場合のみ表示させるための条件である．\n",
        "最適解が x1_3 = 1, x2_2 = 1, x3_1 = 1, x4_4 = 1 となることから，俳優1が役3を，俳優2が役2を，俳優3が役1を，俳優4が役4を演じるのが評価がの和が最も高く，そのときの評価値の和は29である．"
      ]
    },
    {
      "cell_type": "code",
      "execution_count": null,
      "metadata": {
        "id": "qelaQEp0skjL"
      },
      "outputs": [],
      "source": []
    }
  ],
  "metadata": {
    "kernelspec": {
      "display_name": "Python 3",
      "language": "python",
      "name": "python3"
    },
    "language_info": {
      "codemirror_mode": {
        "name": "ipython",
        "version": 3
      },
      "file_extension": ".py",
      "mimetype": "text/x-python",
      "name": "python",
      "nbconvert_exporter": "python",
      "pygments_lexer": "ipython3",
      "version": "3.7.0"
    },
    "colab": {
      "provenance": [],
      "include_colab_link": true
    }
  },
  "nbformat": 4,
  "nbformat_minor": 0
}