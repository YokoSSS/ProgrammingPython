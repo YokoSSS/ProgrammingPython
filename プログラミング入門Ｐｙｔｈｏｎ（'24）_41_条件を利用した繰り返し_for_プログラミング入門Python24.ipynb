{
  "nbformat": 4,
  "nbformat_minor": 0,
  "metadata": {
    "colab": {
      "provenance": [],
      "collapsed_sections": [
        "WX4sRVO63me5",
        "FnSBdgK-Bwtz"
      ],
      "include_colab_link": true
    },
    "kernelspec": {
      "name": "python3",
      "display_name": "Python 3"
    }
  },
  "cells": [
    {
      "cell_type": "markdown",
      "metadata": {
        "id": "view-in-github",
        "colab_type": "text"
      },
      "source": [
        "<a href=\"https://colab.research.google.com/github/YokoSSS/ProgrammingPython/blob/OUJ_%E3%83%97%E3%83%AD%E3%82%B0%E3%83%A9%E3%83%9F%E3%83%B3%E3%82%B0%E5%85%A5%E9%96%80%EF%BC%B0%EF%BD%99%EF%BD%94%EF%BD%88%EF%BD%8F%EF%BD%8E%EF%BC%88'24%EF%BC%89/%E3%83%97%E3%83%AD%E3%82%B0%E3%83%A9%E3%83%9F%E3%83%B3%E3%82%B0%E5%85%A5%E9%96%80%EF%BC%B0%EF%BD%99%EF%BD%94%EF%BD%88%EF%BD%8F%EF%BD%8E%EF%BC%88'24%EF%BC%89_41_%E6%9D%A1%E4%BB%B6%E3%82%92%E5%88%A9%E7%94%A8%E3%81%97%E3%81%9F%E7%B9%B0%E3%82%8A%E8%BF%94%E3%81%97_for_%E3%83%97%E3%83%AD%E3%82%B0%E3%83%A9%E3%83%9F%E3%83%B3%E3%82%B0%E5%85%A5%E9%96%80Python24.ipynb\" target=\"_parent\"><img src=\"https://colab.research.google.com/assets/colab-badge.svg\" alt=\"Open In Colab\"/></a>"
      ]
    },
    {
      "cell_type": "markdown",
      "source": [
        "# 第4章 繰り返し、インデントスタイル、乱数"
      ],
      "metadata": {
        "id": "mHON3KhHJDNm"
      }
    },
    {
      "cell_type": "markdown",
      "source": [
        " * 左上の「ファイル」を開いて、「ドライブにコピーを保存」をしてください。\n",
        " * 自分のGoogleドライブに、そのファイルが保存されます。ファイル名は「のコピー」が、最後（右端）についています。それを利用して学習・演習を進めて下さい。"
      ],
      "metadata": {
        "id": "lm7oxHNx4rIf"
      }
    },
    {
      "cell_type": "markdown",
      "source": [
        "* for とタプルやリストをつかった繰り返し。\n",
        "* for と range を使った繰り返し。\n",
        "* インデントスタイル、多次元のタプル・リスト。\n",
        "* 乱数の考え方や、利用方法。"
      ],
      "metadata": {
        "id": "dbUMpRIX8ibJ"
      }
    },
    {
      "cell_type": "markdown",
      "source": [
        "# 4.1 条件を利用した繰り返し for"
      ],
      "metadata": {
        "id": "BhH6mow1Agb1"
      }
    },
    {
      "cell_type": "markdown",
      "source": [
        "## for とタプル・リストを利用した繰り返し"
      ],
      "metadata": {
        "id": "ahSMCOLOmrjP"
      }
    },
    {
      "cell_type": "markdown",
      "source": [
        "Python では、\n",
        "\n",
        "> for 変数名 in タプルあるいはリスト:\n",
        "\n",
        "という書き方を用いて繰り返しを行うことができる。\n",
        "\n",
        "* forの行の右端には、: （コロン）を書く。\n",
        "* 変数名は、この繰り返しのために利用する変数名となる。他で使われていない変数名を利用することが推奨される。\n",
        "* タプルあるいはリストの要素が、変数名に順番に代入されて、ブロックの中が実行される。"
      ],
      "metadata": {
        "id": "_EF4klaUcc_v"
      }
    },
    {
      "cell_type": "markdown",
      "source": [
        "次のプログラムは、トランプのカードの種類（スートという）をすべて表示する。"
      ],
      "metadata": {
        "id": "_xefZxVnY2t9"
      }
    },
    {
      "cell_type": "code",
      "source": [
        "# タプルを利用した繰り返し\n",
        "for suit in (\"スペード\", \"ハート\", \"ダイヤ\", \"クラブ\"):\n",
        "    print(suit)"
      ],
      "metadata": {
        "id": "yThSfUs-dHGO",
        "colab": {
          "base_uri": "https://localhost:8080/"
        },
        "outputId": "6ac78a3c-06e9-4dc3-9e04-b5693b9a3653"
      },
      "execution_count": 1,
      "outputs": [
        {
          "output_type": "stream",
          "name": "stdout",
          "text": [
            "スペード\n",
            "ハート\n",
            "ダイヤ\n",
            "クラブ\n"
          ]
        }
      ]
    },
    {
      "cell_type": "markdown",
      "source": [
        "繰り返しのタプルを別に定義してもよい。"
      ],
      "metadata": {
        "id": "bcSBtMQAacfP"
      }
    },
    {
      "cell_type": "code",
      "source": [
        "# タプルを利用した繰り返し\n",
        "colors = (\"Midori\", \"Kiiro\", \"Aka\")\n",
        "\n",
        "for color in colors:\n",
        "    print(color)"
      ],
      "metadata": {
        "id": "gCNbzRCZ0f7x",
        "colab": {
          "base_uri": "https://localhost:8080/"
        },
        "outputId": "df24b09c-107b-4602-f99c-08fc6c618bd7"
      },
      "execution_count": 2,
      "outputs": [
        {
          "output_type": "stream",
          "name": "stdout",
          "text": [
            "Midori\n",
            "Kiiro\n",
            "Aka\n"
          ]
        }
      ]
    },
    {
      "cell_type": "markdown",
      "source": [
        "繰り返しにはリストを利用することもできる。"
      ],
      "metadata": {
        "id": "alWKekgeY5vu"
      }
    },
    {
      "cell_type": "code",
      "source": [
        "# リストを利用した繰り返し\n",
        "Kisetsu = [\"Haru\", \"Natsu\", \"Aki\", \"Fuyu\"]\n",
        "\n",
        "for ima in Kisetsu:\n",
        "    print(ima)"
      ],
      "metadata": {
        "id": "vBppToIimvrW",
        "colab": {
          "base_uri": "https://localhost:8080/"
        },
        "outputId": "94752a95-150f-4569-92bf-981f96f660c4"
      },
      "execution_count": 3,
      "outputs": [
        {
          "output_type": "stream",
          "name": "stdout",
          "text": [
            "Haru\n",
            "Natsu\n",
            "Aki\n",
            "Fuyu\n"
          ]
        }
      ]
    },
    {
      "cell_type": "markdown",
      "source": [
        "次のプログラムでは、 for は繰り返しの部分となるブロックを探しているが、見つからないためエラーになる。（動作しない。）"
      ],
      "metadata": {
        "id": "q7SzwoN4YueA"
      }
    },
    {
      "cell_type": "code",
      "metadata": {
        "id": "tw3ZGwo5S0ZN",
        "colab": {
          "base_uri": "https://localhost:8080/",
          "height": 106
        },
        "outputId": "fa1491a1-3026-4e47-f16d-7b5261e68e98"
      },
      "source": [
        "for city in (\"Tokyo\", \"Chiba\", \"Yokohama\", \"Mito\", \"Oomiya\", \"Utsunomiya\", \"Maebashi\"):\n",
        "print(city, len(city)"
      ],
      "execution_count": 4,
      "outputs": [
        {
          "output_type": "error",
          "ename": "IndentationError",
          "evalue": "expected an indented block after 'for' statement on line 1 (<ipython-input-4-7cd3bb860dac>, line 2)",
          "traceback": [
            "\u001b[0;36m  File \u001b[0;32m\"<ipython-input-4-7cd3bb860dac>\"\u001b[0;36m, line \u001b[0;32m2\u001b[0m\n\u001b[0;31m    print(city, len(city)\u001b[0m\n\u001b[0m    ^\u001b[0m\n\u001b[0;31mIndentationError\u001b[0m\u001b[0;31m:\u001b[0m expected an indented block after 'for' statement on line 1\n"
          ]
        }
      ]
    },
    {
      "cell_type": "markdown",
      "source": [
        "## ネスト（for に for を入れる）"
      ],
      "metadata": {
        "id": "XvAErlF7YP-Z"
      }
    },
    {
      "cell_type": "markdown",
      "source": [
        "次のプログラムは、トランプのカードの数字（ランクという）をすべて、横向きに表示する。"
      ],
      "metadata": {
        "id": "hO3HTlkabLWP"
      }
    },
    {
      "cell_type": "code",
      "source": [
        "for rank in (\"A\", \"2\", \"3\", \"4\", \"5\", \"6\", \"7\", \"8\", \"9\", \"10\", \"J\", \"Q\", \"K\"):\n",
        "    print(rank + \" \", end=\"\")\n",
        "print(\"\") # 改行させるだけのために入れている"
      ],
      "metadata": {
        "id": "4PPGYOHpYjk0",
        "colab": {
          "base_uri": "https://localhost:8080/"
        },
        "outputId": "24935122-0acc-4d58-ba66-e6338094bb81"
      },
      "execution_count": 5,
      "outputs": [
        {
          "output_type": "stream",
          "name": "stdout",
          "text": [
            "A 2 3 4 5 6 7 8 9 10 J Q K \n"
          ]
        }
      ]
    },
    {
      "cell_type": "markdown",
      "source": [
        "そこで、このプログラムを、トランプのカードの種類（スート）ごとに繰り返させることを考える。"
      ],
      "metadata": {
        "id": "3TOvdAF-kYf-"
      }
    },
    {
      "cell_type": "markdown",
      "source": [
        "たとえば、次のプログラムを考えることができる。"
      ],
      "metadata": {
        "id": "cLlbtvAyZdpc"
      }
    },
    {
      "cell_type": "code",
      "source": [
        "# まずはスペードでランクを列挙\n",
        "for rank in (\"A\", \"2\", \"3\", \"4\", \"5\", \"6\", \"7\", \"8\", \"9\", \"10\", \"J\", \"Q\", \"K\"):\n",
        "    print(\"スペード\" + rank + \" \", end=\"\")\n",
        "print(\"\") # 改行させるだけのために入れている\n",
        "\n",
        "# 次にハートでランクを列挙\n",
        "for rank in (\"A\", \"2\", \"3\", \"4\", \"5\", \"6\", \"7\", \"8\", \"9\", \"10\", \"J\", \"Q\", \"K\"):\n",
        "    print(\"ハート\" + rank + \" \", end=\"\")\n",
        "print(\"\") # 改行させるだけのために入れている\n",
        "\n",
        "# そしてダイヤでランクを列挙\n",
        "for rank in (\"A\", \"2\", \"3\", \"4\", \"5\", \"6\", \"7\", \"8\", \"9\", \"10\", \"J\", \"Q\", \"K\"):\n",
        "    print(\"ダイヤ\" + rank + \" \", end=\"\")\n",
        "print(\"\") # 改行させるだけのために入れている\n",
        "\n",
        "# 最後はクラブでランクを列挙\n",
        "for rank in (\"A\", \"2\", \"3\", \"4\", \"5\", \"6\", \"7\", \"8\", \"9\", \"10\", \"J\", \"Q\", \"K\"):\n",
        "    print(\"クラブ\" + rank + \" \", end=\"\")\n",
        "print(\"\") # 改行させるだけのために入れている"
      ],
      "metadata": {
        "id": "p8Oe4T2dZeB3",
        "colab": {
          "base_uri": "https://localhost:8080/"
        },
        "outputId": "d4fbdf2f-d375-4412-f39e-46c1c3c07878"
      },
      "execution_count": 6,
      "outputs": [
        {
          "output_type": "stream",
          "name": "stdout",
          "text": [
            "スペードA スペード2 スペード3 スペード4 スペード5 スペード6 スペード7 スペード8 スペード9 スペード10 スペードJ スペードQ スペードK \n",
            "ハートA ハート2 ハート3 ハート4 ハート5 ハート6 ハート7 ハート8 ハート9 ハート10 ハートJ ハートQ ハートK \n",
            "ダイヤA ダイヤ2 ダイヤ3 ダイヤ4 ダイヤ5 ダイヤ6 ダイヤ7 ダイヤ8 ダイヤ9 ダイヤ10 ダイヤJ ダイヤQ ダイヤK \n",
            "クラブA クラブ2 クラブ3 クラブ4 クラブ5 クラブ6 クラブ7 クラブ8 クラブ9 クラブ10 クラブJ クラブQ クラブK \n"
          ]
        }
      ]
    },
    {
      "cell_type": "markdown",
      "source": [
        "しかし、この種類（スート）も繰り返しになっているので、for にまとめることができる。\n",
        "\n",
        "繰り返したい部分の「スペード」「ハート」「ダイヤ」「クラブ」の部分を変数名にして、さらに、繰り返し部分を4文字字下げして、for の繰り返しの中に for を入れることができる。"
      ],
      "metadata": {
        "id": "MxT_gZLVaDS8"
      }
    },
    {
      "cell_type": "code",
      "source": [
        "for suit in (\"スペード\", \"ハート\", \"ダイヤ\", \"クラブ\"):\n",
        "    for rank in (\"A\", \"2\", \"3\", \"4\", \"5\", \"6\", \"7\", \"8\", \"9\", \"10\", \"J\", \"Q\", \"K\"):\n",
        "        print(suit + rank + \" \", end=\"\")\n",
        "    print(\"\") # 改行させるだけのために入れている"
      ],
      "metadata": {
        "id": "L5_3kIs7dkm7",
        "colab": {
          "base_uri": "https://localhost:8080/"
        },
        "outputId": "b01dd165-c274-49ce-f16a-781b77a8b975"
      },
      "execution_count": 7,
      "outputs": [
        {
          "output_type": "stream",
          "name": "stdout",
          "text": [
            "スペードA スペード2 スペード3 スペード4 スペード5 スペード6 スペード7 スペード8 スペード9 スペード10 スペードJ スペードQ スペードK \n",
            "ハートA ハート2 ハート3 ハート4 ハート5 ハート6 ハート7 ハート8 ハート9 ハート10 ハートJ ハートQ ハートK \n",
            "ダイヤA ダイヤ2 ダイヤ3 ダイヤ4 ダイヤ5 ダイヤ6 ダイヤ7 ダイヤ8 ダイヤ9 ダイヤ10 ダイヤJ ダイヤQ ダイヤK \n",
            "クラブA クラブ2 クラブ3 クラブ4 クラブ5 クラブ6 クラブ7 クラブ8 クラブ9 クラブ10 クラブJ クラブQ クラブK \n"
          ]
        }
      ]
    },
    {
      "cell_type": "markdown",
      "source": [
        "このように、for の繰り返しの中に for を入れることを「for のネスト（入れ子）」という。"
      ],
      "metadata": {
        "id": "G41BfWMeZaZT"
      }
    },
    {
      "cell_type": "markdown",
      "source": [
        "なお、タプルの部分が長いので、最初に定義しておくとスッキリして見易くなる。"
      ],
      "metadata": {
        "id": "a4In0rZkdwON"
      }
    },
    {
      "cell_type": "code",
      "source": [
        "suits_list = (\"スペード\", \"ハート\", \"ダイヤ\", \"クラブ\")\n",
        "ranks_list = (\"A\", \"2\", \"3\", \"4\", \"5\", \"6\", \"7\", \"8\", \"9\", \"10\", \"J\", \"Q\", \"K\")\n",
        "\n",
        "for suit in suits_list:\n",
        "    for rank in ranks_list:\n",
        "        print(suit + rank + \" \", end=\"\")\n",
        "    print(\"\") # 改行させるだけのために入れている"
      ],
      "metadata": {
        "id": "oGwIva-ddmPY",
        "colab": {
          "base_uri": "https://localhost:8080/"
        },
        "outputId": "3d34b763-6647-414b-89bb-5cde8be98c0a"
      },
      "execution_count": 8,
      "outputs": [
        {
          "output_type": "stream",
          "name": "stdout",
          "text": [
            "スペードA スペード2 スペード3 スペード4 スペード5 スペード6 スペード7 スペード8 スペード9 スペード10 スペードJ スペードQ スペードK \n",
            "ハートA ハート2 ハート3 ハート4 ハート5 ハート6 ハート7 ハート8 ハート9 ハート10 ハートJ ハートQ ハートK \n",
            "ダイヤA ダイヤ2 ダイヤ3 ダイヤ4 ダイヤ5 ダイヤ6 ダイヤ7 ダイヤ8 ダイヤ9 ダイヤ10 ダイヤJ ダイヤQ ダイヤK \n",
            "クラブA クラブ2 クラブ3 クラブ4 クラブ5 クラブ6 クラブ7 クラブ8 クラブ9 クラブ10 クラブJ クラブQ クラブK \n"
          ]
        }
      ]
    },
    {
      "cell_type": "markdown",
      "source": [
        "### 確認問題　（確認問題の正答はありません。授業中に提示します）"
      ],
      "metadata": {
        "id": "hbswEJK3Gv9m"
      }
    },
    {
      "cell_type": "markdown",
      "source": [
        "次のプログラム（上のプログラムの4行目と5行目が異なっている）は、どのように表示をするか。実行する前に、よく考えて、その後、実行してから確認せよ。"
      ],
      "metadata": {
        "id": "IJxEqwbGmCN2"
      }
    },
    {
      "cell_type": "code",
      "source": [
        "suits_list = (\"スペード\", \"ハート\", \"ダイヤ\", \"クラブ\")\n",
        "ranks_list = (\"A\", \"2\", \"3\", \"4\", \"5\", \"6\", \"7\", \"8\", \"9\", \"10\", \"J\", \"Q\", \"K\")\n",
        "\n",
        "for rank in ranks_list:\n",
        "    for suit in suits_list:\n",
        "        print(suit + rank, \"\", end=\"\")\n",
        "    print(\"\") # 改行させるだけのために入れている"
      ],
      "metadata": {
        "id": "5-t3ZYw_mBh_",
        "colab": {
          "base_uri": "https://localhost:8080/"
        },
        "outputId": "c1614462-e520-4427-b2ba-820091847564"
      },
      "execution_count": 9,
      "outputs": [
        {
          "output_type": "stream",
          "name": "stdout",
          "text": [
            "スペードA ハートA ダイヤA クラブA \n",
            "スペード2 ハート2 ダイヤ2 クラブ2 \n",
            "スペード3 ハート3 ダイヤ3 クラブ3 \n",
            "スペード4 ハート4 ダイヤ4 クラブ4 \n",
            "スペード5 ハート5 ダイヤ5 クラブ5 \n",
            "スペード6 ハート6 ダイヤ6 クラブ6 \n",
            "スペード7 ハート7 ダイヤ7 クラブ7 \n",
            "スペード8 ハート8 ダイヤ8 クラブ8 \n",
            "スペード9 ハート9 ダイヤ9 クラブ9 \n",
            "スペード10 ハート10 ダイヤ10 クラブ10 \n",
            "スペードJ ハートJ ダイヤJ クラブJ \n",
            "スペードQ ハートQ ダイヤQ クラブQ \n",
            "スペードK ハートK ダイヤK クラブK \n"
          ]
        }
      ]
    },
    {
      "cell_type": "markdown",
      "source": [
        "# 次の教材\n",
        "\n",
        "4.2 条件を利用した繰り返し for と range\n",
        "* https://colab.research.google.com/drive/1n4LYls32S-lNS8GOUv8hDGjWOdMmE4PO"
      ],
      "metadata": {
        "id": "mDmSkfxnQg_E"
      }
    }
  ]
}