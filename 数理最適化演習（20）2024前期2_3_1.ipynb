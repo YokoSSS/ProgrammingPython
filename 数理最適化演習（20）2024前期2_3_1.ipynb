{
  "cells": [
    {
      "cell_type": "markdown",
      "metadata": {
        "id": "view-in-github",
        "colab_type": "text"
      },
      "source": [
        "<a href=\"https://colab.research.google.com/github/YokoSSS/ProgrammingPython/blob/%E6%95%B0%E7%90%86%E6%9C%80%E9%81%A9%E5%8C%96%E6%BC%94%E7%BF%92(20)/%E6%95%B0%E7%90%86%E6%9C%80%E9%81%A9%E5%8C%96%E6%BC%94%E7%BF%92%EF%BC%8820%EF%BC%892024%E5%89%8D%E6%9C%9F2_3_1.ipynb\" target=\"_parent\"><img src=\"https://colab.research.google.com/assets/colab-badge.svg\" alt=\"Open In Colab\"/></a>"
      ]
    },
    {
      "cell_type": "markdown",
      "metadata": {
        "id": "bpJe5Hfw-9EN"
      },
      "source": [
        "## PuLPモジュール読み込み"
      ]
    },
    {
      "cell_type": "code",
      "execution_count": null,
      "metadata": {
        "colab": {
          "base_uri": "https://localhost:8080/"
        },
        "id": "b315dG98-9EV",
        "outputId": "fe81c104-22fd-41ec-c239-82465f6de353"
      },
      "outputs": [
        {
          "output_type": "stream",
          "name": "stdout",
          "text": [
            "Collecting pulp\n",
            "  Downloading PuLP-2.8.0-py3-none-any.whl (17.7 MB)\n",
            "\u001b[2K     \u001b[90m━━━━━━━━━━━━━━━━━━━━━━━━━━━━━━━━━━━━━━━━\u001b[0m \u001b[32m17.7/17.7 MB\u001b[0m \u001b[31m40.9 MB/s\u001b[0m eta \u001b[36m0:00:00\u001b[0m\n",
            "\u001b[?25hInstalling collected packages: pulp\n",
            "Successfully installed pulp-2.8.0\n"
          ]
        }
      ],
      "source": [
        "# Install pulp package\n",
        "!pip install pulp\n",
        "import pulp"
      ]
    },
    {
      "cell_type": "markdown",
      "metadata": {
        "id": "GeyORq4M-9EY"
      },
      "source": [
        "## 決定変数の定義"
      ]
    },
    {
      "cell_type": "code",
      "execution_count": null,
      "metadata": {
        "id": "2FBCfrFd-9EZ"
      },
      "outputs": [],
      "source": [
        "x1 = pulp.LpVariable('x1', 0) # 決定変数 x1 >= 0\n",
        "x2 = pulp.LpVariable('x2', 0) # 決定変数 x2 >= 0"
      ]
    },
    {
      "cell_type": "markdown",
      "metadata": {
        "id": "16MYQbdw-9Ea"
      },
      "source": [
        "## 問題の定義"
      ]
    },
    {
      "cell_type": "code",
      "execution_count": null,
      "metadata": {
        "colab": {
          "base_uri": "https://localhost:8080/"
        },
        "id": "Ovg8yJP_-9Eb",
        "outputId": "1064f7ed-66ec-4b1a-85e3-4b9c48dfb105"
      },
      "outputs": [
        {
          "output_type": "execute_result",
          "data": {
            "text/plain": [
              "食事問題:\n",
              "MINIMIZE\n",
              "12*x1 + 15*x2 + 0\n",
              "SUBJECT TO\n",
              "栄養素Aの必要摂取量: 3 x1 + 2 x2 >= 200\n",
              "\n",
              "栄養素Bの必要摂取量: x1 + 5 x2 >= 160\n",
              "\n",
              "栄養素Cの必要摂取量: 4 x1 + 3 x2 >= 250\n",
              "\n",
              "VARIABLES\n",
              "x1 Continuous\n",
              "x2 Continuous"
            ]
          },
          "metadata": {},
          "execution_count": 4
        }
      ],
      "source": [
        "p = pulp.LpProblem('食事問題', sense=pulp.LpMinimize) # 最小化問題\n",
        "p += 12*x1 + 15*x2, '目的関数　価格'\n",
        "p += 3*x1 + 2*x2 >= 200, '栄養素Aの必要摂取量'\n",
        "p += x1 + 5*x2 >= 160, '栄養素Bの必要摂取量'\n",
        "p += 4*x1 + 3*x2 >= 250, '栄養素Cの必要摂取量'\n",
        "p"
      ]
    },
    {
      "cell_type": "markdown",
      "metadata": {
        "id": "Q2-gkIaS-9Ef"
      },
      "source": [
        "## 最適解の計算と結果の読み取り"
      ]
    },
    {
      "cell_type": "code",
      "execution_count": null,
      "metadata": {
        "id": "T5Y0N6xK-9Eh"
      },
      "outputs": [],
      "source": [
        "# 最適解を計算\n",
        "result = p.solve()"
      ]
    },
    {
      "cell_type": "code",
      "execution_count": null,
      "metadata": {
        "colab": {
          "base_uri": "https://localhost:8080/",
          "height": 35
        },
        "id": "j8h7oDXs-9Ei",
        "outputId": "12bdccbf-5345-4868-9975-bfdc94dd7337"
      },
      "outputs": [
        {
          "output_type": "execute_result",
          "data": {
            "text/plain": [
              "'Optimal'"
            ],
            "application/vnd.google.colaboratory.intrinsic+json": {
              "type": "string"
            }
          },
          "metadata": {},
          "execution_count": 6
        }
      ],
      "source": [
        "# 最適解は得られたか？\n",
        "pulp.LpStatus[result]"
      ]
    },
    {
      "cell_type": "markdown",
      "metadata": {
        "id": "QD30EetB-9Ej"
      },
      "source": [
        "'Optimal'なので最適解が得られた．"
      ]
    },
    {
      "cell_type": "code",
      "execution_count": null,
      "metadata": {
        "id": "W2kFoU14-9Ek",
        "outputId": "8bad858f-e97c-4981-c715-381ed0e66b4d"
      },
      "outputs": [
        {
          "data": {
            "text/plain": [
              "950.7692340000001"
            ]
          },
          "execution_count": 6,
          "metadata": {},
          "output_type": "execute_result"
        }
      ],
      "source": [
        "# 目的関数の最適値\n",
        "pulp.value(p.objective)"
      ]
    },
    {
      "cell_type": "code",
      "execution_count": null,
      "metadata": {
        "id": "ydZu3x6n-9El",
        "outputId": "4818363f-10b0-47a6-9afb-7ccd022addf2"
      },
      "outputs": [
        {
          "name": "stdout",
          "output_type": "stream",
          "text": [
            "x1 = 52.307692\n",
            "x2 = 21.538462\n"
          ]
        }
      ],
      "source": [
        "# 最適解\n",
        "for v in p.variables():\n",
        "    print(f'{v} = {pulp.value(v)}')"
      ]
    }
  ],
  "metadata": {
    "kernelspec": {
      "display_name": "Python 3",
      "language": "python",
      "name": "python3"
    },
    "language_info": {
      "codemirror_mode": {
        "name": "ipython",
        "version": 3
      },
      "file_extension": ".py",
      "mimetype": "text/x-python",
      "name": "python",
      "nbconvert_exporter": "python",
      "pygments_lexer": "ipython3",
      "version": "3.7.0"
    },
    "colab": {
      "provenance": [],
      "include_colab_link": true
    }
  },
  "nbformat": 4,
  "nbformat_minor": 0
}