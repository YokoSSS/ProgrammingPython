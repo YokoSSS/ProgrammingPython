{
  "nbformat": 4,
  "nbformat_minor": 0,
  "metadata": {
    "colab": {
      "provenance": [],
      "collapsed_sections": [
        "WX4sRVO63me5",
        "FnSBdgK-Bwtz"
      ],
      "include_colab_link": true
    },
    "kernelspec": {
      "name": "python3",
      "display_name": "Python 3"
    }
  },
  "cells": [
    {
      "cell_type": "markdown",
      "metadata": {
        "id": "view-in-github",
        "colab_type": "text"
      },
      "source": [
        "<a href=\"https://colab.research.google.com/github/YokoSSS/ProgrammingPython/blob/OUJ_%E3%83%97%E3%83%AD%E3%82%B0%E3%83%A9%E3%83%9F%E3%83%B3%E3%82%B0%E5%85%A5%E9%96%80%EF%BC%B0%EF%BD%99%EF%BD%94%EF%BD%88%EF%BD%8F%EF%BD%8E%EF%BC%88'24%EF%BC%89/%E3%83%97%E3%83%AD%E3%82%B0%E3%83%A9%E3%83%9F%E3%83%B3%E3%82%B0%E5%85%A5%E9%96%80%EF%BC%B0%EF%BD%99%EF%BD%94%EF%BD%88%EF%BD%8F%EF%BD%8E%EF%BC%88'24%EF%BC%89_23_%E3%82%BF%E3%83%97%E3%83%AB%E3%81%A8%E3%83%AA%E3%82%B9%E3%83%88_%E3%83%97%E3%83%AD%E3%82%B0%E3%83%A9%E3%83%9F%E3%83%B3%E3%82%B0%E5%85%A5%E9%96%80Python24.ipynb\" target=\"_parent\"><img src=\"https://colab.research.google.com/assets/colab-badge.svg\" alt=\"Open In Colab\"/></a>"
      ]
    },
    {
      "cell_type": "markdown",
      "source": [
        "# 第2章 キーボードから入力、代入と演算、タプルとリスト"
      ],
      "metadata": {
        "id": "mHON3KhHJDNm"
      }
    },
    {
      "cell_type": "markdown",
      "source": [
        " * 左上の「ファイル」を開いて、「ドライブにコピーを保存」をしてください。\n",
        " * 自分のGoogleドライブに、そのファイルが保存されます。ファイル名は「のコピー」が、最後（右端）についています。それを利用して学習・演習を進めて下さい。"
      ],
      "metadata": {
        "id": "lm7oxHNx4rIf"
      }
    },
    {
      "cell_type": "markdown",
      "metadata": {
        "id": "DLwzn2cF0Ldr"
      },
      "source": [
        "# 2.3 タプルとリスト"
      ]
    },
    {
      "cell_type": "markdown",
      "source": [
        "## 添字（インデックス）の導入"
      ],
      "metadata": {
        "id": "_0SZ5PyD8y6F"
      }
    },
    {
      "cell_type": "markdown",
      "metadata": {
        "id": "hUJJqc2m0oC6"
      },
      "source": [
        "プログラムを作成するときに、どの変数を使うかが最初から固定されていると、実用上は困ることが発生する。\n",
        "\n",
        "例えば、 $a,\\ b,\\ c$ という3つの変数を、小さい順に並べる、ということを考える。\n",
        "* もし、 $ a > b $ ならば、$ a $ の値と $ b $ の値を交換する。\n",
        "* もし、 $ b > c $ ならば、$ b $ の値と $ c $ の値を交換する。（この時点で $c$ が最大となる）\n",
        "* もし、 $ a > b $ ならば、$ a $ の値と $ b $ の値を交換する。\n",
        "\n",
        "この3つの手順は、あくまでも変数の個数が3つのときに有効な方法である。ここで、4つ目の変数 $ d $ が登場したとき、どうすればいいだろうか。\n",
        "* もし、 $ a > b $ ならば、$ a $ の値と $ b $ の値を交換する。\n",
        "* もし、 $ b > c $ ならば、$ b $ の値と $ c $ の値を交換する。\n",
        "* もし、 $ c > d $ ならば、$ c $ の値と $ d $ の値を交換する。（この時点で $d$ が最大となる）\n",
        "* もし、 $ a > b $ ならば、$ a $ の値と $ b $ の値を交換する。\n",
        "* もし、 $ b > c $ ならば、$ b $ の値と $ c $ の値を交換する。（この時点で $c$ が2番めに大きな値となる）\n",
        "* もし、 $ a > b $ ならば、$ a $ の値と $ b $ の値を交換する。\n",
        "\n",
        "このように、とても複雑な手順になるばかりでなく、整列させたい変数の個数に応じて、プログラムを作る必要が生じることになる。\n",
        "\n",
        "このようなことを防ぐために、いくつかの変数を順番に並べて、番号で呼び出すとよい。これは数学の「数列」と、ほぼ同じである。\n",
        "\n",
        "例えば、数列 $ a_0,\\ a_1,\\ a_2,\\ \\cdots,\\ a_{N-1} $ の $N$ 個の数を考える。\n",
        "\n",
        "これらを小さい順に並べるには、\n",
        "\n",
        "* $i=1,\\ 2,\\ \\cdots,\\ N-1$ について\n",
        "  * $ a_{i} > a_{i+1} $ ならば、それらの値を交換する。\n",
        "\n",
        "と、簡単に書くことができる。$ i=N-1 $ での交換が終わったら、その時点で、$a_{N-1} $ の値は、最初に並んでいた数の最大となる。\n",
        "\n",
        "このように、たくさんの数に順番を付けて並べることで、処理を簡単に書くことができるようになる。\n",
        "\n",
        "このときの i のことを、**添字（インデックス、 index ）** という。"
      ]
    },
    {
      "cell_type": "markdown",
      "source": [
        "### 添字の書き方"
      ],
      "metadata": {
        "id": "tGwJDdUr_IPk"
      }
    },
    {
      "cell_type": "markdown",
      "source": [
        "Python では、添字を使う変数の書き方は、次のとおりである。\n",
        "\n",
        "> a[0], a[1], a[2],....\n",
        "\n",
        "この例では、変数名は a である。Pythonを含む多くのプログラミング言語では、変数の添字は $0$ から始まり、 zero-base （0-base）である。（一部のプログラミング言語では、添字を $1$ から始める one-base である。）\n",
        "\n",
        "また、このとき、数学の数列と異なり、長さは有限である。"
      ],
      "metadata": {
        "id": "hCfilPdH3BnK"
      }
    },
    {
      "cell_type": "markdown",
      "source": [
        "以下では、Python で、この機能を実現する2種類のデータ型「タプル」と「リスト」について述べる。（なお、以下では、hoge という名を利用するが、この hoge とは「仮の名前である」という意味のときに使われる。「某」などと同じである。よく使われる仮の名前には、foo, bar, hoge, fuga, ugo などが用いられることが多い。）"
      ],
      "metadata": {
        "id": "JHue_M1H0oC6"
      }
    },
    {
      "cell_type": "markdown",
      "source": [
        "## タプル"
      ],
      "metadata": {
        "id": "qNUoTztp0YAW"
      }
    },
    {
      "cell_type": "markdown",
      "source": [
        "タプルは、Python で添字を使う最も簡単なデータ型である。データをカンマで区切り、そのまま、あるいは(丸括弧)ではさんで定義・使用（参照）する。"
      ],
      "metadata": {
        "id": "wj20ijbesZFs"
      }
    },
    {
      "cell_type": "code",
      "source": [
        "# タプル hoge の定義\n",
        "hoge = (31, 28, 31, 30, 31, 30, 31, 31, 30, 31, 30)\n",
        "\n",
        "print(hoge) # hoge を表示\n",
        "print(hoge[1]) # hoge の1番目を表示"
      ],
      "metadata": {
        "id": "EQWFPMuD0oC6",
        "colab": {
          "base_uri": "https://localhost:8080/"
        },
        "outputId": "f6e9b91b-e79e-4de3-9af6-e7511b2a6883"
      },
      "execution_count": 1,
      "outputs": [
        {
          "output_type": "stream",
          "name": "stdout",
          "text": [
            "(31, 28, 31, 30, 31, 30, 31, 31, 30, 31, 30)\n",
            "28\n"
          ]
        }
      ]
    },
    {
      "cell_type": "code",
      "source": [
        "# 並べただけのタプル\n",
        "arekore = \"are\", \"kore\", \"sore\", \"dore\"\n",
        "print(arekore)\n",
        "print(arekore[2]) # 添字（インデックス）は 0 から始まる"
      ],
      "metadata": {
        "id": "VE-uTA4zDkca",
        "colab": {
          "base_uri": "https://localhost:8080/"
        },
        "outputId": "839e6235-2e9a-406a-ac06-13d034f3abdf"
      },
      "execution_count": 2,
      "outputs": [
        {
          "output_type": "stream",
          "name": "stdout",
          "text": [
            "('are', 'kore', 'sore', 'dore')\n",
            "sore\n"
          ]
        }
      ]
    },
    {
      "cell_type": "code",
      "source": [
        "# 丸括弧をつかったタプル\n",
        "youbi_tuple = (\"getsu\", \"ka\", \"sui\", \"moku\", \"kin\", \"do\", \"nichi\")\n",
        "print(youbi_tuple)\n",
        "\n",
        "# 定義時に丸括弧を使っていれば、繰り返しもできる\n",
        "nisyu = (youbi_tuple) * 2\n",
        "print(nisyu)"
      ],
      "metadata": {
        "id": "Fg1o6lAjsKpH",
        "colab": {
          "base_uri": "https://localhost:8080/"
        },
        "outputId": "2c812cbd-881e-4a33-82f7-1a02a15645c5"
      },
      "execution_count": 3,
      "outputs": [
        {
          "output_type": "stream",
          "name": "stdout",
          "text": [
            "('getsu', 'ka', 'sui', 'moku', 'kin', 'do', 'nichi')\n",
            "('getsu', 'ka', 'sui', 'moku', 'kin', 'do', 'nichi', 'getsu', 'ka', 'sui', 'moku', 'kin', 'do', 'nichi')\n"
          ]
        }
      ]
    },
    {
      "cell_type": "markdown",
      "source": [
        "タプルをつかって、複数の変数への代入を簡単に書くことができる。"
      ],
      "metadata": {
        "id": "OiUsHYWOs092"
      }
    },
    {
      "cell_type": "code",
      "source": [
        "# めんどくさい書き方\n",
        "suzuran = 20\n",
        "kasumi = 30\n",
        "nedan = 10"
      ],
      "metadata": {
        "id": "t2pFbJ-jtO_n"
      },
      "execution_count": 4,
      "outputs": []
    },
    {
      "cell_type": "code",
      "source": [
        "# タプルを使った書き方\n",
        "suzuran, kasumi, nedan = 20, 30, 10"
      ],
      "metadata": {
        "id": "GHhePQZ1tamS"
      },
      "execution_count": 5,
      "outputs": []
    },
    {
      "cell_type": "markdown",
      "source": [
        "## リスト"
      ],
      "metadata": {
        "id": "BqFGbDIj5IAm"
      }
    },
    {
      "cell_type": "markdown",
      "source": [
        "リストも、Python で添字を使う基本的なデータ型の一つである。データをカンマで区切り、[四角括弧] ではさんで定義・使用（参照）する。\n"
      ],
      "metadata": {
        "id": "9JKJNwxw55du"
      }
    },
    {
      "cell_type": "code",
      "source": [
        "fuga = [31, 28, 31, 30, 31, 30, 31, 31, 30, 31, 30]\n",
        "print(fuga)\n",
        "\n",
        "print(fuga[2])"
      ],
      "metadata": {
        "id": "uB6ASd_v0oC6",
        "colab": {
          "base_uri": "https://localhost:8080/"
        },
        "outputId": "8a1e5091-af09-4917-a70d-4419e502a44e"
      },
      "execution_count": 6,
      "outputs": [
        {
          "output_type": "stream",
          "name": "stdout",
          "text": [
            "[31, 28, 31, 30, 31, 30, 31, 31, 30, 31, 30]\n",
            "31\n"
          ]
        }
      ]
    },
    {
      "cell_type": "markdown",
      "source": [
        "リストも文字列を要素にすることができる。"
      ],
      "metadata": {
        "id": "8OCGaP6VCJAa"
      }
    },
    {
      "cell_type": "code",
      "source": [
        "# 文字列を並べたリスト\n",
        "youbi_list = [\"getsu\", \"ka\", \"sui\", \"moku\", \"kin\", \"do\", \"nichi\"]\n",
        "print(youbi_list)"
      ],
      "metadata": {
        "id": "pC1hbH0orkrn",
        "colab": {
          "base_uri": "https://localhost:8080/"
        },
        "outputId": "7a5591d4-4f02-44ed-a797-7b4d051aab5a"
      },
      "execution_count": 7,
      "outputs": [
        {
          "output_type": "stream",
          "name": "stdout",
          "text": [
            "['getsu', 'ka', 'sui', 'moku', 'kin', 'do', 'nichi']\n"
          ]
        }
      ]
    },
    {
      "cell_type": "markdown",
      "source": [
        "例えば、リストの要素に値を代入するために、特別な記法はない。以下のようにすれば、代入できる。\n",
        "> a[1] = 30"
      ],
      "metadata": {
        "id": "qM1_P03A0oC6"
      }
    },
    {
      "cell_type": "code",
      "source": [
        "# リスト fuga を設定する\n",
        "fuga = [31, 28, 31, 30, 31, 30, 31, 31, 30, 31, 30]\n",
        "print(fuga)\n",
        "\n",
        "# 途中の要素を変えてみる\n",
        "fuga[1] = 100\n",
        "print(fuga)"
      ],
      "metadata": {
        "id": "3p8MhJOf6KaE",
        "colab": {
          "base_uri": "https://localhost:8080/"
        },
        "outputId": "3c9e536f-cf51-4965-d5ad-66e5b80fbe90"
      },
      "execution_count": 8,
      "outputs": [
        {
          "output_type": "stream",
          "name": "stdout",
          "text": [
            "[31, 28, 31, 30, 31, 30, 31, 31, 30, 31, 30]\n",
            "[31, 100, 31, 30, 31, 30, 31, 31, 30, 31, 30]\n"
          ]
        }
      ]
    },
    {
      "cell_type": "markdown",
      "source": [
        "また、リストに要素を追加するには、リスト名のあとに .append (追加したい要素) と書く。"
      ],
      "metadata": {
        "id": "ko3aObiisatc"
      }
    },
    {
      "cell_type": "code",
      "source": [
        "# リスト kisetsu を設定する\n",
        "kisetsu = [\"haru\", \"natsu\", \"aki\"]\n",
        "print(kisetsu)\n",
        "\n",
        "# kisetsu の最後に \"fuyu\" を追加する。\n",
        "kisetsu.append(\"fuyu\")\n",
        "\n",
        "print(kisetsu)"
      ],
      "metadata": {
        "id": "66fbehyS6-yU",
        "colab": {
          "base_uri": "https://localhost:8080/"
        },
        "outputId": "dad368e3-bbf4-4909-be92-f85921865672"
      },
      "execution_count": 9,
      "outputs": [
        {
          "output_type": "stream",
          "name": "stdout",
          "text": [
            "['haru', 'natsu', 'aki']\n",
            "['haru', 'natsu', 'aki', 'fuyu']\n"
          ]
        }
      ]
    },
    {
      "cell_type": "markdown",
      "source": [
        "## タプルとリストの違い"
      ],
      "metadata": {
        "id": "8Ogi1eWMAV1-"
      }
    },
    {
      "cell_type": "markdown",
      "source": [
        "タプルとリストはよく似ているが、大きな違いがある。\n",
        "\n",
        "* （**リストの長所**）リストの要素や構造は変更することができる。一方で、タプルの要素や構造を変更することはできない。\n",
        "\n",
        "* （**タプルの長所**）プログラム中のリストのうち、変更することがないものをタプルに書き換えると、より高速に動作する。（初心者では気が付かないほどの差だが、超大量のデータ（数億個や数兆個）を利用する場合は、違いが大きくなる。）"
      ],
      "metadata": {
        "id": "x__59yULAvSy"
      }
    },
    {
      "cell_type": "markdown",
      "source": [
        "タプルの要素の値を変更することはできない。試しに、タプルの値を変更しようとすると、エラーになる。（次のプログラムはエラーになる。）"
      ],
      "metadata": {
        "id": "eeBJQptU6pQK"
      }
    },
    {
      "cell_type": "code",
      "source": [
        "# タプル hoge を設定する\n",
        "hoge = (31, 28, 31, 30, 31, 30, 31, 31, 30, 31, 30)\n",
        "print(hoge)\n",
        "\n",
        "# 途中の要素を変えてみる\n",
        "hoge(1) = 100\n",
        "print(hoge)"
      ],
      "metadata": {
        "id": "_v9-iV0C6eJ8",
        "colab": {
          "base_uri": "https://localhost:8080/",
          "height": 106
        },
        "outputId": "6c57bcdb-392e-4b67-d047-3310e047288a"
      },
      "execution_count": 10,
      "outputs": [
        {
          "output_type": "error",
          "ename": "SyntaxError",
          "evalue": "cannot assign to function call here. Maybe you meant '==' instead of '='? (<ipython-input-10-59e515506d69>, line 6)",
          "traceback": [
            "\u001b[0;36m  File \u001b[0;32m\"<ipython-input-10-59e515506d69>\"\u001b[0;36m, line \u001b[0;32m6\u001b[0m\n\u001b[0;31m    hoge(1) = 100\u001b[0m\n\u001b[0m    ^\u001b[0m\n\u001b[0;31mSyntaxError\u001b[0m\u001b[0;31m:\u001b[0m cannot assign to function call here. Maybe you meant '==' instead of '='?\n"
          ]
        }
      ]
    },
    {
      "cell_type": "markdown",
      "source": [
        "タプルに要素を追加することはできない。試しに、タプルに append を書くと、エラーになる。（次のプログラムはエラーになる。）"
      ],
      "metadata": {
        "id": "tO52Xx8u7XmO"
      }
    },
    {
      "cell_type": "code",
      "source": [
        "# タプル hoge を設定する\n",
        "hoge = (31, 28, 31, 30, 31, 30, 31, 31, 30, 31, 30)\n",
        "print(hoge)\n",
        "\n",
        "# 途中の要素を変えてみる\n",
        "hoge.append(31)\n",
        "print(hoge)"
      ],
      "metadata": {
        "id": "sZzhgHOF7ZhX",
        "colab": {
          "base_uri": "https://localhost:8080/",
          "height": 211
        },
        "outputId": "a10ac7d0-7500-4958-a959-4266d9b3814f"
      },
      "execution_count": 11,
      "outputs": [
        {
          "output_type": "stream",
          "name": "stdout",
          "text": [
            "(31, 28, 31, 30, 31, 30, 31, 31, 30, 31, 30)\n"
          ]
        },
        {
          "output_type": "error",
          "ename": "AttributeError",
          "evalue": "'tuple' object has no attribute 'append'",
          "traceback": [
            "\u001b[0;31m---------------------------------------------------------------------------\u001b[0m",
            "\u001b[0;31mAttributeError\u001b[0m                            Traceback (most recent call last)",
            "\u001b[0;32m<ipython-input-11-4d914d82f6c8>\u001b[0m in \u001b[0;36m<cell line: 6>\u001b[0;34m()\u001b[0m\n\u001b[1;32m      4\u001b[0m \u001b[0;34m\u001b[0m\u001b[0m\n\u001b[1;32m      5\u001b[0m \u001b[0;31m# 途中の要素を変えてみる\u001b[0m\u001b[0;34m\u001b[0m\u001b[0;34m\u001b[0m\u001b[0m\n\u001b[0;32m----> 6\u001b[0;31m \u001b[0mhoge\u001b[0m\u001b[0;34m.\u001b[0m\u001b[0mappend\u001b[0m\u001b[0;34m(\u001b[0m\u001b[0;36m31\u001b[0m\u001b[0;34m)\u001b[0m\u001b[0;34m\u001b[0m\u001b[0;34m\u001b[0m\u001b[0m\n\u001b[0m\u001b[1;32m      7\u001b[0m \u001b[0mprint\u001b[0m\u001b[0;34m(\u001b[0m\u001b[0mhoge\u001b[0m\u001b[0;34m)\u001b[0m\u001b[0;34m\u001b[0m\u001b[0;34m\u001b[0m\u001b[0m\n",
            "\u001b[0;31mAttributeError\u001b[0m: 'tuple' object has no attribute 'append'"
          ]
        }
      ]
    },
    {
      "cell_type": "markdown",
      "source": [
        "## タプルとリストの扱い方"
      ],
      "metadata": {
        "id": "ul4mZ8L50UWB"
      }
    },
    {
      "cell_type": "markdown",
      "source": [
        "タプルやリストについて、さらに使用方法を述べる。"
      ],
      "metadata": {
        "id": "zYnjZiNaELo3"
      }
    },
    {
      "cell_type": "markdown",
      "source": [
        "### タプルやリストを作る\n",
        "\n",
        "タプルやリストを作るには、大きく、次の方法がある。"
      ],
      "metadata": {
        "id": "8_X078m3YdoR"
      }
    },
    {
      "cell_type": "code",
      "source": [
        "# タプルの要素を列挙して、 ( と ) で括る。\n",
        "hoge =(31, 28, 31, 30, 31, 30, 31, 31, 30, 31, 30, 31)\n",
        "print(hoge)\n",
        "print(hoge[2])\n",
        "\n",
        "# なお、要素が1つしかないタプルは、カンマを添えて書く\n",
        "t = (1,)\n",
        "print(t)"
      ],
      "metadata": {
        "id": "ormDC1qyEm3V",
        "colab": {
          "base_uri": "https://localhost:8080/"
        },
        "outputId": "56f717e2-5e89-4fcc-df36-a0d603d0fb27"
      },
      "execution_count": 12,
      "outputs": [
        {
          "output_type": "stream",
          "name": "stdout",
          "text": [
            "(31, 28, 31, 30, 31, 30, 31, 31, 30, 31, 30, 31)\n",
            "31\n",
            "(1,)\n"
          ]
        }
      ]
    },
    {
      "cell_type": "code",
      "source": [
        "# リストの要素を列挙して、 [ と ] で括る。\n",
        "fuga = [31, 28, 31, 30, 31, 30, 31, 31, 30, 31, 30, 31]\n",
        "print(fuga)\n",
        "print(fuga[2])"
      ],
      "metadata": {
        "id": "ZblSG6b2YnoU",
        "colab": {
          "base_uri": "https://localhost:8080/"
        },
        "outputId": "801fd4b8-b363-4801-ff57-e0b3c92800ca"
      },
      "execution_count": 13,
      "outputs": [
        {
          "output_type": "stream",
          "name": "stdout",
          "text": [
            "[31, 28, 31, 30, 31, 30, 31, 31, 30, 31, 30, 31]\n",
            "31\n"
          ]
        }
      ]
    },
    {
      "cell_type": "markdown",
      "source": [
        "同じ要素を並べたタプルやリストは次のように作る。"
      ],
      "metadata": {
        "id": "pmujX6bdFUhI"
      }
    },
    {
      "cell_type": "code",
      "source": [
        "# 例えば 1 が20個並んだタプルは次のように書く。\n",
        "t = (1,) * 20\n",
        "print(t)\n",
        "\n",
        "# 例えば 0 と 1 が10組並んだタプルは次のように書く。\n",
        "u = (0, 1) * 10\n",
        "print(u)\n",
        "\n",
        "# 例えば 1 が20個並んだリストは次のように書く。\n",
        "x = [1] * 20\n",
        "print(x)\n",
        "\n",
        "# 例えば 0 と 1 が10組並んだリストは次のように書く。\n",
        "y = [0, 1] * 10\n",
        "print(y)"
      ],
      "metadata": {
        "id": "4MLHhC5ZY4eY",
        "colab": {
          "base_uri": "https://localhost:8080/"
        },
        "outputId": "1fd1a8af-b0c4-4501-99e4-01e735cd4174"
      },
      "execution_count": 14,
      "outputs": [
        {
          "output_type": "stream",
          "name": "stdout",
          "text": [
            "(1, 1, 1, 1, 1, 1, 1, 1, 1, 1, 1, 1, 1, 1, 1, 1, 1, 1, 1, 1)\n",
            "(0, 1, 0, 1, 0, 1, 0, 1, 0, 1, 0, 1, 0, 1, 0, 1, 0, 1, 0, 1)\n",
            "[1, 1, 1, 1, 1, 1, 1, 1, 1, 1, 1, 1, 1, 1, 1, 1, 1, 1, 1, 1]\n",
            "[0, 1, 0, 1, 0, 1, 0, 1, 0, 1, 0, 1, 0, 1, 0, 1, 0, 1, 0, 1]\n"
          ]
        }
      ]
    },
    {
      "cell_type": "markdown",
      "source": [
        "要素がないタプルを作ることはできないが、要素がないリストを作ることはできる。（あとから、そのリストに要素を追加して利用する。）"
      ],
      "metadata": {
        "id": "emGPfeZSFjTh"
      }
    },
    {
      "cell_type": "code",
      "source": [
        "# 空のリストを作る\n",
        "x = list()\n",
        "y = []\n",
        "print(x, y)"
      ],
      "metadata": {
        "id": "CgR9XON3JDF9",
        "colab": {
          "base_uri": "https://localhost:8080/"
        },
        "outputId": "ee2dc69e-a37c-49d8-d0eb-e7cf8fed7eb1"
      },
      "execution_count": 15,
      "outputs": [
        {
          "output_type": "stream",
          "name": "stdout",
          "text": [
            "[] []\n"
          ]
        }
      ]
    },
    {
      "cell_type": "markdown",
      "metadata": {
        "id": "glcTaaGe0Ld3"
      },
      "source": [
        "### タプルやリストの長さ"
      ]
    },
    {
      "cell_type": "markdown",
      "metadata": {
        "id": "v1NuQx1WnebE"
      },
      "source": [
        "> len(hoge)\n",
        "\n",
        "タプルやリスト hoge の長さ（要素の個数）を表す。len(hoge)の値が30なら、hoge[0]からhoge[29]まで要素がある。"
      ]
    },
    {
      "cell_type": "code",
      "source": [
        "hoge = (31, 28, 31, 30, 31, 30, 31, 31, 30, 31, 30)\n",
        "print(hoge)\n",
        "print(hoge[1])\n",
        "print(len(hoge))"
      ],
      "metadata": {
        "id": "UdnCxGZ4oFQi",
        "colab": {
          "base_uri": "https://localhost:8080/"
        },
        "outputId": "54e1db78-20d3-4086-87f9-9910b83e3a3d"
      },
      "execution_count": 16,
      "outputs": [
        {
          "output_type": "stream",
          "name": "stdout",
          "text": [
            "(31, 28, 31, 30, 31, 30, 31, 31, 30, 31, 30)\n",
            "28\n",
            "11\n"
          ]
        }
      ]
    },
    {
      "cell_type": "markdown",
      "metadata": {
        "id": "UfdEpr1tnucC"
      },
      "source": [
        "### タプルやリストの要素の和を求める"
      ]
    },
    {
      "cell_type": "markdown",
      "metadata": {
        "id": "H3znEyypnukC"
      },
      "source": [
        "> sum(hoge)\n",
        "\n",
        "タプルやリストの要素のうち、数値のものをすべて加えた値になる。"
      ]
    },
    {
      "cell_type": "code",
      "source": [
        "# タプルの場合\n",
        "hoge = (31, 28, 31, 30, 31, 30, 31, 31, 30, 31, 30)\n",
        "print(hoge)\n",
        "print(sum(hoge))"
      ],
      "metadata": {
        "id": "K5KenBMWo9wK",
        "colab": {
          "base_uri": "https://localhost:8080/"
        },
        "outputId": "b88bd23d-27c7-48e5-9b15-b2721512c0dc"
      },
      "execution_count": 17,
      "outputs": [
        {
          "output_type": "stream",
          "name": "stdout",
          "text": [
            "(31, 28, 31, 30, 31, 30, 31, 31, 30, 31, 30)\n",
            "334\n"
          ]
        }
      ]
    },
    {
      "cell_type": "code",
      "source": [
        "#リストの場合\n",
        "fuga = [31, 28, 31, 30, 31, 30, 31, 31, 30, 31, 30]\n",
        "print(fuga)\n",
        "\n",
        "fuga.append(31) # タプルではできない\n",
        "print(fuga)\n",
        "print(sum(fuga))"
      ],
      "metadata": {
        "id": "qj5MfCTeGezN",
        "colab": {
          "base_uri": "https://localhost:8080/"
        },
        "outputId": "b7e86fb3-d585-47e2-e277-f1d765d04e31"
      },
      "execution_count": 18,
      "outputs": [
        {
          "output_type": "stream",
          "name": "stdout",
          "text": [
            "[31, 28, 31, 30, 31, 30, 31, 31, 30, 31, 30]\n",
            "[31, 28, 31, 30, 31, 30, 31, 31, 30, 31, 30, 31]\n",
            "365\n"
          ]
        }
      ]
    },
    {
      "cell_type": "markdown",
      "metadata": {
        "id": "zqYfCWEtnup9"
      },
      "source": [
        "### タプルやリストをつなげて新しいリストを作る（連結）"
      ]
    },
    {
      "cell_type": "markdown",
      "metadata": {
        "id": "6cKJ57sunuuG"
      },
      "source": [
        "タプルやリストを + でつなげると、両側同士をつないだ新しいタプルやリストを表す。"
      ]
    },
    {
      "cell_type": "code",
      "metadata": {
        "id": "YeLT0NNjIhH6",
        "colab": {
          "base_uri": "https://localhost:8080/"
        },
        "outputId": "cebe109a-bb25-41a1-ade8-d7d5350dda83"
      },
      "source": [
        "hoge = (31, 28, 31, 30, 31, 30)\n",
        "uhyo = (31, 31, 30, 31, 30, 31)\n",
        "\n",
        "print(hoge)\n",
        "print(len(hoge))\n",
        "\n",
        "print(uhyo)\n",
        "print(len(uhyo))\n",
        "\n",
        "# hoge と uhyo を連結する\n",
        "honya = hoge + uhyo\n",
        "\n",
        "print(honya)\n",
        "print(len(honya))\n",
        "print(sum(honya))"
      ],
      "execution_count": 19,
      "outputs": [
        {
          "output_type": "stream",
          "name": "stdout",
          "text": [
            "(31, 28, 31, 30, 31, 30)\n",
            "6\n",
            "(31, 31, 30, 31, 30, 31)\n",
            "6\n",
            "(31, 28, 31, 30, 31, 30, 31, 31, 30, 31, 30, 31)\n",
            "12\n",
            "365\n"
          ]
        }
      ]
    },
    {
      "cell_type": "code",
      "metadata": {
        "id": "suVv8q2l0Ld4",
        "colab": {
          "base_uri": "https://localhost:8080/"
        },
        "outputId": "53118bf4-9578-4d55-a3dd-d0ffe545d4a0"
      },
      "source": [
        "fuga = [31, 28, 31, 30, 31, 30]\n",
        "pyon = [31, 31, 30, 31, 30, 31]\n",
        "\n",
        "print(fuga)\n",
        "print(len(fuga))\n",
        "\n",
        "print(pyon)\n",
        "print(len(pyon))\n",
        "\n",
        "# fuga と pyon を連結する\n",
        "karakara = fuga + pyon\n",
        "\n",
        "print(karakara)\n",
        "print(len(karakara))\n",
        "print(sum(karakara))"
      ],
      "execution_count": 20,
      "outputs": [
        {
          "output_type": "stream",
          "name": "stdout",
          "text": [
            "[31, 28, 31, 30, 31, 30]\n",
            "6\n",
            "[31, 31, 30, 31, 30, 31]\n",
            "6\n",
            "[31, 28, 31, 30, 31, 30, 31, 31, 30, 31, 30, 31]\n",
            "12\n",
            "365\n"
          ]
        }
      ]
    },
    {
      "cell_type": "markdown",
      "source": [
        "なお、タプルやリストの要素は、文字列でもよい。"
      ],
      "metadata": {
        "id": "7Ck_9UCvLJWx"
      }
    },
    {
      "cell_type": "code",
      "source": [
        "# 文字列のタプル\n",
        "heijitsu = (\"getsu\", \"ka\", \"sui\", \"moku\", \"kin\")\n",
        "syumatsu = (\"do\", \"nichi\")\n",
        "youbi = heijitsu + syumatsu\n",
        "print(len(youbi))\n",
        "print(youbi)"
      ],
      "metadata": {
        "id": "jgt4o63OJL6j",
        "colab": {
          "base_uri": "https://localhost:8080/"
        },
        "outputId": "201a034f-8ed9-4c1b-bb7a-dde9ad5a1b85"
      },
      "execution_count": 21,
      "outputs": [
        {
          "output_type": "stream",
          "name": "stdout",
          "text": [
            "7\n",
            "('getsu', 'ka', 'sui', 'moku', 'kin', 'do', 'nichi')\n"
          ]
        }
      ]
    },
    {
      "cell_type": "code",
      "source": [
        "# 文字列のリスト\n",
        "yoko = [\"higashi\", \"nishi\"]\n",
        "tate = [\"kita\", \"minami\"]\n",
        "houkou = yoko + tate\n",
        "print(len(houkou))\n",
        "print(houkou)"
      ],
      "metadata": {
        "id": "QI_-enyrLG-Y",
        "colab": {
          "base_uri": "https://localhost:8080/"
        },
        "outputId": "f02434e9-d768-4a11-eacc-ed7e7387dc88"
      },
      "execution_count": 22,
      "outputs": [
        {
          "output_type": "stream",
          "name": "stdout",
          "text": [
            "4\n",
            "['higashi', 'nishi', 'kita', 'minami']\n"
          ]
        }
      ]
    },
    {
      "cell_type": "markdown",
      "source": [
        "なお、タプルとリストを直接つなげることはできない。"
      ],
      "metadata": {
        "id": "_3ZCCAfpPs9F"
      }
    },
    {
      "cell_type": "code",
      "source": [
        "# 文字列のタプル\n",
        "heijitsu = (\"getsu\", \"ka\", \"sui\", \"moku\", \"kin\")\n",
        "\n",
        "# 文字列のリスト\n",
        "yoko = [\"higashi\", \"nishi\"]\n",
        "\n",
        "# 次の行はエラーになる。\n",
        "arara = heijitsu + yoko"
      ],
      "metadata": {
        "id": "wprbwF4NP00L",
        "colab": {
          "base_uri": "https://localhost:8080/",
          "height": 176
        },
        "outputId": "399eccb3-c0f3-4902-cade-eaf134c35e9d"
      },
      "execution_count": 23,
      "outputs": [
        {
          "output_type": "error",
          "ename": "TypeError",
          "evalue": "can only concatenate tuple (not \"list\") to tuple",
          "traceback": [
            "\u001b[0;31m---------------------------------------------------------------------------\u001b[0m",
            "\u001b[0;31mTypeError\u001b[0m                                 Traceback (most recent call last)",
            "\u001b[0;32m<ipython-input-23-3ceca3457ae1>\u001b[0m in \u001b[0;36m<cell line: 8>\u001b[0;34m()\u001b[0m\n\u001b[1;32m      6\u001b[0m \u001b[0;34m\u001b[0m\u001b[0m\n\u001b[1;32m      7\u001b[0m \u001b[0;31m# 次の行はエラーになる。\u001b[0m\u001b[0;34m\u001b[0m\u001b[0;34m\u001b[0m\u001b[0m\n\u001b[0;32m----> 8\u001b[0;31m \u001b[0marara\u001b[0m \u001b[0;34m=\u001b[0m \u001b[0mheijitsu\u001b[0m \u001b[0;34m+\u001b[0m \u001b[0myoko\u001b[0m\u001b[0;34m\u001b[0m\u001b[0;34m\u001b[0m\u001b[0m\n\u001b[0m",
            "\u001b[0;31mTypeError\u001b[0m: can only concatenate tuple (not \"list\") to tuple"
          ]
        }
      ]
    },
    {
      "cell_type": "markdown",
      "source": [
        "タプルとリストをつなげるときは、片方を変換して、もう片方に型を合わせる。\n",
        "* tuple(a)\n",
        " * リスト a をタプルに変換する\n",
        "* list(b)\n",
        " * タプル b をリストに変換する"
      ],
      "metadata": {
        "id": "vFjBam08Qi-u"
      }
    },
    {
      "cell_type": "code",
      "source": [
        "# 文字列のタプル\n",
        "heijitsu = (\"getsu\", \"ka\", \"sui\", \"moku\", \"kin\")\n",
        "\n",
        "# 文字列のリスト\n",
        "yoko = [\"higashi\", \"nishi\"]\n",
        "\n",
        "# リスト yoko をタプルに変換してつなげる\n",
        "arara = heijitsu + tuple(yoko)\n",
        "print(arara)\n",
        "\n",
        "# タプル heijitsu をリストに変換してつなげる\n",
        "gyan = list(heijitsu) + yoko\n",
        "print(gyan)"
      ],
      "metadata": {
        "id": "TH9EnOrcQCMZ",
        "colab": {
          "base_uri": "https://localhost:8080/"
        },
        "outputId": "63eee613-6dae-4588-c681-db84e8156a6e"
      },
      "execution_count": 24,
      "outputs": [
        {
          "output_type": "stream",
          "name": "stdout",
          "text": [
            "('getsu', 'ka', 'sui', 'moku', 'kin', 'higashi', 'nishi')\n",
            "['getsu', 'ka', 'sui', 'moku', 'kin', 'higashi', 'nishi']\n"
          ]
        }
      ]
    },
    {
      "cell_type": "markdown",
      "source": [
        "# （次の教材）2.4 スライス\n",
        "* https://colab.research.google.com/drive/1Kf36-eKAtrR-Jz0X9EtysJI22eWclCmG"
      ],
      "metadata": {
        "id": "e33qHLPVNnzn"
      }
    }
  ]
}