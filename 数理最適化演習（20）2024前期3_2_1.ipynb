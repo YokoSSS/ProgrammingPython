{
  "cells": [
    {
      "cell_type": "markdown",
      "metadata": {
        "id": "view-in-github",
        "colab_type": "text"
      },
      "source": [
        "<a href=\"https://colab.research.google.com/github/YokoSSS/ProgrammingPython/blob/%E6%95%B0%E7%90%86%E6%9C%80%E9%81%A9%E5%8C%96%E6%BC%94%E7%BF%92(20)/%E6%95%B0%E7%90%86%E6%9C%80%E9%81%A9%E5%8C%96%E6%BC%94%E7%BF%92%EF%BC%8820%EF%BC%892024%E5%89%8D%E6%9C%9F3_2_1.ipynb\" target=\"_parent\"><img src=\"https://colab.research.google.com/assets/colab-badge.svg\" alt=\"Open In Colab\"/></a>"
      ]
    },
    {
      "cell_type": "markdown",
      "metadata": {
        "id": "ofzOsVsPkC0h"
      },
      "source": [
        "## PuLPモジュール読み込み"
      ]
    },
    {
      "cell_type": "code",
      "execution_count": 1,
      "metadata": {
        "colab": {
          "base_uri": "https://localhost:8080/"
        },
        "id": "BFWeRun9kC0m",
        "outputId": "90fe3df0-3b42-4d21-eda7-b35e1e7b16be"
      },
      "outputs": [
        {
          "output_type": "stream",
          "name": "stdout",
          "text": [
            "Collecting pulp\n",
            "  Downloading PuLP-2.8.0-py3-none-any.whl (17.7 MB)\n",
            "\u001b[2K     \u001b[90m━━━━━━━━━━━━━━━━━━━━━━━━━━━━━━━━━━━━━━━━\u001b[0m \u001b[32m17.7/17.7 MB\u001b[0m \u001b[31m22.6 MB/s\u001b[0m eta \u001b[36m0:00:00\u001b[0m\n",
            "\u001b[?25hInstalling collected packages: pulp\n",
            "Successfully installed pulp-2.8.0\n"
          ]
        }
      ],
      "source": [
        "# Install pulp package\n",
        "!pip install pulp\n",
        "import pulp"
      ]
    },
    {
      "cell_type": "markdown",
      "metadata": {
        "id": "u2RtcVCikC0n"
      },
      "source": [
        "## 目的関数の係数および制約条件左辺の係数を定義"
      ]
    },
    {
      "cell_type": "code",
      "execution_count": 2,
      "metadata": {
        "id": "XQipN6lmkC0n"
      },
      "outputs": [],
      "source": [
        "C = {1:18,2:14,3:16,4:7,5:12,6:22}\n",
        "A = {1:16,2:14,3:14,4:12,5:11,6:18}"
      ]
    },
    {
      "cell_type": "markdown",
      "metadata": {
        "id": "e-dudss9kC0o"
      },
      "source": [
        "## 決定変数の定義"
      ]
    },
    {
      "cell_type": "code",
      "execution_count": 3,
      "metadata": {
        "scrolled": true,
        "id": "7YWrwatFkC0o"
      },
      "outputs": [],
      "source": [
        "x ={i:pulp.LpVariable(f'x{i}', cat=pulp.LpBinary) for i in C.keys()}"
      ]
    },
    {
      "cell_type": "markdown",
      "metadata": {
        "id": "x63f_lSqkC0p"
      },
      "source": [
        "## 問題の定義"
      ]
    },
    {
      "cell_type": "code",
      "execution_count": 4,
      "metadata": {
        "colab": {
          "base_uri": "https://localhost:8080/"
        },
        "id": "w0dLhIl4kC0p",
        "outputId": "f22cd97d-1ad3-43d9-9df4-3e61b4577a10"
      },
      "outputs": [
        {
          "output_type": "execute_result",
          "data": {
            "text/plain": [
              "ナップサック問題:\n",
              "MAXIMIZE\n",
              "18*x1 + 14*x2 + 16*x3 + 7*x4 + 12*x5 + 22*x6 + 0\n",
              "SUBJECT TO\n",
              "費用制約: 16 x1 + 14 x2 + 14 x3 + 12 x4 + 11 x5 + 18 x6 <= 50\n",
              "\n",
              "VARIABLES\n",
              "0 <= x1 <= 1 Integer\n",
              "0 <= x2 <= 1 Integer\n",
              "0 <= x3 <= 1 Integer\n",
              "0 <= x4 <= 1 Integer\n",
              "0 <= x5 <= 1 Integer\n",
              "0 <= x6 <= 1 Integer"
            ]
          },
          "metadata": {},
          "execution_count": 4
        }
      ],
      "source": [
        "p = pulp.LpProblem('ナップサック問題', sense=pulp.LpMaximize)\n",
        "p += pulp.lpSum(C[i]*x[i] for i in x.keys()), '目的関数　採択した提案の価値'\n",
        "p += pulp.lpSum(A[i]*x[i] for i in x.keys()) <= 50, '費用制約'\n",
        "p"
      ]
    },
    {
      "cell_type": "markdown",
      "metadata": {
        "id": "gT0ok4UekC0r"
      },
      "source": [
        "## 最適解の計算と結果の読み取り"
      ]
    },
    {
      "cell_type": "code",
      "execution_count": 5,
      "metadata": {
        "id": "iccPSWVVkC0r"
      },
      "outputs": [],
      "source": [
        "result = p.solve()"
      ]
    },
    {
      "cell_type": "code",
      "execution_count": 6,
      "metadata": {
        "colab": {
          "base_uri": "https://localhost:8080/",
          "height": 35
        },
        "id": "3XMdWGsgkC0s",
        "outputId": "f19d8756-915f-45b9-eb51-948dc1d52ac3"
      },
      "outputs": [
        {
          "output_type": "execute_result",
          "data": {
            "text/plain": [
              "'Optimal'"
            ],
            "application/vnd.google.colaboratory.intrinsic+json": {
              "type": "string"
            }
          },
          "metadata": {},
          "execution_count": 6
        }
      ],
      "source": [
        "pulp.LpStatus[result]"
      ]
    },
    {
      "cell_type": "code",
      "execution_count": 7,
      "metadata": {
        "colab": {
          "base_uri": "https://localhost:8080/"
        },
        "id": "HVKT7MZJkC0t",
        "outputId": "1776872e-48ac-48e5-a1e8-e0e5772ca574"
      },
      "outputs": [
        {
          "output_type": "execute_result",
          "data": {
            "text/plain": [
              "56.0"
            ]
          },
          "metadata": {},
          "execution_count": 7
        }
      ],
      "source": [
        "pulp.value(p.objective)"
      ]
    },
    {
      "cell_type": "code",
      "execution_count": 8,
      "metadata": {
        "colab": {
          "base_uri": "https://localhost:8080/"
        },
        "id": "2RN8-jMNkC0t",
        "outputId": "fd78629b-dbf5-4769-d5f8-1780894ebbc8"
      },
      "outputs": [
        {
          "output_type": "stream",
          "name": "stdout",
          "text": [
            "x1 = 1\n",
            "x2 = 0\n",
            "x3 = 1\n",
            "x4 = 0\n",
            "x5 = 0\n",
            "x6 = 1\n"
          ]
        }
      ],
      "source": [
        "for v in p.variables():\n",
        "    print(f'{v} = {pulp.value(v):.0f}')"
      ]
    },
    {
      "cell_type": "code",
      "execution_count": null,
      "metadata": {
        "id": "_z_SMLTykC0u"
      },
      "outputs": [],
      "source": []
    }
  ],
  "metadata": {
    "kernelspec": {
      "display_name": "Python 3",
      "language": "python",
      "name": "python3"
    },
    "language_info": {
      "codemirror_mode": {
        "name": "ipython",
        "version": 3
      },
      "file_extension": ".py",
      "mimetype": "text/x-python",
      "name": "python",
      "nbconvert_exporter": "python",
      "pygments_lexer": "ipython3",
      "version": "3.7.0"
    },
    "colab": {
      "provenance": [],
      "include_colab_link": true
    }
  },
  "nbformat": 4,
  "nbformat_minor": 0
}