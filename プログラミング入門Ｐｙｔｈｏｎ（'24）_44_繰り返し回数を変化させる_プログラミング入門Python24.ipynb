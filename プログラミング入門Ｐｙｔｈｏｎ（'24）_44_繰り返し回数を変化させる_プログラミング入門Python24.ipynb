{
  "nbformat": 4,
  "nbformat_minor": 0,
  "metadata": {
    "colab": {
      "provenance": [],
      "collapsed_sections": [
        "WX4sRVO63me5",
        "FnSBdgK-Bwtz"
      ],
      "include_colab_link": true
    },
    "kernelspec": {
      "name": "python3",
      "display_name": "Python 3"
    }
  },
  "cells": [
    {
      "cell_type": "markdown",
      "metadata": {
        "id": "view-in-github",
        "colab_type": "text"
      },
      "source": [
        "<a href=\"https://colab.research.google.com/github/YokoSSS/ProgrammingPython/blob/OUJ_%E3%83%97%E3%83%AD%E3%82%B0%E3%83%A9%E3%83%9F%E3%83%B3%E3%82%B0%E5%85%A5%E9%96%80%EF%BC%B0%EF%BD%99%EF%BD%94%EF%BD%88%EF%BD%8F%EF%BD%8E%EF%BC%88'24%EF%BC%89/%E3%83%97%E3%83%AD%E3%82%B0%E3%83%A9%E3%83%9F%E3%83%B3%E3%82%B0%E5%85%A5%E9%96%80%EF%BC%B0%EF%BD%99%EF%BD%94%EF%BD%88%EF%BD%8F%EF%BD%8E%EF%BC%88'24%EF%BC%89_44_%E7%B9%B0%E3%82%8A%E8%BF%94%E3%81%97%E5%9B%9E%E6%95%B0%E3%82%92%E5%A4%89%E5%8C%96%E3%81%95%E3%81%9B%E3%82%8B_%E3%83%97%E3%83%AD%E3%82%B0%E3%83%A9%E3%83%9F%E3%83%B3%E3%82%B0%E5%85%A5%E9%96%80Python24.ipynb\" target=\"_parent\"><img src=\"https://colab.research.google.com/assets/colab-badge.svg\" alt=\"Open In Colab\"/></a>"
      ]
    },
    {
      "cell_type": "markdown",
      "source": [
        "# 第4章 繰り返し、インデントスタイル、乱数"
      ],
      "metadata": {
        "id": "gFdzAZqv_Nri"
      }
    },
    {
      "cell_type": "markdown",
      "source": [
        " * 左上の「ファイル」を開いて、「ドライブにコピーを保存」をしてください。\n",
        " * 自分のGoogleドライブに、そのファイルが保存されます。ファイル名は「のコピー」が、最後（右端）についています。それを利用して学習・演習を進めて下さい。"
      ],
      "metadata": {
        "id": "lm7oxHNx4rIf"
      }
    },
    {
      "cell_type": "markdown",
      "source": [
        "# 4.4 繰り返し回数を変化させる"
      ],
      "metadata": {
        "id": "CZwBRVcit2Z6"
      }
    },
    {
      "cell_type": "markdown",
      "metadata": {
        "id": "aB1RJ0590XXM"
      },
      "source": [
        "数を入力して、その回数計算するプログラムを考える。\n",
        "* まず、入力されるのは数字の列であるから、必ず文字列である。したがって、それを回数に変化する必要がある。\n",
        "* 回数がわかったら、rangeで、その回数を利用した繰り返しを行う。\n"
      ]
    },
    {
      "cell_type": "code",
      "source": [
        "n = int(input(\"n?\"))\n",
        "for i in range(n):\n",
        "    print(i)"
      ],
      "metadata": {
        "id": "vYVzSFS_Wlol",
        "colab": {
          "base_uri": "https://localhost:8080/"
        },
        "outputId": "3d2a516e-70bf-4996-a251-6481156cbae7"
      },
      "execution_count": 1,
      "outputs": [
        {
          "output_type": "stream",
          "name": "stdout",
          "text": [
            "n?5\n",
            "0\n",
            "1\n",
            "2\n",
            "3\n",
            "4\n"
          ]
        }
      ]
    },
    {
      "cell_type": "markdown",
      "source": [
        "上記の例を利用して、1からnまでの和を、変数 s に求めるプログラムを作ることができる。"
      ],
      "metadata": {
        "id": "wed6YLw6W1lW"
      }
    },
    {
      "cell_type": "markdown",
      "metadata": {
        "id": "wVFIfX2M0u46"
      },
      "source": [
        "次のプログラムの解説\n",
        "* 2行目：input は文字列を入力結果としている。これを数に変換する必要がある。関数 int は、入力された数字列を整数に変換する。\n",
        "* 4行目は、「sの値を i 増加させる」という命令である。「 s = s + i 」と計算結果は同じ。"
      ]
    },
    {
      "cell_type": "code",
      "metadata": {
        "id": "egB5WMVB0aPL",
        "colab": {
          "base_uri": "https://localhost:8080/"
        },
        "outputId": "81d92a2c-0116-4a12-aebf-e88490ee165f"
      },
      "source": [
        "s = 0\n",
        "n = int(input('n?'))\n",
        "for i in range(n + 1):\n",
        "    s += i\n",
        "print('s=', s)"
      ],
      "execution_count": 2,
      "outputs": [
        {
          "output_type": "stream",
          "name": "stdout",
          "text": [
            "n?3\n",
            "s= 6\n"
          ]
        }
      ]
    },
    {
      "cell_type": "markdown",
      "metadata": {
        "id": "45Xa9l3vx30o"
      },
      "source": [
        "### 繰返しながら途中を表示"
      ]
    },
    {
      "cell_type": "markdown",
      "metadata": {
        "id": "JqfyS8lynzqq"
      },
      "source": [
        "次のプログラムは途中経過も表示している。"
      ]
    },
    {
      "cell_type": "code",
      "metadata": {
        "id": "pNC1Z9TDnv8t",
        "colab": {
          "base_uri": "https://localhost:8080/"
        },
        "outputId": "b84e4271-cba5-4bd0-f3df-67f2a56255ad"
      },
      "source": [
        "s = 0\n",
        "n = int(input('n?'))\n",
        "for i in range(n + 1):\n",
        "    s += i\n",
        "    print('s=', s)"
      ],
      "execution_count": 3,
      "outputs": [
        {
          "output_type": "stream",
          "name": "stdout",
          "text": [
            "n?5\n",
            "s= 0\n",
            "s= 1\n",
            "s= 3\n",
            "s= 6\n",
            "s= 10\n",
            "s= 15\n"
          ]
        }
      ]
    },
    {
      "cell_type": "markdown",
      "source": [
        "# 次の教材\n",
        "\n",
        "4.5 インデントスタイル\n",
        "* https://colab.research.google.com/drive/1wt2nR3_4OuCKG0CjJx-Yd-JwXD0Gn_C4"
      ],
      "metadata": {
        "id": "AE42VNnvVX9y"
      }
    },
    {
      "cell_type": "code",
      "source": [],
      "metadata": {
        "id": "wSzuVw8QAN1w"
      },
      "execution_count": null,
      "outputs": []
    }
  ]
}