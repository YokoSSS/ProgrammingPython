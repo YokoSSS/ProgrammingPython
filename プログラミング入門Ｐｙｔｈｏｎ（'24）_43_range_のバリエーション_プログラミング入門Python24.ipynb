{
  "nbformat": 4,
  "nbformat_minor": 0,
  "metadata": {
    "colab": {
      "provenance": [],
      "collapsed_sections": [
        "WX4sRVO63me5",
        "FnSBdgK-Bwtz"
      ],
      "include_colab_link": true
    },
    "kernelspec": {
      "name": "python3",
      "display_name": "Python 3"
    }
  },
  "cells": [
    {
      "cell_type": "markdown",
      "metadata": {
        "id": "view-in-github",
        "colab_type": "text"
      },
      "source": [
        "<a href=\"https://colab.research.google.com/github/YokoSSS/ProgrammingPython/blob/OUJ_%E3%83%97%E3%83%AD%E3%82%B0%E3%83%A9%E3%83%9F%E3%83%B3%E3%82%B0%E5%85%A5%E9%96%80%EF%BC%B0%EF%BD%99%EF%BD%94%EF%BD%88%EF%BD%8F%EF%BD%8E%EF%BC%88'24%EF%BC%89/%E3%83%97%E3%83%AD%E3%82%B0%E3%83%A9%E3%83%9F%E3%83%B3%E3%82%B0%E5%85%A5%E9%96%80%EF%BC%B0%EF%BD%99%EF%BD%94%EF%BD%88%EF%BD%8F%EF%BD%8E%EF%BC%88'24%EF%BC%89_43_range_%E3%81%AE%E3%83%90%E3%83%AA%E3%82%A8%E3%83%BC%E3%82%B7%E3%83%A7%E3%83%B3_%E3%83%97%E3%83%AD%E3%82%B0%E3%83%A9%E3%83%9F%E3%83%B3%E3%82%B0%E5%85%A5%E9%96%80Python24.ipynb\" target=\"_parent\"><img src=\"https://colab.research.google.com/assets/colab-badge.svg\" alt=\"Open In Colab\"/></a>"
      ]
    },
    {
      "cell_type": "markdown",
      "source": [
        "# 第4章 繰り返し、インデントスタイル、乱数"
      ],
      "metadata": {
        "id": "ONuCp9h5_MmR"
      }
    },
    {
      "cell_type": "markdown",
      "source": [
        " * 左上の「ファイル」を開いて、「ドライブにコピーを保存」をしてください。\n",
        " * 自分のGoogleドライブに、そのファイルが保存されます。ファイル名は「のコピー」が、最後（右端）についています。それを利用して学習・演習を進めて下さい。"
      ],
      "metadata": {
        "id": "lm7oxHNx4rIf"
      }
    },
    {
      "cell_type": "markdown",
      "source": [
        "# 4.3 range のバリエーション"
      ],
      "metadata": {
        "id": "qemqx5vZQrQb"
      }
    },
    {
      "cell_type": "markdown",
      "source": [
        "range には、次の3種類のバリエーションがある。"
      ],
      "metadata": {
        "id": "iqN4A-5igntd"
      }
    },
    {
      "cell_type": "markdown",
      "source": [
        "### range(n）"
      ],
      "metadata": {
        "id": "rFcxbFkorG2x"
      }
    },
    {
      "cell_type": "markdown",
      "source": [
        "0から、その数の直前の n-1 まで1ずつ増えていく。"
      ],
      "metadata": {
        "id": "5KWnzorPrZC3"
      }
    },
    {
      "cell_type": "code",
      "source": [
        "for i in range(10):\n",
        "    print(i)"
      ],
      "metadata": {
        "id": "Eft5IYVlrQno",
        "colab": {
          "base_uri": "https://localhost:8080/"
        },
        "outputId": "67d87374-5e59-485e-b5f4-00ee526fcdce"
      },
      "execution_count": 1,
      "outputs": [
        {
          "output_type": "stream",
          "name": "stdout",
          "text": [
            "0\n",
            "1\n",
            "2\n",
            "3\n",
            "4\n",
            "5\n",
            "6\n",
            "7\n",
            "8\n",
            "9\n"
          ]
        }
      ]
    },
    {
      "cell_type": "markdown",
      "source": [
        "### range(s, e）"
      ],
      "metadata": {
        "id": "S5LWbNbcrM2_"
      }
    },
    {
      "cell_type": "markdown",
      "metadata": {
        "id": "B5W138uDxKro"
      },
      "source": [
        "s から、e-1 まで1ずつ増えていく。"
      ]
    },
    {
      "cell_type": "code",
      "metadata": {
        "id": "EBJn-TTmww3k",
        "colab": {
          "base_uri": "https://localhost:8080/"
        },
        "outputId": "ca01bd1a-a6da-4d1a-fd00-b363d90388ac"
      },
      "source": [
        "for i in range(1, 11):\n",
        "    print(i)"
      ],
      "execution_count": 2,
      "outputs": [
        {
          "output_type": "stream",
          "name": "stdout",
          "text": [
            "1\n",
            "2\n",
            "3\n",
            "4\n",
            "5\n",
            "6\n",
            "7\n",
            "8\n",
            "9\n",
            "10\n"
          ]
        }
      ]
    },
    {
      "cell_type": "code",
      "source": [
        "for x in range(3, 11):\n",
        "    print(x)"
      ],
      "metadata": {
        "id": "r3RUWdaJRaH3",
        "colab": {
          "base_uri": "https://localhost:8080/"
        },
        "outputId": "d3a77992-395a-4f65-8f31-413a124c9e9f"
      },
      "execution_count": 3,
      "outputs": [
        {
          "output_type": "stream",
          "name": "stdout",
          "text": [
            "3\n",
            "4\n",
            "5\n",
            "6\n",
            "7\n",
            "8\n",
            "9\n",
            "10\n"
          ]
        }
      ]
    },
    {
      "cell_type": "markdown",
      "metadata": {
        "id": "s4WwlPSbs2xu"
      },
      "source": [
        "### 確認問題"
      ]
    },
    {
      "cell_type": "markdown",
      "metadata": {
        "id": "nrd1U6Pps2xv"
      },
      "source": [
        "(1) 次のプログラムを実行すると何が表示されるか。実行せずに考えて、その後、実行して確認せよ。\n"
      ]
    },
    {
      "cell_type": "code",
      "metadata": {
        "id": "IqdtPl8is2xv",
        "colab": {
          "base_uri": "https://localhost:8080/"
        },
        "outputId": "30114fb6-59ec-481b-82c3-451accb08f9f"
      },
      "source": [
        "for i in range(1, 10):\n",
        "    for j in range(1, 10):\n",
        "        v = i * j\n",
        "        print(v, \" \", end=\"\")\n",
        "    print(\"\")"
      ],
      "execution_count": 4,
      "outputs": [
        {
          "output_type": "stream",
          "name": "stdout",
          "text": [
            "1  2  3  4  5  6  7  8  9  \n",
            "2  4  6  8  10  12  14  16  18  \n",
            "3  6  9  12  15  18  21  24  27  \n",
            "4  8  12  16  20  24  28  32  36  \n",
            "5  10  15  20  25  30  35  40  45  \n",
            "6  12  18  24  30  36  42  48  54  \n",
            "7  14  21  28  35  42  49  56  63  \n",
            "8  16  24  32  40  48  56  64  72  \n",
            "9  18  27  36  45  54  63  72  81  \n"
          ]
        }
      ]
    },
    {
      "cell_type": "markdown",
      "metadata": {
        "id": "g_HXup1ks2xw"
      },
      "source": [
        "(2) 次のプログラムは、先のプログラムの改良型である。どのように改良されたか。実行せずに考えて、その後、実行して確認せよ。"
      ]
    },
    {
      "cell_type": "code",
      "metadata": {
        "id": "poWbwnKSs2xw",
        "colab": {
          "base_uri": "https://localhost:8080/"
        },
        "outputId": "6a93b7d1-af8d-4b67-ccea-c93504c98a60"
      },
      "source": [
        "for i in range(1, 10):\n",
        "    for j in range(1, 10):\n",
        "        v = i * j\n",
        "        if v < 10:\n",
        "            print(\"_\", end=\"\")\n",
        "        print(v, \" \", end=\"\")\n",
        "    print(\"\")"
      ],
      "execution_count": 5,
      "outputs": [
        {
          "output_type": "stream",
          "name": "stdout",
          "text": [
            "_1  _2  _3  _4  _5  _6  _7  _8  _9  \n",
            "_2  _4  _6  _8  10  12  14  16  18  \n",
            "_3  _6  _9  12  15  18  21  24  27  \n",
            "_4  _8  12  16  20  24  28  32  36  \n",
            "_5  10  15  20  25  30  35  40  45  \n",
            "_6  12  18  24  30  36  42  48  54  \n",
            "_7  14  21  28  35  42  49  56  63  \n",
            "_8  16  24  32  40  48  56  64  72  \n",
            "_9  18  27  36  45  54  63  72  81  \n"
          ]
        }
      ]
    },
    {
      "cell_type": "markdown",
      "source": [
        "### range(s, e, d)"
      ],
      "metadata": {
        "id": "XHzSN9UGrlH7"
      }
    },
    {
      "cell_type": "markdown",
      "metadata": {
        "id": "f13H-Lvijn9b"
      },
      "source": [
        "s から、 s+d, s+2d, s+3d, と変化していく。（dが正なら増加、dが負なら減少。） e の上を通り過ぎないように止まる。"
      ]
    },
    {
      "cell_type": "code",
      "source": [
        "for k in range(5, 12, 3):\n",
        "    print(k)"
      ],
      "metadata": {
        "id": "_tfF_5NGPQ-9",
        "colab": {
          "base_uri": "https://localhost:8080/"
        },
        "outputId": "2f465584-1a35-4f46-8e49-bf467d3b1e39"
      },
      "execution_count": 6,
      "outputs": [
        {
          "output_type": "stream",
          "name": "stdout",
          "text": [
            "5\n",
            "8\n",
            "11\n"
          ]
        }
      ]
    },
    {
      "cell_type": "code",
      "metadata": {
        "id": "GUxsAj2Eja-L",
        "colab": {
          "base_uri": "https://localhost:8080/"
        },
        "outputId": "e995c62d-9161-4b55-965a-960dd1b72c4b"
      },
      "source": [
        "for i in range(10, 0, -1):\n",
        "    print(i)"
      ],
      "execution_count": 7,
      "outputs": [
        {
          "output_type": "stream",
          "name": "stdout",
          "text": [
            "10\n",
            "9\n",
            "8\n",
            "7\n",
            "6\n",
            "5\n",
            "4\n",
            "3\n",
            "2\n",
            "1\n"
          ]
        }
      ]
    },
    {
      "cell_type": "code",
      "source": [
        "for x in range(10, 0, -4):\n",
        "    print(x)"
      ],
      "metadata": {
        "id": "DkupRzkfR2ws",
        "colab": {
          "base_uri": "https://localhost:8080/"
        },
        "outputId": "d7616f91-35c4-4cdc-b507-c929443cca5d"
      },
      "execution_count": 8,
      "outputs": [
        {
          "output_type": "stream",
          "name": "stdout",
          "text": [
            "10\n",
            "6\n",
            "2\n"
          ]
        }
      ]
    },
    {
      "cell_type": "markdown",
      "source": [
        "### range からタプルやリストを作る"
      ],
      "metadata": {
        "id": "i7MOX0tpy8Fh"
      }
    },
    {
      "cell_type": "markdown",
      "source": [
        "rangeから、タプルやリストを作ることができる。"
      ],
      "metadata": {
        "id": "95poZw49zXtv"
      }
    },
    {
      "cell_type": "code",
      "source": [
        "menya = tuple(range(2, 9))\n",
        "print(menya)"
      ],
      "metadata": {
        "id": "kHsiCo6qy_3l",
        "colab": {
          "base_uri": "https://localhost:8080/"
        },
        "outputId": "f15e38f0-445c-4e08-fa20-f40d20e8e11d"
      },
      "execution_count": 9,
      "outputs": [
        {
          "output_type": "stream",
          "name": "stdout",
          "text": [
            "(2, 3, 4, 5, 6, 7, 8)\n"
          ]
        }
      ]
    },
    {
      "cell_type": "code",
      "source": [
        "konote = list(range(100, 80, -3))\n",
        "print(konote)"
      ],
      "metadata": {
        "id": "83Z4Y1atzi2T",
        "colab": {
          "base_uri": "https://localhost:8080/"
        },
        "outputId": "3b5c4bf5-b72f-492a-be42-3318aa679c41"
      },
      "execution_count": 10,
      "outputs": [
        {
          "output_type": "stream",
          "name": "stdout",
          "text": [
            "[100, 97, 94, 91, 88, 85, 82]\n"
          ]
        }
      ]
    },
    {
      "cell_type": "markdown",
      "source": [
        "## 練習問題（練習問題の正答は、別の[シート](https://colab.research.google.com/drive/1ukN_JUlX5E5K54vzPGJ27XtM3xgidmyn)にあります。）"
      ],
      "metadata": {
        "id": "FGWusM-2Z36W"
      }
    },
    {
      "cell_type": "markdown",
      "source": [
        "【問題】1 から 100 までの数のうち、7 の倍数をすべて表示するプログラムを作れ。"
      ],
      "metadata": {
        "id": "WxFxjUo3r2Ru"
      }
    },
    {
      "cell_type": "code",
      "source": [
        "for m in range(7, 101, 7):\n",
        "    print(m)"
      ],
      "metadata": {
        "id": "11XOdQGesBRX",
        "colab": {
          "base_uri": "https://localhost:8080/"
        },
        "outputId": "29f12622-877d-42ac-a772-c4f92bb6e6fe"
      },
      "execution_count": 1,
      "outputs": [
        {
          "output_type": "stream",
          "name": "stdout",
          "text": [
            "7\n",
            "14\n",
            "21\n",
            "28\n",
            "35\n",
            "42\n",
            "49\n",
            "56\n",
            "63\n",
            "70\n",
            "77\n",
            "84\n",
            "91\n",
            "98\n"
          ]
        }
      ]
    },
    {
      "cell_type": "markdown",
      "source": [
        "# 次の教材\n",
        "\n",
        "4.4 繰り返し回数を変化させる\n",
        "* https://colab.research.google.com/drive/1S45mrok8aVfIknHT7V86S_XZC1fWUdkM"
      ],
      "metadata": {
        "id": "2m1xo-4WVOm1"
      }
    }
  ]
}