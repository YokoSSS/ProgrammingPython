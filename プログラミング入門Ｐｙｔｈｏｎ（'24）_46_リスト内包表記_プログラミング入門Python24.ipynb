{
  "nbformat": 4,
  "nbformat_minor": 0,
  "metadata": {
    "colab": {
      "provenance": [],
      "collapsed_sections": [
        "WX4sRVO63me5",
        "FnSBdgK-Bwtz"
      ],
      "include_colab_link": true
    },
    "kernelspec": {
      "name": "python3",
      "display_name": "Python 3"
    }
  },
  "cells": [
    {
      "cell_type": "markdown",
      "metadata": {
        "id": "view-in-github",
        "colab_type": "text"
      },
      "source": [
        "<a href=\"https://colab.research.google.com/github/YokoSSS/ProgrammingPython/blob/OUJ_%E3%83%97%E3%83%AD%E3%82%B0%E3%83%A9%E3%83%9F%E3%83%B3%E3%82%B0%E5%85%A5%E9%96%80%EF%BC%B0%EF%BD%99%EF%BD%94%EF%BD%88%EF%BD%8F%EF%BD%8E%EF%BC%88'24%EF%BC%89/%E3%83%97%E3%83%AD%E3%82%B0%E3%83%A9%E3%83%9F%E3%83%B3%E3%82%B0%E5%85%A5%E9%96%80%EF%BC%B0%EF%BD%99%EF%BD%94%EF%BD%88%EF%BD%8F%EF%BD%8E%EF%BC%88'24%EF%BC%89_46_%E3%83%AA%E3%82%B9%E3%83%88%E5%86%85%E5%8C%85%E8%A1%A8%E8%A8%98_%E3%83%97%E3%83%AD%E3%82%B0%E3%83%A9%E3%83%9F%E3%83%B3%E3%82%B0%E5%85%A5%E9%96%80Python24.ipynb\" target=\"_parent\"><img src=\"https://colab.research.google.com/assets/colab-badge.svg\" alt=\"Open In Colab\"/></a>"
      ]
    },
    {
      "cell_type": "markdown",
      "source": [
        "# 第4章 繰り返し、インデントスタイル、乱数"
      ],
      "metadata": {
        "id": "-fANuhIy_Omf"
      }
    },
    {
      "cell_type": "markdown",
      "source": [
        " * 左上の「ファイル」を開いて、「ドライブにコピーを保存」をしてください。\n",
        " * 自分のGoogleドライブに、そのファイルが保存されます。ファイル名は「のコピー」が、最後（右端）についています。それを利用して学習・演習を進めて下さい。"
      ],
      "metadata": {
        "id": "lm7oxHNx4rIf"
      }
    },
    {
      "cell_type": "markdown",
      "source": [
        "# 4.6 リスト内包表記"
      ],
      "metadata": {
        "id": "TaAl4niOpATb"
      }
    },
    {
      "cell_type": "markdown",
      "source": [
        "リストを定義するときに、リストの中に for を入れる「リスト内包表記」という方法がある。\n",
        "\n",
        "> リスト名 = [式 for 変数 in range(5)]\n",
        "\n",
        "具体例で確認しておく。"
      ],
      "metadata": {
        "id": "jP6olWwHpFhh"
      }
    },
    {
      "cell_type": "code",
      "source": [
        "nijou = []\n",
        "for _ in range(10):\n",
        "    nijou.append(_ * _)\n",
        "\n",
        "print(nijou)"
      ],
      "metadata": {
        "id": "WQTlBA9Kp0kO",
        "colab": {
          "base_uri": "https://localhost:8080/"
        },
        "outputId": "80560038-53fa-43cb-d7b1-9124b1539687"
      },
      "execution_count": null,
      "outputs": [
        {
          "output_type": "stream",
          "name": "stdout",
          "text": [
            "[0, 1, 4, 9, 16, 25, 36, 49, 64, 81]\n"
          ]
        }
      ]
    },
    {
      "cell_type": "markdown",
      "source": [
        "このプログラムは、次のプログラムと同じ動きとなる。"
      ],
      "metadata": {
        "id": "K39vHF_jpw6m"
      }
    },
    {
      "cell_type": "code",
      "source": [
        "nijou = [ _ * _ for _ in range(10)] # リスト内包表記による定義\n",
        "print(nijou)"
      ],
      "metadata": {
        "id": "D4rIODVIpX17",
        "colab": {
          "base_uri": "https://localhost:8080/"
        },
        "outputId": "e68ef036-f024-4715-a926-1f6064f312fc"
      },
      "execution_count": null,
      "outputs": [
        {
          "output_type": "stream",
          "name": "stdout",
          "text": [
            "[0, 1, 4, 9, 16, 25, 36, 49, 64, 81]\n"
          ]
        }
      ]
    },
    {
      "cell_type": "markdown",
      "source": [
        "## 練習問題（練習問題の正答は、別の[シート](https://colab.research.google.com/drive/1V_NHb7yjZylnHY8NcGZTi1uP4MZN2XQo)にあります。）"
      ],
      "metadata": {
        "id": "gmaMZ2pOhfJn"
      }
    },
    {
      "cell_type": "markdown",
      "source": [
        "【問題】我が国で発行されている硬貨の金額（単位は「円」）は、現在、500, 100, 50, 10, 5, 1 がある。金額を指定されたとき、その金額をすべて硬貨にすることを考える。このとき、なるべく硬貨の枚数を少なくしたい。\n",
        "\n",
        "与えられた金額に対して、500円硬貨を何枚用いることができるだろうか？その残りに対して、100円硬貨を何枚用いることができるだろうか？という計算を行っていく。\n",
        "\n",
        "* 例えば、1234円を示されたとする。\n",
        "* 1234円, 500円硬貨\n",
        " * 1234 // 500 = 2 であるから、500円硬貨は、最大で2枚使うことになる。\n",
        " * 1234 % 500 = 234 であるから、残り 234円を、100円以下の硬貨で構成することになる。\n",
        "* 234円, 100円硬貨\n",
        " * 234 // 100 = 2 であるから、100円硬貨は2枚。\n",
        " * 234 % 100 = 34 であるから、残りは34円。\n",
        "* 34円, 50円硬貨\n",
        " * 34 // 50 = 0 であるから、50円硬貨は0枚\n",
        " * 34 % 50 = 34 であるから、残りは34円。\n",
        "* 34円, 10円硬貨\n",
        " * 34 // 10 = 3 であるから、10円硬貨は3枚。\n",
        " * 34 % 10 = 4 であるから、残りは4円。\n",
        "* 4円, 5円硬貨\n",
        " * 4 // 5 = 0 であるから、5円硬貨は0枚。\n",
        " * 4 % 5 = 4  であるから、残りは4円。\n",
        "* 4円, 1円硬貨\n",
        " * 4 // 1 = 4  であるから、1円硬貨は4枚。\n",
        " * 4 % 1 = 0 であるから残りは0円。\n",
        "\n",
        "このように計算していくプログラムを作ってみよう。\n",
        "\n",
        "手順をよく見ると、次のようになっていることがわかる。\n",
        "\n",
        "* 現時点での残額と、次に使用する硬貨が決まると\n",
        " * 残額 // 硬貨額 が、硬貨の枚数\n",
        " * 残額 % 硬貨額 が、次の硬貨のための残額\n",
        "\n",
        "したがって、この2つの処理を、高い硬貨から順に繰り返していけばいい。"
      ],
      "metadata": {
        "id": "acGmJT8Nv33m"
      }
    },
    {
      "cell_type": "code",
      "source": [
        "# 硬貨の金額を定義する\n",
        "koukalist = (500, 100, 50, 10, 5, 1)\n",
        "\n",
        "# 金額を入力する\n",
        "p = int(input(\"how much?\"))\n",
        "\n",
        "# 以下各自\n",
        "\n",
        "for kouka in koukalist:\n",
        "    print(kouka, \":\", p // kouka, \"mai\")\n",
        "    p = p % kouka"
      ],
      "metadata": {
        "id": "3_iLBZmh5pRw",
        "colab": {
          "base_uri": "https://localhost:8080/"
        },
        "outputId": "fe4cab92-483d-4611-fb71-620851674ff7"
      },
      "execution_count": null,
      "outputs": [
        {
          "output_type": "stream",
          "name": "stdout",
          "text": [
            "how much?1532\n",
            "500 : 3 mai\n",
            "100 : 0 mai\n",
            "50 : 0 mai\n",
            "10 : 3 mai\n",
            "5 : 0 mai\n",
            "1 : 2 mai\n"
          ]
        }
      ]
    },
    {
      "cell_type": "markdown",
      "source": [
        "# 次の教材\n",
        "\n",
        "4.7 乱数の利用\n",
        "* https://colab.research.google.com/drive/1ZXTL6R76S54KbPxlQ5fDLMUa01evHG_y"
      ],
      "metadata": {
        "id": "_Do-zZkIM-Mw"
      }
    }
  ]
}