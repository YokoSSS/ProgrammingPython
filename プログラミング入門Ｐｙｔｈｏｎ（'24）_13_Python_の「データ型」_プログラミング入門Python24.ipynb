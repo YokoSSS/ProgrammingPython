{
  "nbformat": 4,
  "nbformat_minor": 0,
  "metadata": {
    "colab": {
      "provenance": [],
      "collapsed_sections": [
        "WX4sRVO63me5",
        "FnSBdgK-Bwtz"
      ],
      "include_colab_link": true
    },
    "kernelspec": {
      "name": "python3",
      "display_name": "Python 3"
    }
  },
  "cells": [
    {
      "cell_type": "markdown",
      "metadata": {
        "id": "view-in-github",
        "colab_type": "text"
      },
      "source": [
        "<a href=\"https://colab.research.google.com/github/YokoSSS/ProgrammingPython/blob/OUJ_%E3%83%97%E3%83%AD%E3%82%B0%E3%83%A9%E3%83%9F%E3%83%B3%E3%82%B0%E5%85%A5%E9%96%80%EF%BC%B0%EF%BD%99%EF%BD%94%EF%BD%88%EF%BD%8F%EF%BD%8E%EF%BC%88'24%EF%BC%89/%E3%83%97%E3%83%AD%E3%82%B0%E3%83%A9%E3%83%9F%E3%83%B3%E3%82%B0%E5%85%A5%E9%96%80%EF%BC%B0%EF%BD%99%EF%BD%94%EF%BD%88%EF%BD%8F%EF%BD%8E%EF%BC%88'24%EF%BC%89_13_Python_%E3%81%AE%E3%80%8C%E3%83%87%E3%83%BC%E3%82%BF%E5%9E%8B%E3%80%8D_%E3%83%97%E3%83%AD%E3%82%B0%E3%83%A9%E3%83%9F%E3%83%B3%E3%82%B0%E5%85%A5%E9%96%80Python24.ipynb\" target=\"_parent\"><img src=\"https://colab.research.google.com/assets/colab-badge.svg\" alt=\"Open In Colab\"/></a>"
      ]
    },
    {
      "cell_type": "markdown",
      "source": [
        "# 第1章 プログラミング事始め・文字列・データ型"
      ],
      "metadata": {
        "id": "mHON3KhHJDNm"
      }
    },
    {
      "cell_type": "code",
      "source": [],
      "metadata": {
        "id": "wya7myEP_JvQ"
      },
      "execution_count": null,
      "outputs": []
    },
    {
      "cell_type": "markdown",
      "source": [
        " * 左上の「ファイル」を開いて、「ドライブにコピーを保存」をしてください。\n",
        " * 自分のGoogleドライブに、そのファイルが保存されます。ファイル名は「のコピー」が、最後（右端）についています。それを利用して学習・演習を進めて下さい。"
      ],
      "metadata": {
        "id": "lm7oxHNx4rIf"
      }
    },
    {
      "cell_type": "markdown",
      "source": [
        "# 1.3 Python の「データ型」\n",
        "\n"
      ],
      "metadata": {
        "id": "3UkY_doPd6PK"
      }
    },
    {
      "cell_type": "markdown",
      "source": [
        "## 数字の並びは、文字列か、数値か？\n",
        "\n",
        "プログラミング言語では、数字を並べたものが、文字列なのか、数値を表しているのか、そのままではわかりにくいので、次のようにして区別する。\n",
        "\n",
        "*   文字列は、上述したとおり、シングルクォーテーションマークか、ダブルクォーテーションマークで括る。\n",
        "*   数値は、数字、マイナス符号、小数点を並べて表す。\n",
        "\n",
        "以下のプログラムで、動作を確認してみよう。"
      ],
      "metadata": {
        "id": "45N13P9Cn8kr"
      }
    },
    {
      "cell_type": "code",
      "source": [
        "# 文字列同士の結合\n",
        "ichi = \"1\"\n",
        "ni = \"2\"\n",
        "print(ichi + ni)"
      ],
      "metadata": {
        "id": "GYN840Tod6PL",
        "colab": {
          "base_uri": "https://localhost:8080/"
        },
        "outputId": "9f211921-a46d-455d-d9c3-70526f21e399"
      },
      "execution_count": 1,
      "outputs": [
        {
          "output_type": "stream",
          "name": "stdout",
          "text": [
            "12\n"
          ]
        }
      ]
    },
    {
      "cell_type": "code",
      "source": [
        "# 数値の和\n",
        "ichi = 1\n",
        "ni = 2\n",
        "print(ichi + ni)"
      ],
      "metadata": {
        "id": "cRghYq5gd6PL",
        "colab": {
          "base_uri": "https://localhost:8080/"
        },
        "outputId": "c1ed8186-f8ae-4315-c415-47f65e6e8e4f"
      },
      "execution_count": 2,
      "outputs": [
        {
          "output_type": "stream",
          "name": "stdout",
          "text": [
            "3\n"
          ]
        }
      ]
    },
    {
      "cell_type": "markdown",
      "source": [
        "## データ型\n",
        "\n",
        "このように、文字列か数値なのかを表現する属性を「データ型」(英語では type ）という。"
      ],
      "metadata": {
        "id": "8h2sKfkGd6PL"
      }
    },
    {
      "cell_type": "markdown",
      "source": [
        "次のプログラムは、数値と文字列を強引につなげようとしたため、TypeError（型の誤り）となる。"
      ],
      "metadata": {
        "id": "jMxl8WqtJfsa"
      }
    },
    {
      "cell_type": "code",
      "source": [
        "# 数値を代入\n",
        "ichi = 1\n",
        "# 文字列を代入\n",
        "ni = \"2\"\n",
        "\n",
        "# + でつなげようとする\n",
        "print(ichi + ni)"
      ],
      "metadata": {
        "id": "t4O4h7mOd6PM",
        "colab": {
          "base_uri": "https://localhost:8080/",
          "height": 176
        },
        "outputId": "b78d5a6d-4b31-4df8-8926-43c92361db7e"
      },
      "execution_count": 3,
      "outputs": [
        {
          "output_type": "error",
          "ename": "TypeError",
          "evalue": "unsupported operand type(s) for +: 'int' and 'str'",
          "traceback": [
            "\u001b[0;31m---------------------------------------------------------------------------\u001b[0m",
            "\u001b[0;31mTypeError\u001b[0m                                 Traceback (most recent call last)",
            "\u001b[0;32m<ipython-input-3-8c476c281ce0>\u001b[0m in \u001b[0;36m<cell line: 7>\u001b[0;34m()\u001b[0m\n\u001b[1;32m      5\u001b[0m \u001b[0;34m\u001b[0m\u001b[0m\n\u001b[1;32m      6\u001b[0m \u001b[0;31m# + でつなげようとする\u001b[0m\u001b[0;34m\u001b[0m\u001b[0;34m\u001b[0m\u001b[0m\n\u001b[0;32m----> 7\u001b[0;31m \u001b[0mprint\u001b[0m\u001b[0;34m(\u001b[0m\u001b[0michi\u001b[0m \u001b[0;34m+\u001b[0m \u001b[0mni\u001b[0m\u001b[0;34m)\u001b[0m\u001b[0;34m\u001b[0m\u001b[0;34m\u001b[0m\u001b[0m\n\u001b[0m",
            "\u001b[0;31mTypeError\u001b[0m: unsupported operand type(s) for +: 'int' and 'str'"
          ]
        }
      ]
    },
    {
      "cell_type": "markdown",
      "source": [
        "###文字列のデータ型\n",
        "\n",
        "Pythonの文字列の型は、文字列１種類しかない。 str で表す。"
      ],
      "metadata": {
        "id": "v9LyK47P5CKE"
      }
    },
    {
      "cell_type": "markdown",
      "source": [
        "###数値のデータ型\n",
        "\n",
        "Pythonで扱う数値は、次の３つのどれかになる。\n",
        "\n",
        "1.   int 整数\n",
        "2.   float 浮動小数点数（小数点を用いる数）\n",
        "3.   complex 複素数（虚数単位は、 j で表す。）\n",
        " * 複素数 $x + yi$ は、 x+yj か、 complex(x, y) で表現する。他に、後述の complex(\"x+yj\")として、文字列から変換させることもできる。"
      ],
      "metadata": {
        "id": "c5BbGoqJeOoV"
      }
    },
    {
      "cell_type": "code",
      "source": [
        "# 複素数として、 x, y, z の値を決めておく\n",
        "x = 2 + 3j\n",
        "y = complex(-2, 1)\n",
        "z = complex(\"2+5j\")\n",
        "\n",
        "# それぞれについての演算結果\n",
        "print(x + y)\n",
        "print(y * z)\n",
        "print(x * z)"
      ],
      "metadata": {
        "id": "j0pKIy3BhV3B",
        "colab": {
          "base_uri": "https://localhost:8080/"
        },
        "outputId": "2358f7aa-8263-4cfd-b7ee-058165786dd1"
      },
      "execution_count": 4,
      "outputs": [
        {
          "output_type": "stream",
          "name": "stdout",
          "text": [
            "4j\n",
            "(-9-8j)\n",
            "(-11+16j)\n"
          ]
        }
      ]
    },
    {
      "cell_type": "markdown",
      "source": [
        "##データ型を調べる\n",
        "\n",
        "type(定数)　や、type(変数） などとかくと、データ型を調べることができる。print文で、その結果を表示できる。"
      ],
      "metadata": {
        "id": "oBd3POszg-NC"
      }
    },
    {
      "cell_type": "code",
      "source": [
        "# 文字列のデータ型\n",
        "print(type(\"Chiba\"))"
      ],
      "metadata": {
        "id": "FnB7YtldSX66",
        "colab": {
          "base_uri": "https://localhost:8080/"
        },
        "outputId": "a8809b8b-77da-4ed4-8a41-29c6565ab698"
      },
      "execution_count": 5,
      "outputs": [
        {
          "output_type": "stream",
          "name": "stdout",
          "text": [
            "<class 'str'>\n"
          ]
        }
      ]
    },
    {
      "cell_type": "code",
      "source": [
        "# 整数のデータ型\n",
        "print(type(1))"
      ],
      "metadata": {
        "id": "PpW4mkqf_kXE",
        "colab": {
          "base_uri": "https://localhost:8080/"
        },
        "outputId": "2a05360b-019a-4382-9ae6-fcc1a4785eca"
      },
      "execution_count": 6,
      "outputs": [
        {
          "output_type": "stream",
          "name": "stdout",
          "text": [
            "<class 'int'>\n"
          ]
        }
      ]
    },
    {
      "cell_type": "code",
      "source": [
        "# 浮動小数点数のデータ型\n",
        "print(type(1.0))"
      ],
      "metadata": {
        "id": "-Q_SCDZr_uzy",
        "colab": {
          "base_uri": "https://localhost:8080/"
        },
        "outputId": "6d50345a-b9dd-4946-ecb5-cb6a38db8dca"
      },
      "execution_count": 8,
      "outputs": [
        {
          "output_type": "stream",
          "name": "stdout",
          "text": [
            "<class 'float'>\n"
          ]
        }
      ]
    },
    {
      "cell_type": "code",
      "source": [
        "# 複素数のデータ型\n",
        "print(type(2 + 3j))"
      ],
      "metadata": {
        "id": "IwHYGbsp_03q",
        "colab": {
          "base_uri": "https://localhost:8080/"
        },
        "outputId": "833fbae5-444f-4014-fe31-776188be85bc"
      },
      "execution_count": 7,
      "outputs": [
        {
          "output_type": "stream",
          "name": "stdout",
          "text": [
            "<class 'complex'>\n"
          ]
        }
      ]
    },
    {
      "cell_type": "markdown",
      "source": [
        "複素数の実部と虚部は、その数の後ろに、.real と .imag をつける。"
      ],
      "metadata": {
        "id": "92HztiCDydtu"
      }
    },
    {
      "cell_type": "code",
      "source": [
        "# 複素数を定める\n",
        "z = complex(3,4)\n",
        "print(z)\n",
        "\n",
        "# 実部のみを表示\n",
        "print(z.real)\n",
        "\n",
        "# 虚部のみを表示\n",
        "print(z.imag)"
      ],
      "metadata": {
        "id": "j8jXhVoUykXz",
        "colab": {
          "base_uri": "https://localhost:8080/"
        },
        "outputId": "fa14eae7-5dc3-4708-81fb-1e29c73182aa"
      },
      "execution_count": 9,
      "outputs": [
        {
          "output_type": "stream",
          "name": "stdout",
          "text": [
            "(3+4j)\n",
            "3.0\n",
            "4.0\n"
          ]
        }
      ]
    },
    {
      "cell_type": "markdown",
      "source": [
        "##四則演算 とデータ型の変換"
      ],
      "metadata": {
        "id": "ws-Yc5X8rGzH"
      }
    },
    {
      "cell_type": "markdown",
      "source": [
        "四則演算は、次の記号を用いる。\n",
        "\n",
        "*  足し算（加算） +\n",
        "*  引き算（減算） -\n",
        "*  掛け算（乗算） *\n",
        "*  割り算（除算） /"
      ],
      "metadata": {
        "id": "2LOBh4carOB8"
      }
    },
    {
      "cell_type": "code",
      "source": [
        "x = 20\n",
        "y = 3\n",
        "print(x + y)\n",
        "print(x - y)\n",
        "print(x * y)\n",
        "print(x / y)"
      ],
      "metadata": {
        "id": "utB88bb3rxb0",
        "colab": {
          "base_uri": "https://localhost:8080/"
        },
        "outputId": "810bb23f-1496-402b-9ae4-fde38a7c1c8f"
      },
      "execution_count": 10,
      "outputs": [
        {
          "output_type": "stream",
          "name": "stdout",
          "text": [
            "23\n",
            "17\n",
            "60\n",
            "6.666666666666667\n"
          ]
        }
      ]
    },
    {
      "cell_type": "markdown",
      "source": [
        "また、「数字やマイナス符号、小数点が並んだ文字列」を、数値に変換したり、あるデータ型の数を他のデータ型に変換することもできる。\n",
        "\n",
        "* int(対象) ：　文字列や他のデータ型の数を整数にする\n",
        "* float(対象）: 文字列や他のデータ型の数を浮動小数点数にする\n",
        "* complex(対象): 文字列や他のデータ型の数を複素数にする\n",
        "\n"
      ],
      "metadata": {
        "id": "yol3QQKEfoVi"
      }
    },
    {
      "cell_type": "code",
      "source": [
        "# マイナス記号がついた文字列を数に変換\n",
        "x = int(\"10\")\n",
        "y = int(\"-3\")\n",
        "print(x + y)\n",
        "print(type(x + y))"
      ],
      "metadata": {
        "id": "3r2k8V0cgL85",
        "colab": {
          "base_uri": "https://localhost:8080/"
        },
        "outputId": "7c72be26-e2a4-4f7d-87f2-31d4a00e5d82"
      },
      "execution_count": 11,
      "outputs": [
        {
          "output_type": "stream",
          "name": "stdout",
          "text": [
            "7\n",
            "<class 'int'>\n"
          ]
        }
      ]
    },
    {
      "cell_type": "code",
      "source": [
        "# 小数点がついた文字列を数に変換\n",
        "x = float(\"10\")\n",
        "y = float(\"0.5\")\n",
        "print(x - y)\n",
        "print(type(x - y))"
      ],
      "metadata": {
        "id": "1vaCp2NNga3h",
        "colab": {
          "base_uri": "https://localhost:8080/"
        },
        "outputId": "911dd9b1-8ace-4630-d3b3-3e11e3eede96"
      },
      "execution_count": 12,
      "outputs": [
        {
          "output_type": "stream",
          "name": "stdout",
          "text": [
            "9.5\n",
            "<class 'float'>\n"
          ]
        }
      ]
    },
    {
      "cell_type": "markdown",
      "source": [
        "整数型と浮動小数点数の計算を行うと、結果は浮動小数点数になる。"
      ],
      "metadata": {
        "id": "7hX2skJJgqda"
      }
    },
    {
      "cell_type": "markdown",
      "source": [
        "### 複素数の取り扱い"
      ],
      "metadata": {
        "id": "w3Z5F0wxtMEK"
      }
    },
    {
      "cell_type": "markdown",
      "source": [
        "複素数を表す文字列は、そのまま、+ 以外の計算をしようとするとエラーになる。"
      ],
      "metadata": {
        "id": "uz-jOOThT4A9"
      }
    },
    {
      "cell_type": "code",
      "source": [
        "# x を文字列として定める\n",
        "x = \"1+1j\"\n",
        "\n",
        "# 文字列同士の和は、文字列の結合になる\n",
        "print(x + x)"
      ],
      "metadata": {
        "id": "tdWGLdISs8i9",
        "colab": {
          "base_uri": "https://localhost:8080/"
        },
        "outputId": "159cefa1-658e-4afe-b09a-ae8fbff72d6b"
      },
      "execution_count": 13,
      "outputs": [
        {
          "output_type": "stream",
          "name": "stdout",
          "text": [
            "1+1j1+1j\n"
          ]
        }
      ]
    },
    {
      "cell_type": "code",
      "source": [
        "# 文字列同士の積？\n",
        "x = \"1+1j\"\n",
        "print(x * x)"
      ],
      "metadata": {
        "id": "b6P9hHZwT-SP",
        "colab": {
          "base_uri": "https://localhost:8080/",
          "height": 176
        },
        "outputId": "8ad19bb0-ec95-4186-d5f7-2602d0980ff9"
      },
      "execution_count": 14,
      "outputs": [
        {
          "output_type": "error",
          "ename": "TypeError",
          "evalue": "can't multiply sequence by non-int of type 'str'",
          "traceback": [
            "\u001b[0;31m---------------------------------------------------------------------------\u001b[0m",
            "\u001b[0;31mTypeError\u001b[0m                                 Traceback (most recent call last)",
            "\u001b[0;32m<ipython-input-14-68b8a18b6341>\u001b[0m in \u001b[0;36m<cell line: 3>\u001b[0;34m()\u001b[0m\n\u001b[1;32m      1\u001b[0m \u001b[0;31m# 文字列同士の積？\u001b[0m\u001b[0;34m\u001b[0m\u001b[0;34m\u001b[0m\u001b[0m\n\u001b[1;32m      2\u001b[0m \u001b[0mx\u001b[0m \u001b[0;34m=\u001b[0m \u001b[0;34m\"1+1j\"\u001b[0m\u001b[0;34m\u001b[0m\u001b[0;34m\u001b[0m\u001b[0m\n\u001b[0;32m----> 3\u001b[0;31m \u001b[0mprint\u001b[0m\u001b[0;34m(\u001b[0m\u001b[0mx\u001b[0m \u001b[0;34m*\u001b[0m \u001b[0mx\u001b[0m\u001b[0;34m)\u001b[0m\u001b[0;34m\u001b[0m\u001b[0;34m\u001b[0m\u001b[0m\n\u001b[0m",
            "\u001b[0;31mTypeError\u001b[0m: can't multiply sequence by non-int of type 'str'"
          ]
        }
      ]
    },
    {
      "cell_type": "markdown",
      "source": [
        "複素数も文字列から数値に変換することができる。"
      ],
      "metadata": {
        "id": "-RS1koqVjc7c"
      }
    },
    {
      "cell_type": "code",
      "source": [
        "x = complex(\"1+1j\")\n",
        "print(x * x)\n",
        "print(x * x * x * x)"
      ],
      "metadata": {
        "id": "UeHYNVuCjfoK",
        "colab": {
          "base_uri": "https://localhost:8080/"
        },
        "outputId": "bba5fefa-2f8d-4399-a94c-8bdbe66f8756"
      },
      "execution_count": 15,
      "outputs": [
        {
          "output_type": "stream",
          "name": "stdout",
          "text": [
            "2j\n",
            "(-4+0j)\n"
          ]
        }
      ]
    },
    {
      "cell_type": "markdown",
      "source": [
        "### その他のデータ型"
      ],
      "metadata": {
        "id": "LNGnIA_dtTV5"
      }
    },
    {
      "cell_type": "markdown",
      "source": [
        "他にもいくつかのデータ型がある。以下は後述する。\n",
        "+ タプル型\n",
        "+ リスト型\n",
        "+ 真偽型（ブール型）\n",
        "+ レンジ型\n",
        "\n",
        "以下は、この教材では扱わないので、自習推奨。\n",
        "\n",
        "+ 日付型\n",
        "+ 集合型\n",
        "+ 辞書型"
      ],
      "metadata": {
        "id": "sALUabZGeaOT"
      }
    },
    {
      "cell_type": "markdown",
      "source": [
        "# （次の教材）1.4 横に長い行\n",
        "* https://colab.research.google.com/drive/1KU2Bhk_G6GXltJPsMm0USGXsI_2vh7sG"
      ],
      "metadata": {
        "id": "Hpu2wgG-NOAU"
      }
    }
  ]
}