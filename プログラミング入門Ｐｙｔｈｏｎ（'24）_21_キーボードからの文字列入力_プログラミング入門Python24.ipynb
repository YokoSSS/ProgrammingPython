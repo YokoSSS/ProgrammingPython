{
  "nbformat": 4,
  "nbformat_minor": 0,
  "metadata": {
    "colab": {
      "provenance": [],
      "collapsed_sections": [
        "WX4sRVO63me5",
        "FnSBdgK-Bwtz"
      ],
      "include_colab_link": true
    },
    "kernelspec": {
      "name": "python3",
      "display_name": "Python 3"
    }
  },
  "cells": [
    {
      "cell_type": "markdown",
      "metadata": {
        "id": "view-in-github",
        "colab_type": "text"
      },
      "source": [
        "<a href=\"https://colab.research.google.com/github/YokoSSS/ProgrammingPython/blob/OUJ_%E3%83%97%E3%83%AD%E3%82%B0%E3%83%A9%E3%83%9F%E3%83%B3%E3%82%B0%E5%85%A5%E9%96%80%EF%BC%B0%EF%BD%99%EF%BD%94%EF%BD%88%EF%BD%8F%EF%BD%8E%EF%BC%88'24%EF%BC%89/%E3%83%97%E3%83%AD%E3%82%B0%E3%83%A9%E3%83%9F%E3%83%B3%E3%82%B0%E5%85%A5%E9%96%80%EF%BC%B0%EF%BD%99%EF%BD%94%EF%BD%88%EF%BD%8F%EF%BD%8E%EF%BC%88'24%EF%BC%89_21_%E3%82%AD%E3%83%BC%E3%83%9C%E3%83%BC%E3%83%89%E3%81%8B%E3%82%89%E3%81%AE%E6%96%87%E5%AD%97%E5%88%97%E5%85%A5%E5%8A%9B_%E3%83%97%E3%83%AD%E3%82%B0%E3%83%A9%E3%83%9F%E3%83%B3%E3%82%B0%E5%85%A5%E9%96%80Python24.ipynb\" target=\"_parent\"><img src=\"https://colab.research.google.com/assets/colab-badge.svg\" alt=\"Open In Colab\"/></a>"
      ]
    },
    {
      "cell_type": "markdown",
      "source": [
        "# 第2章 キーボードから入力、代入と演算、タプルとリスト"
      ],
      "metadata": {
        "id": "mHON3KhHJDNm"
      }
    },
    {
      "cell_type": "markdown",
      "source": [
        " * 左上の「ファイル」を開いて、「ドライブにコピーを保存」をしてください。\n",
        " * 自分のGoogleドライブに、そのファイルが保存されます。ファイル名は「のコピー」が、最後（右端）についています。それを利用して学習・演習を進めて下さい。"
      ],
      "metadata": {
        "id": "lm7oxHNx4rIf"
      }
    },
    {
      "cell_type": "markdown",
      "source": [
        "キーボードからの入力、データ型の変換、代入・演算、複数のデータをまとめて取り扱うタプルとリスト、スライス、条件分岐（制御）について学びます。"
      ],
      "metadata": {
        "id": "QruH-wxY9Q7k"
      }
    },
    {
      "cell_type": "markdown",
      "metadata": {
        "id": "jYmMCmlhrRVr"
      },
      "source": [
        "# 2.1 キーボードからの文字列入力"
      ]
    },
    {
      "cell_type": "markdown",
      "metadata": {
        "id": "zWz5XlOoQNmB"
      },
      "source": [
        "キーボードから入力を求めるには、 input を用いる。"
      ]
    },
    {
      "cell_type": "markdown",
      "source": [
        "## input の利用例\n",
        "次のプログラムは、入力された言葉を使って表示を行うだけのプログラムである。"
      ],
      "metadata": {
        "id": "ENq3wG02Kxyo"
      }
    },
    {
      "cell_type": "markdown",
      "metadata": {
        "id": "MHgPHaDWs3Jg"
      },
      "source": [
        "次のプログラムの解説\n",
        "+ 2行目：変数 yourname に、キーボードから入力された文字列を代入している。（数学では「変数」は、英文字1文字で、数や数値が入るが、プログラムの変数は、英文字で始まり英文字や数字が続く語であればよく、また、その値に文字列を想定することができる。\n",
        "+ 5行目：一定の書式を利用して、文字列を画面に表示する。\n",
        "\n",
        "\n",
        "\n"
      ]
    },
    {
      "cell_type": "code",
      "metadata": {
        "id": "bANAO671sUOc",
        "colab": {
          "base_uri": "https://localhost:8080/"
        },
        "outputId": "3ba240a8-ed4d-4b6e-ce6c-f11db725509a"
      },
      "source": [
        "# 入力を求める\n",
        "yourname = input('Your name?')\n",
        "\n",
        "# それを利用して表示\n",
        "print('Oh! Your name is', yourname)"
      ],
      "execution_count": 1,
      "outputs": [
        {
          "output_type": "stream",
          "name": "stdout",
          "text": [
            "Your name?yo\n",
            "Oh! Your name is yo\n"
          ]
        }
      ]
    },
    {
      "cell_type": "markdown",
      "source": [
        "### 確認問題　（確認問題の正答はありません。授業中に提示します）"
      ],
      "metadata": {
        "id": "UWta0dACGaME"
      }
    },
    {
      "cell_type": "markdown",
      "source": [
        "上のプログラムを、「名前を入力すると、その名前の最後に . （ピリオド）をつける」ように改造せよ。（以下、実行例）\n",
        "> Oh! Your name is Takeo."
      ],
      "metadata": {
        "id": "14SqtRsdJ2OW"
      }
    },
    {
      "cell_type": "code",
      "source": [
        "yourname = input('Your name?')\n"
      ],
      "metadata": {
        "id": "zGw8Cr27KD8g",
        "colab": {
          "base_uri": "https://localhost:8080/"
        },
        "outputId": "c38dcd94-e62a-4db9-978b-4afdd5c20bb9"
      },
      "execution_count": 2,
      "outputs": [
        {
          "name": "stdout",
          "output_type": "stream",
          "text": [
            "Your name?yo\n"
          ]
        }
      ]
    },
    {
      "cell_type": "markdown",
      "source": [
        "## input の値は文字列\n",
        "\n",
        "input でキーボードから入力された値は、たとえ数字を入力しても文字列である。次のプログラムを実行して、文字列を入れたり、数字の列を入れたりして、確認してみるとわかる。"
      ],
      "metadata": {
        "id": "Io2UbevmkKzP"
      }
    },
    {
      "cell_type": "code",
      "source": [
        "# input での入力を x に代入\n",
        "x = input(\"x?\")\n",
        "print(x)\n",
        "\n",
        "# x の型を確認\n",
        "print(type(x))"
      ],
      "metadata": {
        "id": "ePV4FV9ekUmU",
        "colab": {
          "base_uri": "https://localhost:8080/"
        },
        "outputId": "1c2be84c-6daf-431f-ebc8-d97fde35fd01"
      },
      "execution_count": 3,
      "outputs": [
        {
          "output_type": "stream",
          "name": "stdout",
          "text": [
            "x?1\n",
            "1\n",
            "<class 'str'>\n"
          ]
        }
      ]
    },
    {
      "cell_type": "markdown",
      "source": [
        "## 文字列と数の変換"
      ],
      "metadata": {
        "id": "UZ-ue1tDd-9c"
      }
    },
    {
      "cell_type": "markdown",
      "source": [
        "上の例のように、数値を入力させたいときは、inputだけでは不十分で、文字列を数値に変換する方法も一緒に利用することになる。次の書き方がある。\n",
        "\n",
        "* int(文字列)\n",
        "* float(文字列)\n",
        "* complex(文字列)"
      ],
      "metadata": {
        "id": "NhO2KVdHkn7d"
      }
    },
    {
      "cell_type": "code",
      "source": [
        "x = input(\"x?\")\n",
        "print(x)\n",
        "\n",
        "i = int(x)\n",
        "print(i)\n",
        "\n",
        "f = float(x)\n",
        "print(f)\n",
        "\n",
        "c = complex(x)\n",
        "print(c)"
      ],
      "metadata": {
        "id": "P7-xpKflkyMK",
        "colab": {
          "base_uri": "https://localhost:8080/"
        },
        "outputId": "5dac8f0c-e803-4b84-e56b-dad67430b7e9"
      },
      "execution_count": 4,
      "outputs": [
        {
          "output_type": "stream",
          "name": "stdout",
          "text": [
            "x?77\n",
            "77\n",
            "77\n",
            "77.0\n",
            "(77+0j)\n"
          ]
        }
      ]
    },
    {
      "cell_type": "markdown",
      "source": [
        "一方で、数値を文字列に変更するときは、次のように書く。\n",
        "\n",
        "* str(数値)"
      ],
      "metadata": {
        "id": "PPWXgCzZeyk3"
      }
    },
    {
      "cell_type": "code",
      "source": [
        "x = 47\n",
        "print(x+x)\n",
        "\n",
        "# x を文字列にする\n",
        "s = str(x)\n",
        "print(s+s)"
      ],
      "metadata": {
        "id": "Outqz63ie_j4",
        "colab": {
          "base_uri": "https://localhost:8080/"
        },
        "outputId": "b1e19f8c-c031-4ba8-8ed6-ed4a602580c3"
      },
      "execution_count": 5,
      "outputs": [
        {
          "output_type": "stream",
          "name": "stdout",
          "text": [
            "94\n",
            "4747\n"
          ]
        }
      ]
    },
    {
      "cell_type": "code",
      "source": [
        "x = 47.0\n",
        "print(x+x)\n",
        "\n",
        "# x を文字列にする\n",
        "s = str(x)\n",
        "print(s+s)"
      ],
      "metadata": {
        "id": "bOixkqoXfaHz",
        "colab": {
          "base_uri": "https://localhost:8080/"
        },
        "outputId": "f854362a-8927-4276-8c6b-add65d80610f"
      },
      "execution_count": 6,
      "outputs": [
        {
          "output_type": "stream",
          "name": "stdout",
          "text": [
            "94.0\n",
            "47.047.0\n"
          ]
        }
      ]
    },
    {
      "cell_type": "code",
      "source": [
        "x = 47+3j\n",
        "print(x+x)\n",
        "\n",
        "# x を文字列にする\n",
        "s = str(x)\n",
        "print(s+s)"
      ],
      "metadata": {
        "id": "utwHljjafbpS",
        "colab": {
          "base_uri": "https://localhost:8080/"
        },
        "outputId": "7283aa40-b00e-4dfd-95fd-d30d8abddfa0"
      },
      "execution_count": 7,
      "outputs": [
        {
          "output_type": "stream",
          "name": "stdout",
          "text": [
            "(94+6j)\n",
            "(47+3j)(47+3j)\n"
          ]
        }
      ]
    },
    {
      "cell_type": "markdown",
      "source": [
        "### 数値を入力させたい場合にまとめて書く方法"
      ],
      "metadata": {
        "id": "ss6TKTc84I9C"
      }
    },
    {
      "cell_type": "markdown",
      "source": [
        "input 命令は文字列を値とする。入力された複数の数字は「数字の列」であって、数値ではない。それを数値にするプログラムとして、次のプログラムをできる。"
      ],
      "metadata": {
        "id": "mN9-xvgY4PvK"
      }
    },
    {
      "cell_type": "code",
      "source": [
        "# 分けて書くと\n",
        "t = input(\"a?\")\n",
        "a = int(t)\n",
        "\n",
        "# その結果を、例えば表示する\n",
        "print(a + 1)"
      ],
      "metadata": {
        "id": "E6tzZs4S7-HR",
        "colab": {
          "base_uri": "https://localhost:8080/"
        },
        "outputId": "8138a692-9f51-49e9-bb29-c553593ada1a"
      },
      "execution_count": 8,
      "outputs": [
        {
          "output_type": "stream",
          "name": "stdout",
          "text": [
            "a?888\n",
            "889\n"
          ]
        }
      ]
    },
    {
      "cell_type": "markdown",
      "source": [
        "しかし、これを1つにまとめることができる。"
      ],
      "metadata": {
        "id": "h_YlfDLw4kdc"
      }
    },
    {
      "cell_type": "code",
      "source": [
        "# まとめて次の1行で済ませることができる。\n",
        "a = int(input(\"a?\"))\n",
        "\n",
        "# その結果を、例えば表示する\n",
        "print(a + 1)"
      ],
      "metadata": {
        "id": "pfBRUdHn4Cm7",
        "colab": {
          "base_uri": "https://localhost:8080/"
        },
        "outputId": "fb93a529-4d1a-4324-b250-4459c211e23d"
      },
      "execution_count": 9,
      "outputs": [
        {
          "output_type": "stream",
          "name": "stdout",
          "text": [
            "a?9\n",
            "10\n"
          ]
        }
      ]
    },
    {
      "cell_type": "markdown",
      "source": [
        "もし、その値を変数として使用しないなら、さらにまとめることもできるが、あまり意味がない。"
      ],
      "metadata": {
        "id": "zQ7I18ao4otU"
      }
    },
    {
      "cell_type": "code",
      "source": [
        "print(int(input(\"a?\")) + 1)"
      ],
      "metadata": {
        "id": "jL6PJ2cl4tv-",
        "colab": {
          "base_uri": "https://localhost:8080/"
        },
        "outputId": "a1a2fe0d-8077-477b-d654-2e00b998e67e"
      },
      "execution_count": 10,
      "outputs": [
        {
          "output_type": "stream",
          "name": "stdout",
          "text": [
            "a?22\n",
            "23\n"
          ]
        }
      ]
    },
    {
      "cell_type": "markdown",
      "source": [
        "# （次の教材）2.2 代入と演算\n",
        "* https://colab.research.google.com/drive/1kJ7IDJIOHzh6S4kY-XnEFqhFx-VR44Og"
      ],
      "metadata": {
        "id": "GPREvmuyNdNy"
      }
    }
  ]
}