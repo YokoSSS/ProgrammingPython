{
  "cells": [
    {
      "cell_type": "markdown",
      "metadata": {
        "id": "view-in-github",
        "colab_type": "text"
      },
      "source": [
        "<a href=\"https://colab.research.google.com/github/YokoSSS/ProgrammingPython/blob/%E6%95%B0%E7%90%86%E6%9C%80%E9%81%A9%E5%8C%96%E6%BC%94%E7%BF%92(20)/%E6%95%B0%E7%90%86%E6%9C%80%E9%81%A9%E5%8C%96%E6%BC%94%E7%BF%92%EF%BC%8820%EF%BC%892024%E5%89%8D%E6%9C%9F4_4_1.ipynb\" target=\"_parent\"><img src=\"https://colab.research.google.com/assets/colab-badge.svg\" alt=\"Open In Colab\"/></a>"
      ]
    },
    {
      "cell_type": "markdown",
      "metadata": {
        "id": "Pi12BGQksiXu"
      },
      "source": [
        "## PuLPモジュール読み込み"
      ]
    },
    {
      "cell_type": "code",
      "execution_count": 1,
      "metadata": {
        "colab": {
          "base_uri": "https://localhost:8080/"
        },
        "id": "w-JSVbeksiXw",
        "outputId": "9fe6a2ec-ce0d-4c66-fde6-563d7c80cf03"
      },
      "outputs": [
        {
          "output_type": "stream",
          "name": "stdout",
          "text": [
            "Collecting pulp\n",
            "  Downloading PuLP-2.8.0-py3-none-any.whl (17.7 MB)\n",
            "\u001b[2K     \u001b[90m━━━━━━━━━━━━━━━━━━━━━━━━━━━━━━━━━━━━━━━━\u001b[0m \u001b[32m17.7/17.7 MB\u001b[0m \u001b[31m23.5 MB/s\u001b[0m eta \u001b[36m0:00:00\u001b[0m\n",
            "\u001b[?25hInstalling collected packages: pulp\n",
            "Successfully installed pulp-2.8.0\n"
          ]
        }
      ],
      "source": [
        "# Install pulp package\n",
        "!pip install pulp\n",
        "\n",
        "import pulp"
      ]
    },
    {
      "cell_type": "markdown",
      "metadata": {
        "id": "OZVmkTn9siXx"
      },
      "source": [
        "## 目的関数の係数を定義"
      ]
    },
    {
      "cell_type": "code",
      "execution_count": 2,
      "metadata": {
        "id": "iVQUk-nIsiXy"
      },
      "outputs": [],
      "source": [
        "Member = [1,2,3,4] #役員\n",
        "Role = [1,2,3,4] #役職\n",
        "C = {(1,1):5, (1,2):4, (1,4):3, (2,1):2, (2,4):3, (3,2):5, (3,3):4, (3,4):5,\n",
        "     (4,1):5, (4,2):4, (4,3):4, (4,4):3} #適正度"
      ]
    },
    {
      "cell_type": "markdown",
      "metadata": {
        "id": "IAcoQf9ssiXy"
      },
      "source": [
        "## 決定変数の定義"
      ]
    },
    {
      "cell_type": "code",
      "execution_count": 3,
      "metadata": {
        "id": "TdlDidFCsiXy"
      },
      "outputs": [],
      "source": [
        "x ={(i,j):pulp.LpVariable(f'x{i}_{j}', cat=pulp.LpBinary) for i,j in C.keys()}"
      ]
    },
    {
      "cell_type": "markdown",
      "metadata": {
        "id": "fFVpHcMhsiXz"
      },
      "source": [
        "## 問題の定義"
      ]
    },
    {
      "cell_type": "code",
      "execution_count": 4,
      "metadata": {
        "colab": {
          "base_uri": "https://localhost:8080/"
        },
        "id": "fqZbKpLDsiXz",
        "outputId": "6d9515ae-d960-4baf-91d6-128b4662ef6e"
      },
      "outputs": [
        {
          "output_type": "execute_result",
          "data": {
            "text/plain": [
              "割り当て問題:\n",
              "MAXIMIZE\n",
              "5*x1_1 + 4*x1_2 + 3*x1_4 + 2*x2_1 + 3*x2_4 + 5*x3_2 + 4*x3_3 + 5*x3_4 + 5*x4_1 + 4*x4_2 + 4*x4_3 + 3*x4_4 + 0\n",
              "SUBJECT TO\n",
              "役員1は一つの役職に就く制約: x1_1 + x1_2 + x1_4 = 1\n",
              "\n",
              "役員2は一つの役職に就く制約: x2_1 + x2_4 = 1\n",
              "\n",
              "役員3は一つの役職に就く制約: x3_2 + x3_3 + x3_4 = 1\n",
              "\n",
              "役員4は一つの役職に就く制約: x4_1 + x4_2 + x4_3 + x4_4 = 1\n",
              "\n",
              "役職1は一人の役員が就く制約: x1_1 + x2_1 + x4_1 = 1\n",
              "\n",
              "役職2は一人の役員が就く制約: x1_2 + x3_2 + x4_2 = 1\n",
              "\n",
              "役職3は一人の役員が就く制約: x3_3 + x4_3 = 1\n",
              "\n",
              "役職4は一人の役員が就く制約: x1_4 + x2_4 + x3_4 + x4_4 = 1\n",
              "\n",
              "VARIABLES\n",
              "0 <= x1_1 <= 1 Integer\n",
              "0 <= x1_2 <= 1 Integer\n",
              "0 <= x1_4 <= 1 Integer\n",
              "0 <= x2_1 <= 1 Integer\n",
              "0 <= x2_4 <= 1 Integer\n",
              "0 <= x3_2 <= 1 Integer\n",
              "0 <= x3_3 <= 1 Integer\n",
              "0 <= x3_4 <= 1 Integer\n",
              "0 <= x4_1 <= 1 Integer\n",
              "0 <= x4_2 <= 1 Integer\n",
              "0 <= x4_3 <= 1 Integer\n",
              "0 <= x4_4 <= 1 Integer"
            ]
          },
          "metadata": {},
          "execution_count": 4
        }
      ],
      "source": [
        "p = pulp.LpProblem('割り当て問題', sense=pulp.LpMaximize)\n",
        "p += pulp.lpSum(C[(i,j)]*x[(i,j)] for i,j in C.keys()), '目的関数　適正度の和'\n",
        "\n",
        "for i in Member:\n",
        "    p += pulp.lpSum(x[(i,j)] for ii,j in C.keys() if ii == i) == 1, f'役員{i}は一つの役職に就く制約'\n",
        "\n",
        "for j in Role:\n",
        "    p += pulp.lpSum(x[(i,j)] for i,jj in C.keys() if jj == j) == 1, f'役職{j}は一人の役員が就く制約'\n",
        "p"
      ]
    },
    {
      "cell_type": "markdown",
      "metadata": {
        "id": "-kYhZGrAsiX0"
      },
      "source": [
        "## 最適解の計算と結果の読み取り"
      ]
    },
    {
      "cell_type": "code",
      "execution_count": 5,
      "metadata": {
        "id": "9K9wR4p7siX0"
      },
      "outputs": [],
      "source": [
        "result = p.solve()"
      ]
    },
    {
      "cell_type": "code",
      "execution_count": 6,
      "metadata": {
        "colab": {
          "base_uri": "https://localhost:8080/",
          "height": 35
        },
        "id": "DUxfApHVsiX0",
        "outputId": "3703a4ef-c2a5-4140-d522-04b8cdf0ad6e"
      },
      "outputs": [
        {
          "output_type": "execute_result",
          "data": {
            "text/plain": [
              "'Optimal'"
            ],
            "application/vnd.google.colaboratory.intrinsic+json": {
              "type": "string"
            }
          },
          "metadata": {},
          "execution_count": 6
        }
      ],
      "source": [
        "pulp.LpStatus[result]"
      ]
    },
    {
      "cell_type": "code",
      "execution_count": 7,
      "metadata": {
        "colab": {
          "base_uri": "https://localhost:8080/"
        },
        "id": "rnXs_PD1siX1",
        "outputId": "9f36fef8-1f23-460e-f108-a2c0a9d1d5b5"
      },
      "outputs": [
        {
          "output_type": "execute_result",
          "data": {
            "text/plain": [
              "17.0"
            ]
          },
          "metadata": {},
          "execution_count": 7
        }
      ],
      "source": [
        "pulp.value(p.objective)"
      ]
    },
    {
      "cell_type": "code",
      "execution_count": 8,
      "metadata": {
        "colab": {
          "base_uri": "https://localhost:8080/"
        },
        "id": "fdz831IksiX1",
        "outputId": "8d44c71b-4040-443e-cf7f-58f98b5fdf17"
      },
      "outputs": [
        {
          "output_type": "stream",
          "name": "stdout",
          "text": [
            "x1_1 = 1\n",
            "x2_4 = 1\n",
            "x3_2 = 1\n",
            "x4_3 = 1\n"
          ]
        }
      ],
      "source": [
        "for v in p.variables():\n",
        "    if pulp.value(v) > 0:\n",
        "        print(f'{v} = {pulp.value(v):.0f}')"
      ]
    },
    {
      "cell_type": "code",
      "execution_count": null,
      "metadata": {
        "id": "Lj3x4zzCsiX1"
      },
      "outputs": [],
      "source": []
    }
  ],
  "metadata": {
    "kernelspec": {
      "display_name": "Python 3",
      "language": "python",
      "name": "python3"
    },
    "language_info": {
      "codemirror_mode": {
        "name": "ipython",
        "version": 3
      },
      "file_extension": ".py",
      "mimetype": "text/x-python",
      "name": "python",
      "nbconvert_exporter": "python",
      "pygments_lexer": "ipython3",
      "version": "3.7.0"
    },
    "colab": {
      "provenance": [],
      "include_colab_link": true
    }
  },
  "nbformat": 4,
  "nbformat_minor": 0
}