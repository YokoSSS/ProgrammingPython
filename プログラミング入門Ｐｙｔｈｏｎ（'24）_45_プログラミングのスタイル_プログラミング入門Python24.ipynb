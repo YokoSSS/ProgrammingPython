{
  "nbformat": 4,
  "nbformat_minor": 0,
  "metadata": {
    "colab": {
      "provenance": [],
      "collapsed_sections": [
        "WX4sRVO63me5",
        "FnSBdgK-Bwtz"
      ],
      "include_colab_link": true
    },
    "kernelspec": {
      "name": "python3",
      "display_name": "Python 3"
    }
  },
  "cells": [
    {
      "cell_type": "markdown",
      "metadata": {
        "id": "view-in-github",
        "colab_type": "text"
      },
      "source": [
        "<a href=\"https://colab.research.google.com/github/YokoSSS/ProgrammingPython/blob/OUJ_%E3%83%97%E3%83%AD%E3%82%B0%E3%83%A9%E3%83%9F%E3%83%B3%E3%82%B0%E5%85%A5%E9%96%80%EF%BC%B0%EF%BD%99%EF%BD%94%EF%BD%88%EF%BD%8F%EF%BD%8E%EF%BC%88'24%EF%BC%89/%E3%83%97%E3%83%AD%E3%82%B0%E3%83%A9%E3%83%9F%E3%83%B3%E3%82%B0%E5%85%A5%E9%96%80%EF%BC%B0%EF%BD%99%EF%BD%94%EF%BD%88%EF%BD%8F%EF%BD%8E%EF%BC%88'24%EF%BC%89_45_%E3%83%97%E3%83%AD%E3%82%B0%E3%83%A9%E3%83%9F%E3%83%B3%E3%82%B0%E3%81%AE%E3%82%B9%E3%82%BF%E3%82%A4%E3%83%AB_%E3%83%97%E3%83%AD%E3%82%B0%E3%83%A9%E3%83%9F%E3%83%B3%E3%82%B0%E5%85%A5%E9%96%80Python24.ipynb\" target=\"_parent\"><img src=\"https://colab.research.google.com/assets/colab-badge.svg\" alt=\"Open In Colab\"/></a>"
      ]
    },
    {
      "cell_type": "markdown",
      "source": [
        "# 第4章 繰り返し、インデントスタイル、乱数"
      ],
      "metadata": {
        "id": "-fANuhIy_Omf"
      }
    },
    {
      "cell_type": "markdown",
      "source": [
        " * 左上の「ファイル」を開いて、「ドライブにコピーを保存」をしてください。\n",
        " * 自分のGoogleドライブに、そのファイルが保存されます。ファイル名は「のコピー」が、最後（右端）についています。それを利用して学習・演習を進めて下さい。"
      ],
      "metadata": {
        "id": "lm7oxHNx4rIf"
      }
    },
    {
      "cell_type": "markdown",
      "source": [
        "# 4.5 インデントスタイル"
      ],
      "metadata": {
        "id": "lBCYez7MYyiz"
      }
    },
    {
      "cell_type": "markdown",
      "source": [
        "## 2次元・3次元のタプル・リスト"
      ],
      "metadata": {
        "id": "gZY-yXXjNUUb"
      }
    },
    {
      "cell_type": "markdown",
      "source": [
        "* 2次元タプル・リストとは、タプル・リストを並べたタプル・リストのことである。\n",
        "* 3次元タプル・リストとは、2次元タプル・リストを並べたタプル・リストのことである。"
      ],
      "metadata": {
        "id": "QXQ6um1LMBsS"
      }
    },
    {
      "cell_type": "code",
      "source": [
        "# 2次元リスト\n",
        "m = [\n",
        "    [ 0,  1,  2,  3],\n",
        "    [10, 11, 12, 13],\n",
        "    [20, 21, 22, 23],\n",
        "    [30, 31, 32, 33]\n",
        "    ]\n",
        "\n",
        "# 1行目を切り出す\n",
        "print(m[0])\n",
        "\n",
        "# 1行目2列目の要素\n",
        "print(m[0][1])\n",
        "\n",
        "# 2列目を切り出す\n",
        "niretsume = []\n",
        "for gyou in m:\n",
        "    niretsume.append(gyou[1])\n",
        "\n",
        "print(niretsume)"
      ],
      "metadata": {
        "id": "hJhfUbeSLXuA",
        "colab": {
          "base_uri": "https://localhost:8080/"
        },
        "outputId": "3f820e93-110e-4b11-8696-38894767c32c"
      },
      "execution_count": 1,
      "outputs": [
        {
          "output_type": "stream",
          "name": "stdout",
          "text": [
            "[0, 1, 2, 3]\n",
            "1\n",
            "[1, 11, 21, 31]\n"
          ]
        }
      ]
    },
    {
      "cell_type": "markdown",
      "source": [
        "各行の長さが異なっていてもよい。"
      ],
      "metadata": {
        "id": "IKeWKHCYMhxX"
      }
    },
    {
      "cell_type": "code",
      "source": [
        "# 2次元タプル\n",
        "m = (\n",
        "    (\"tokyo\",  \"chiba\",  \"kanagawa\",  \"ibaraki\", \"saitama\", \"tochigi\", \"gunma\"),\n",
        "    (\"osaka\", \"kyoto\", \"hyogo\", \"nara\", \"wakayama\", \"shiga\"),\n",
        "    (\"tokushima\", \"kagawa\", \"ehime\", \"kochi\"),\n",
        "    (\"okayama\", \"tottori\", \"shimane\", \"hiroshima\", \"yamaguchi\")\n",
        ")\n",
        "\n",
        "# 1行目を切り出す\n",
        "print(m[0])\n",
        "\n",
        "# 1行目2列目の要素\n",
        "print(m[0][1])\n",
        "\n",
        "# 2列目を切り出す\n",
        "niretsume = []\n",
        "for gyou in m:\n",
        "    niretsume.append(gyou[1])\n",
        "\n",
        "print(niretsume)"
      ],
      "metadata": {
        "id": "l3qHO-slLvM3",
        "colab": {
          "base_uri": "https://localhost:8080/"
        },
        "outputId": "787938c5-ff00-4555-b229-892fd9413337"
      },
      "execution_count": 2,
      "outputs": [
        {
          "output_type": "stream",
          "name": "stdout",
          "text": [
            "('tokyo', 'chiba', 'kanagawa', 'ibaraki', 'saitama', 'tochigi', 'gunma')\n",
            "chiba\n",
            "['chiba', 'kyoto', 'kagawa', 'tottori']\n"
          ]
        }
      ]
    },
    {
      "cell_type": "markdown",
      "source": [
        "3次元のリストを作ることもできる。"
      ],
      "metadata": {
        "id": "mFkSRtXNMljl"
      }
    },
    {
      "cell_type": "code",
      "source": [
        "m = [\n",
        "    [ 0,  1,  2,  3],\n",
        "    [10, 11, 12, 13],\n",
        "    [20, 21, 22, 23],\n",
        "    [30, 31, 32, 33]\n",
        "    ]\n",
        "n = [\n",
        "    [4, 5, 6],\n",
        "    [7, 8, 9],\n",
        "    [14, 15, 16]\n",
        "    ]\n",
        "\n",
        "u = [m, n]\n",
        "\n",
        "print(u)\n",
        "\n",
        "# 1行目を切り出す\n",
        "print(u[0])\n",
        "\n",
        "# 1行目2列目の要素\n",
        "print(u[0][1])"
      ],
      "metadata": {
        "id": "465Wfd0y4ntv",
        "colab": {
          "base_uri": "https://localhost:8080/"
        },
        "outputId": "0f249f27-f309-4f15-e0d5-34d8c396bcc4"
      },
      "execution_count": 3,
      "outputs": [
        {
          "output_type": "stream",
          "name": "stdout",
          "text": [
            "[[[0, 1, 2, 3], [10, 11, 12, 13], [20, 21, 22, 23], [30, 31, 32, 33]], [[4, 5, 6], [7, 8, 9], [14, 15, 16]]]\n",
            "[[0, 1, 2, 3], [10, 11, 12, 13], [20, 21, 22, 23], [30, 31, 32, 33]]\n",
            "[10, 11, 12, 13]\n"
          ]
        }
      ]
    },
    {
      "cell_type": "markdown",
      "source": [
        "for で用いることもできる。"
      ],
      "metadata": {
        "id": "dPCwz3phtQJn"
      }
    },
    {
      "cell_type": "code",
      "source": [
        "# 2次元リストを利用した繰り返し\n",
        "Kentyo = [\n",
        "    [\"Kagawa\", \"Takamatsu\"],\n",
        "    [\"Tokushima\", \"Tokushima\"],\n",
        "    [\"Ehime\", \"Matsuyama\"],\n",
        "    [\"Kochi\", \"Kochi\"]\n",
        "    ]\n",
        "\n",
        "for x in Kentyo:\n",
        "    print(x)\n",
        "    print(x[0])\n",
        "    print(\"\")\n",
        "\n",
        "for y in Kentyo[2]:\n",
        "    print(y)"
      ],
      "metadata": {
        "id": "DKt9txRM0t85",
        "colab": {
          "base_uri": "https://localhost:8080/"
        },
        "outputId": "7c7d4886-84d6-4194-8eed-8f3b009da23c"
      },
      "execution_count": 4,
      "outputs": [
        {
          "output_type": "stream",
          "name": "stdout",
          "text": [
            "['Kagawa', 'Takamatsu']\n",
            "Kagawa\n",
            "\n",
            "['Tokushima', 'Tokushima']\n",
            "Tokushima\n",
            "\n",
            "['Ehime', 'Matsuyama']\n",
            "Ehime\n",
            "\n",
            "['Kochi', 'Kochi']\n",
            "Kochi\n",
            "\n",
            "Ehime\n",
            "Matsuyama\n"
          ]
        }
      ]
    },
    {
      "cell_type": "markdown",
      "source": [
        "# 次の教材\n",
        "\n",
        "4.6 リスト内包表記\n",
        "* https://colab.research.google.com/drive/17wM45adV4-sz_HUI2WOylcO5pm8rLXpy"
      ],
      "metadata": {
        "id": "AE42VNnvVX9y"
      }
    }
  ]
}