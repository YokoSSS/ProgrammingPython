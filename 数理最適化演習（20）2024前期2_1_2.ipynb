{
  "cells": [
    {
      "cell_type": "markdown",
      "metadata": {
        "id": "view-in-github",
        "colab_type": "text"
      },
      "source": [
        "<a href=\"https://colab.research.google.com/github/YokoSSS/ProgrammingPython/blob/%E6%95%B0%E7%90%86%E6%9C%80%E9%81%A9%E5%8C%96%E6%BC%94%E7%BF%92(20)/%E6%95%B0%E7%90%86%E6%9C%80%E9%81%A9%E5%8C%96%E6%BC%94%E7%BF%92%EF%BC%8820%EF%BC%892024%E5%89%8D%E6%9C%9F2_1_2.ipynb\" target=\"_parent\"><img src=\"https://colab.research.google.com/assets/colab-badge.svg\" alt=\"Open In Colab\"/></a>"
      ]
    },
    {
      "cell_type": "markdown",
      "metadata": {
        "id": "ZFKgFNbjOIUy"
      },
      "source": [
        "# PuLPモジュールを用いた生産計画問題の最適解の計算\n",
        "## PuLPモジュール読み込み\n",
        "モジュールの読み込みは\n",
        "    \n",
        "    import モジュール名\n",
        "により行う．"
      ]
    },
    {
      "cell_type": "code",
      "execution_count": null,
      "metadata": {
        "colab": {
          "base_uri": "https://localhost:8080/"
        },
        "id": "RHmbwaE5OIU0",
        "outputId": "e24517a7-b7e8-4581-8746-e32ae9e2650c"
      },
      "outputs": [
        {
          "output_type": "stream",
          "name": "stdout",
          "text": [
            "Requirement already satisfied: matplotlib-venn in /usr/local/lib/python3.10/dist-packages (0.11.10)\n",
            "Requirement already satisfied: matplotlib in /usr/local/lib/python3.10/dist-packages (from matplotlib-venn) (3.7.1)\n",
            "Requirement already satisfied: numpy in /usr/local/lib/python3.10/dist-packages (from matplotlib-venn) (1.25.2)\n",
            "Requirement already satisfied: scipy in /usr/local/lib/python3.10/dist-packages (from matplotlib-venn) (1.11.4)\n",
            "Requirement already satisfied: contourpy>=1.0.1 in /usr/local/lib/python3.10/dist-packages (from matplotlib->matplotlib-venn) (1.2.1)\n",
            "Requirement already satisfied: cycler>=0.10 in /usr/local/lib/python3.10/dist-packages (from matplotlib->matplotlib-venn) (0.12.1)\n",
            "Requirement already satisfied: fonttools>=4.22.0 in /usr/local/lib/python3.10/dist-packages (from matplotlib->matplotlib-venn) (4.53.0)\n",
            "Requirement already satisfied: kiwisolver>=1.0.1 in /usr/local/lib/python3.10/dist-packages (from matplotlib->matplotlib-venn) (1.4.5)\n",
            "Requirement already satisfied: packaging>=20.0 in /usr/local/lib/python3.10/dist-packages (from matplotlib->matplotlib-venn) (24.0)\n",
            "Requirement already satisfied: pillow>=6.2.0 in /usr/local/lib/python3.10/dist-packages (from matplotlib->matplotlib-venn) (9.4.0)\n",
            "Requirement already satisfied: pyparsing>=2.3.1 in /usr/local/lib/python3.10/dist-packages (from matplotlib->matplotlib-venn) (3.1.2)\n",
            "Requirement already satisfied: python-dateutil>=2.7 in /usr/local/lib/python3.10/dist-packages (from matplotlib->matplotlib-venn) (2.8.2)\n",
            "Requirement already satisfied: six>=1.5 in /usr/local/lib/python3.10/dist-packages (from python-dateutil>=2.7->matplotlib->matplotlib-venn) (1.16.0)\n",
            "E: Package 'libfluidsynth1' has no installation candidate\n",
            "Requirement already satisfied: pydot in /usr/local/lib/python3.10/dist-packages (1.4.2)\n",
            "Requirement already satisfied: pyparsing>=2.1.4 in /usr/local/lib/python3.10/dist-packages (from pydot) (3.1.2)\n",
            "Collecting cartopy\n",
            "  Downloading Cartopy-0.23.0-cp310-cp310-manylinux_2_17_x86_64.manylinux2014_x86_64.whl (11.6 MB)\n",
            "\u001b[2K     \u001b[90m━━━━━━━━━━━━━━━━━━━━━━━━━━━━━━━━━━━━━━━━\u001b[0m \u001b[32m11.6/11.6 MB\u001b[0m \u001b[31m44.1 MB/s\u001b[0m eta \u001b[36m0:00:00\u001b[0m\n",
            "\u001b[?25hRequirement already satisfied: numpy>=1.21 in /usr/local/lib/python3.10/dist-packages (from cartopy) (1.25.2)\n",
            "Requirement already satisfied: matplotlib>=3.5 in /usr/local/lib/python3.10/dist-packages (from cartopy) (3.7.1)\n",
            "Requirement already satisfied: shapely>=1.7 in /usr/local/lib/python3.10/dist-packages (from cartopy) (2.0.4)\n",
            "Requirement already satisfied: packaging>=20 in /usr/local/lib/python3.10/dist-packages (from cartopy) (24.0)\n",
            "Requirement already satisfied: pyshp>=2.3 in /usr/local/lib/python3.10/dist-packages (from cartopy) (2.3.1)\n",
            "Requirement already satisfied: pyproj>=3.3.1 in /usr/local/lib/python3.10/dist-packages (from cartopy) (3.6.1)\n",
            "Requirement already satisfied: contourpy>=1.0.1 in /usr/local/lib/python3.10/dist-packages (from matplotlib>=3.5->cartopy) (1.2.1)\n",
            "Requirement already satisfied: cycler>=0.10 in /usr/local/lib/python3.10/dist-packages (from matplotlib>=3.5->cartopy) (0.12.1)\n",
            "Requirement already satisfied: fonttools>=4.22.0 in /usr/local/lib/python3.10/dist-packages (from matplotlib>=3.5->cartopy) (4.53.0)\n",
            "Requirement already satisfied: kiwisolver>=1.0.1 in /usr/local/lib/python3.10/dist-packages (from matplotlib>=3.5->cartopy) (1.4.5)\n",
            "Requirement already satisfied: pillow>=6.2.0 in /usr/local/lib/python3.10/dist-packages (from matplotlib>=3.5->cartopy) (9.4.0)\n",
            "Requirement already satisfied: pyparsing>=2.3.1 in /usr/local/lib/python3.10/dist-packages (from matplotlib>=3.5->cartopy) (3.1.2)\n",
            "Requirement already satisfied: python-dateutil>=2.7 in /usr/local/lib/python3.10/dist-packages (from matplotlib>=3.5->cartopy) (2.8.2)\n",
            "Requirement already satisfied: certifi in /usr/local/lib/python3.10/dist-packages (from pyproj>=3.3.1->cartopy) (2024.6.2)\n",
            "Requirement already satisfied: six>=1.5 in /usr/local/lib/python3.10/dist-packages (from python-dateutil>=2.7->matplotlib>=3.5->cartopy) (1.16.0)\n",
            "Installing collected packages: cartopy\n",
            "Successfully installed cartopy-0.23.0\n",
            "Collecting pulp\n",
            "  Downloading PuLP-2.8.0-py3-none-any.whl (17.7 MB)\n",
            "\u001b[2K     \u001b[90m━━━━━━━━━━━━━━━━━━━━━━━━━━━━━━━━━━━━━━━━\u001b[0m \u001b[32m17.7/17.7 MB\u001b[0m \u001b[31m39.3 MB/s\u001b[0m eta \u001b[36m0:00:00\u001b[0m\n",
            "\u001b[?25hInstalling collected packages: pulp\n",
            "Successfully installed pulp-2.8.0\n"
          ]
        }
      ],
      "source": [
        "!pip install matplotlib-venn\n",
        "!apt-get -qq install -y libfluidsynth1\n",
        "# https://pypi.python.org/pypi/pydot\n",
        "!apt-get -qq install -y graphviz && pip install pydot\n",
        "import pydot\n",
        "!pip install cartopy\n",
        "import cartopy\n",
        "# Install pulp package\n",
        "!pip install pulp\n",
        "import pulp\n"
      ]
    },
    {
      "cell_type": "markdown",
      "metadata": {
        "id": "Rf8lgJYLOIU1"
      },
      "source": [
        "## 決定変数の定義\n",
        "決定変数のオブジェクト生成する関数は以下の通り．\n",
        "    \n",
        "    pulp.LpVariable(name=None,lowBound=None,upBound=None,cat=pulp.LpContinuous)\n",
        "nameは決定変数の名前で省略不可．nameは他の変数と異なるものにする必要がある．\n",
        "lowBountは変数の下限値，upBoundは変数の上限値で必要があれば指定する．\n",
        "catは変数が連続値(実数値）をとる(pulp.LpContinuous)か，整数値をとる(pulp.LpInteger)か，0/1の2値をとる(pulp.LpBinary)かを指定する．catのデフォルトはpulp.LpContinuous．"
      ]
    },
    {
      "cell_type": "code",
      "execution_count": null,
      "metadata": {
        "id": "4aFgYiBdOIU1"
      },
      "outputs": [],
      "source": [
        "x1 = pulp.LpVariable('x1', 0) # x1 >= 0\n",
        "x2 = pulp.LpVariable('x2', 0) # x2 >= 0"
      ]
    },
    {
      "cell_type": "markdown",
      "metadata": {
        "id": "pTqEeHcOOIU1"
      },
      "source": [
        "    x1 = pulp.LpVariable('x1', 0)\n",
        "name（変数名）がx1で下限値が0の実数値をとる決定変数のオブジェクト（インスタンス）x1を生成している．オブジェクトの名前と変数のnameは同じである必要はない．例えば，\n",
        "    \n",
        "    x1 = pulp.LpVariable('P1', 0)\n",
        "としてもよい．変数のnameは他の変数と異なるようにする必要がある．例えば，\n",
        "    \n",
        "    x1 = pulp.LpVariable('x', 0)\n",
        "    x2 = pulp.LpVariable('x', 0)\n",
        "とすることは許されない．\n",
        "\n",
        "## 問題の定義\n",
        "    pulp.LpProblem(name=None, sense=pulp.LpMinimize)\n",
        "nameは問題名で省略可能．senseは目的で，目的関数を最小化する(pulp.LpMinimize)か，最大化する(pulp.LpMaximize)か指定する．senseのデフォルトはpulp.LpMinimize."
      ]
    },
    {
      "cell_type": "code",
      "execution_count": null,
      "metadata": {
        "colab": {
          "base_uri": "https://localhost:8080/"
        },
        "id": "LKMqeAfiOIU2",
        "outputId": "e062316a-9ae1-416d-c9ab-8b46a24441d3"
      },
      "outputs": [
        {
          "output_type": "execute_result",
          "data": {
            "text/plain": [
              "生産計画問題:\n",
              "MAXIMIZE\n",
              "1*x1 + 2*x2 + 0\n",
              "SUBJECT TO\n",
              "原料制約: x1 + 3 x2 <= 24\n",
              "\n",
              "労働時間制約: 4 x1 + 4 x2 <= 48\n",
              "\n",
              "機械稼働制約: 2 x1 + x2 <= 22\n",
              "\n",
              "VARIABLES\n",
              "x1 Continuous\n",
              "x2 Continuous"
            ]
          },
          "metadata": {},
          "execution_count": 4
        }
      ],
      "source": [
        "p = pulp.LpProblem('生産計画問題', sense=pulp.LpMaximize) # 目的関数を最大化\n",
        "p += x1 + 2*x2, '目的関数　利益見込み'\n",
        "p += x1 + 3*x2 <= 24, '原料制約'\n",
        "p += 4*x1 + 4*x2 <= 48, '労働時間制約'\n",
        "p += 2*x1 + x2 <= 22, '機械稼働制約'\n",
        "p"
      ]
    },
    {
      "cell_type": "markdown",
      "metadata": {
        "id": "A0iyAf5fOIU2"
      },
      "source": [
        "以下の構文で，生産計画問題という名前の，目的が最大化の問題のオブジェクトpを生成している\n",
        "\n",
        "    p = pulp.LpProblem('生産計画問題', sense=pulp.LpMaximize)\n",
        "．生成した問題のオブジェクトpに目的関数と制約条件を設定する．目的関数の設定は，\n",
        "    \n",
        "    p += x1 + 2*x2, '目的関数　利益見込み'\n",
        "により行う．右辺に目的関数の式と目的関数の名前を指定する．名前は省略可能．制約条件の設定は以下のように行う．\n",
        "    \n",
        "    p += x1 + 3*x2 <= 24, '原料制約'\n",
        "右辺に制約条件の式と制約条件の名前を指定する．制約条件の不等号および等号は，<=, >=, == を用いる．名前は省略可能．名前をつける場合は重複しないようにする必要がある．\n",
        "\n",
        "設定した問題の内容は次のように確認できる．"
      ]
    },
    {
      "cell_type": "markdown",
      "metadata": {
        "id": "RodPs7KIOIU3"
      },
      "source": [
        "## 最適解の計算と結果の読み取り"
      ]
    },
    {
      "cell_type": "code",
      "execution_count": null,
      "metadata": {
        "id": "5Z1LdLwZOIU3"
      },
      "outputs": [],
      "source": [
        "# 最適解を計算\n",
        "result = p.solve()"
      ]
    },
    {
      "cell_type": "code",
      "execution_count": null,
      "metadata": {
        "colab": {
          "base_uri": "https://localhost:8080/",
          "height": 35
        },
        "id": "Nh_I3nUoOIU3",
        "outputId": "ef84b9c2-0ffd-47df-f212-4c27bdd884ac"
      },
      "outputs": [
        {
          "output_type": "execute_result",
          "data": {
            "text/plain": [
              "'Optimal'"
            ],
            "application/vnd.google.colaboratory.intrinsic+json": {
              "type": "string"
            }
          },
          "metadata": {},
          "execution_count": 6
        }
      ],
      "source": [
        "# 最適解が求められたか\n",
        "pulp.LpStatus[result]"
      ]
    },
    {
      "cell_type": "markdown",
      "metadata": {
        "id": "h19xUV3WOIU3"
      },
      "source": [
        "Optimalなら最適解が得られている．Infeasible（実行可能領域が空），Unbounded（目的関数をどこまでも良くできる）等の場合は最適解が得られていない．"
      ]
    },
    {
      "cell_type": "code",
      "execution_count": null,
      "metadata": {
        "colab": {
          "base_uri": "https://localhost:8080/"
        },
        "id": "8uc_iYo6OIU3",
        "outputId": "c31c2c53-8cc9-45f8-b083-c398eb3edc17"
      },
      "outputs": [
        {
          "output_type": "execute_result",
          "data": {
            "text/plain": [
              "18.0"
            ]
          },
          "metadata": {},
          "execution_count": 8
        }
      ],
      "source": [
        "# 目的関数の最適値（生産計画問題の場合は利益の最大値）\n",
        "pulp.value(p.objective)"
      ]
    },
    {
      "cell_type": "markdown",
      "metadata": {
        "id": "hVEy-suAOIU3"
      },
      "source": [
        "利益の最大値は18万円"
      ]
    },
    {
      "cell_type": "code",
      "execution_count": null,
      "metadata": {
        "colab": {
          "base_uri": "https://localhost:8080/"
        },
        "id": "1EEvSntlOIU4",
        "outputId": "cc36a9d9-15b3-4feb-fafa-d74284335b58"
      },
      "outputs": [
        {
          "output_type": "stream",
          "name": "stdout",
          "text": [
            "x1 = 6.0\n",
            "x2 = 6.0\n"
          ]
        }
      ],
      "source": [
        "# 最適解\n",
        "for v in p.variables():\n",
        "    print(f'{v} = {pulp.value(v)}')"
      ]
    },
    {
      "cell_type": "markdown",
      "metadata": {
        "id": "HOIwQ0roOIU4"
      },
      "source": [
        "最適解は x1 = 6, x2 = 6，すなわちP1を6 kg，P2を6 kg生産するときに利益は最大になる．\n",
        "\n",
        "p.variables()は問題pにおける変数のリストを返す．この例では[x1,x2]を返す．for文は，\n",
        "    \n",
        "    for 変数 in 対象:\n",
        "        処理\n",
        "で，対象の要素を1つずつ変数に代入して処理を繰り返す．\n",
        "    \n",
        "    for v in p.variables():\n",
        "        print(f'{v} = {pulp.value(v)}')\n",
        "では，x1, x2について変数名とその値を表示する．print()関数は表示を行う関数である．f''はf-stringと呼ばれる記法で，''内で{}で囲まれた変数や関数等は展開し，他の文字列はそのままを返す．pulp.value(v)は変数vの値を返す．上の例では{v}で変数名が展開され，' = 'はそのまま表示され，{pulp.value(v)}は変数の値が展開される．"
      ]
    },
    {
      "cell_type": "code",
      "execution_count": null,
      "metadata": {
        "id": "eZy8Qjn7OIU4"
      },
      "outputs": [],
      "source": []
    }
  ],
  "metadata": {
    "kernelspec": {
      "display_name": "Python 3",
      "language": "python",
      "name": "python3"
    },
    "language_info": {
      "codemirror_mode": {
        "name": "ipython",
        "version": 3
      },
      "file_extension": ".py",
      "mimetype": "text/x-python",
      "name": "python",
      "nbconvert_exporter": "python",
      "pygments_lexer": "ipython3",
      "version": "3.7.0"
    },
    "colab": {
      "provenance": [],
      "include_colab_link": true
    }
  },
  "nbformat": 4,
  "nbformat_minor": 0
}