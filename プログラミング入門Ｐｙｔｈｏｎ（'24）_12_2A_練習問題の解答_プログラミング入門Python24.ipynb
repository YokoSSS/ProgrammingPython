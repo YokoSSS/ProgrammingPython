{
  "nbformat": 4,
  "nbformat_minor": 0,
  "metadata": {
    "colab": {
      "provenance": [],
      "collapsed_sections": [
        "WX4sRVO63me5",
        "FnSBdgK-Bwtz"
      ],
      "include_colab_link": true
    },
    "kernelspec": {
      "name": "python3",
      "display_name": "Python 3"
    }
  },
  "cells": [
    {
      "cell_type": "markdown",
      "metadata": {
        "id": "view-in-github",
        "colab_type": "text"
      },
      "source": [
        "<a href=\"https://colab.research.google.com/github/YokoSSS/ProgrammingPython/blob/OUJ_%E3%83%97%E3%83%AD%E3%82%B0%E3%83%A9%E3%83%9F%E3%83%B3%E3%82%B0%E5%85%A5%E9%96%80%EF%BC%B0%EF%BD%99%EF%BD%94%EF%BD%88%EF%BD%8F%EF%BD%8E%EF%BC%88'24%EF%BC%89/%E3%83%97%E3%83%AD%E3%82%B0%E3%83%A9%E3%83%9F%E3%83%B3%E3%82%B0%E5%85%A5%E9%96%80%EF%BC%B0%EF%BD%99%EF%BD%94%EF%BD%88%EF%BD%8F%EF%BD%8E%EF%BC%88'24%EF%BC%89_12_2A_%E7%B7%B4%E7%BF%92%E5%95%8F%E9%A1%8C%E3%81%AE%E8%A7%A3%E7%AD%94_%E3%83%97%E3%83%AD%E3%82%B0%E3%83%A9%E3%83%9F%E3%83%B3%E3%82%B0%E5%85%A5%E9%96%80Python24.ipynb\" target=\"_parent\"><img src=\"https://colab.research.google.com/assets/colab-badge.svg\" alt=\"Open In Colab\"/></a>"
      ]
    },
    {
      "cell_type": "markdown",
      "metadata": {
        "id": "rtIwBxrqqx2w"
      },
      "source": [
        "# 練習問題の解答"
      ]
    },
    {
      "cell_type": "markdown",
      "source": [
        " * 左上の「ファイル」を開いて、「ドライブにコピーを保存」をしてください。\n",
        " * 自分のGoogleドライブに、そのファイルが保存されます。ファイル名は「のコピー」が、最後（右端）についています。それを利用して学習・演習を進めて下さい。"
      ],
      "metadata": {
        "id": "lm7oxHNx4rIf"
      }
    },
    {
      "cell_type": "markdown",
      "source": [
        "# 第1章"
      ],
      "metadata": {
        "id": "wgw9pMKqYMwz"
      }
    },
    {
      "cell_type": "markdown",
      "source": [
        "## 練習問題"
      ],
      "metadata": {
        "id": "P_g88tXXXkJn"
      }
    },
    {
      "cell_type": "markdown",
      "source": [
        "【問題】次の通りに表示するプログラムを、その下に作れ。"
      ],
      "metadata": {
        "id": "9b64fnHqfD2y"
      }
    },
    {
      "cell_type": "markdown",
      "source": [
        "Q1. AkaAoKiiro"
      ],
      "metadata": {
        "id": "X6nDtt0WkRhX"
      }
    },
    {
      "cell_type": "markdown",
      "source": [
        "解答"
      ],
      "metadata": {
        "id": "pd_KKXg_4gJH"
      }
    },
    {
      "cell_type": "code",
      "source": [
        "s1 = \"Aka\"\n",
        "s2 = \"Ao\"\n",
        "s3 = \"Kiiro\"\n",
        "print(s1 + s2 + s3)"
      ],
      "metadata": {
        "id": "GR9NWIhkOO2K",
        "colab": {
          "base_uri": "https://localhost:8080/"
        },
        "outputId": "629c534f-e037-442b-96fb-b69c2ef2f392"
      },
      "execution_count": 1,
      "outputs": [
        {
          "output_type": "stream",
          "name": "stdout",
          "text": [
            "AkaAoKiiro\n"
          ]
        }
      ]
    },
    {
      "cell_type": "markdown",
      "source": [
        "Q2. Aka Ao Kiiro"
      ],
      "metadata": {
        "id": "J0CUnrz5OIYm"
      }
    },
    {
      "cell_type": "markdown",
      "source": [
        "解答"
      ],
      "metadata": {
        "id": "Fkfbj-O74llQ"
      }
    },
    {
      "cell_type": "code",
      "source": [
        "s1 = \"Aka\"\n",
        "s2 = \"Ao\"\n",
        "s3 = \"Kiiro\"\n",
        "print(s1, s2, s3)"
      ],
      "metadata": {
        "id": "vqgiMrgWOP1p",
        "colab": {
          "base_uri": "https://localhost:8080/"
        },
        "outputId": "bfac8ce8-b1ee-4273-dacc-7f41eeef18c9"
      },
      "execution_count": 2,
      "outputs": [
        {
          "output_type": "stream",
          "name": "stdout",
          "text": [
            "Aka Ao Kiiro\n"
          ]
        }
      ]
    },
    {
      "cell_type": "markdown",
      "source": [
        "Q3. Aka, Ao, Kiiro"
      ],
      "metadata": {
        "id": "6PMKXYNuOIL2"
      }
    },
    {
      "cell_type": "markdown",
      "source": [
        "解答"
      ],
      "metadata": {
        "id": "PHWmx3Sx4mIf"
      }
    },
    {
      "cell_type": "code",
      "source": [
        "s1 = \"Aka\"\n",
        "s2 = \"Ao\"\n",
        "s3 = \"Kiiro\"\n",
        "print(s1 + \", \" + s2 + \", \" + s3)"
      ],
      "metadata": {
        "id": "EbMYSqm5RIVT",
        "colab": {
          "base_uri": "https://localhost:8080/"
        },
        "outputId": "db4ffc99-7ed6-45ca-a8f6-1a201d5ea530"
      },
      "execution_count": 3,
      "outputs": [
        {
          "output_type": "stream",
          "name": "stdout",
          "text": [
            "Aka, Ao, Kiiro\n"
          ]
        }
      ]
    },
    {
      "cell_type": "code",
      "source": [
        "s1 = \"Aka\"\n",
        "s2 = \"Ao\"\n",
        "s3 = \"Kiiro\"\n",
        "print(s1 + \",\", s2 + \",\", s3)"
      ],
      "metadata": {
        "id": "x6gZKKXzOQZW",
        "colab": {
          "base_uri": "https://localhost:8080/"
        },
        "outputId": "1c0d1573-d9eb-4dbe-fca8-6a85c560d454"
      },
      "execution_count": 5,
      "outputs": [
        {
          "output_type": "stream",
          "name": "stdout",
          "text": [
            "Aka, Ao, Kiiro\n"
          ]
        }
      ]
    },
    {
      "cell_type": "code",
      "source": [],
      "metadata": {
        "id": "FLxd5l_u-IZX"
      },
      "execution_count": null,
      "outputs": []
    }
  ]
}