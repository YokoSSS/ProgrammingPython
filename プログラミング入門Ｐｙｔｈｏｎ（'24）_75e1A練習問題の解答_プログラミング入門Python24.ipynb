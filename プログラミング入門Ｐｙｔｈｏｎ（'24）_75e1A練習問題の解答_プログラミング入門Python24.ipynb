{
  "nbformat": 4,
  "nbformat_minor": 0,
  "metadata": {
    "colab": {
      "provenance": [],
      "collapsed_sections": [
        "WX4sRVO63me5",
        "FnSBdgK-Bwtz"
      ],
      "include_colab_link": true
    },
    "kernelspec": {
      "name": "python3",
      "display_name": "Python 3"
    }
  },
  "cells": [
    {
      "cell_type": "markdown",
      "metadata": {
        "id": "view-in-github",
        "colab_type": "text"
      },
      "source": [
        "<a href=\"https://colab.research.google.com/github/YokoSSS/ProgrammingPython/blob/OUJ_%E3%83%97%E3%83%AD%E3%82%B0%E3%83%A9%E3%83%9F%E3%83%B3%E3%82%B0%E5%85%A5%E9%96%80%EF%BC%B0%EF%BD%99%EF%BD%94%EF%BD%88%EF%BD%8F%EF%BD%8E%EF%BC%88'24%EF%BC%89/%E3%83%97%E3%83%AD%E3%82%B0%E3%83%A9%E3%83%9F%E3%83%B3%E3%82%B0%E5%85%A5%E9%96%80%EF%BC%B0%EF%BD%99%EF%BD%94%EF%BD%88%EF%BD%8F%EF%BD%8E%EF%BC%88'24%EF%BC%89_75e1A%E7%B7%B4%E7%BF%92%E5%95%8F%E9%A1%8C%E3%81%AE%E8%A7%A3%E7%AD%94_%E3%83%97%E3%83%AD%E3%82%B0%E3%83%A9%E3%83%9F%E3%83%B3%E3%82%B0%E5%85%A5%E9%96%80Python24.ipynb\" target=\"_parent\"><img src=\"https://colab.research.google.com/assets/colab-badge.svg\" alt=\"Open In Colab\"/></a>"
      ]
    },
    {
      "cell_type": "markdown",
      "metadata": {
        "id": "rtIwBxrqqx2w"
      },
      "source": [
        "# 練習問題の解答"
      ]
    },
    {
      "cell_type": "markdown",
      "source": [
        " * 左上の「ファイル」を開いて、「ドライブにコピーを保存」をしてください。\n",
        " * 自分のGoogleドライブに、そのファイルが保存されます。ファイル名は「のコピー」が、最後（右端）についています。それを利用して学習・演習を進めて下さい。"
      ],
      "metadata": {
        "id": "lm7oxHNx4rIf"
      }
    },
    {
      "cell_type": "markdown",
      "source": [
        "# 第7章"
      ],
      "metadata": {
        "id": "HZEgzQzkU538"
      }
    },
    {
      "cell_type": "markdown",
      "source": [
        "## 研究問題（モンテカルロ法は得策ではない）"
      ],
      "metadata": {
        "id": "qRWjXMRMpW69"
      }
    },
    {
      "cell_type": "markdown",
      "metadata": {
        "id": "FnSBdgK-Bwtz"
      },
      "source": [
        "【問題】円周率を求めるのに、モンテカルロ法は得策ではない。なぜか。また、得策な方法を考えて、プログラムとして実行せよ。\n"
      ]
    },
    {
      "cell_type": "markdown",
      "source": [
        "以下、解答"
      ],
      "metadata": {
        "id": "sl5CnEQOAdUS"
      }
    },
    {
      "cell_type": "markdown",
      "source": [
        "モンテカルロ法では、点はばらついて置かれる。一方で、面積は「等質」な量を計測する。\n",
        "そのため、モンテカルロ法で求めた値は偶然に左右されやすい。\n",
        "\n",
        "そこで、乱数によるバラバラな点ではなく、格子点（latticeという）で円周率の近似値を求めると、正確さを追求しやすい。\n",
        "\n",
        "以下のプログラムでは、 $ 0 \\le x \\le r $ かつ $ 0 \\le y \\le r $ の領域を、１辺の長さ１の正方形に分割し、その中央の点と原点との距離が $ r $ 以下かどうかを判定している。\n",
        "\n",
        "具体的には、 $ u = 0, 1, ... r-1 $ と変化させ、それぞれについて、 $ v = 0, 1, r-1 $ と変化させる。そして、点$(u, v)$ を左下の頂点とする正方形の中心$(x, y) = (u + 0.5, v + 0.5)$ について、$ x^2 + y^2 \\le r $ かどうかを調べることにしている。"
      ],
      "metadata": {
        "id": "aJqkWYhD0Ubd"
      }
    },
    {
      "cell_type": "code",
      "metadata": {
        "id": "MCdJx0wJq4vB",
        "colab": {
          "base_uri": "https://localhost:8080/",
          "height": 643
        },
        "outputId": "7731775e-e98e-49f3-ee20-ec847256f4b6"
      },
      "source": [
        "import matplotlib.pyplot as plt # グラフプロットの呼び出し\n",
        "r = int(input('radius?')) # 円の半径\n",
        "sr = r * r # 2乗計算は1回で済ませておく\n",
        "incount = 0 # 円に入った点の数、初期値はゼロ\n",
        "\n",
        "plt.figure(figsize = (10,10)) # 描画領域を正方形に\n",
        "plt.xlim(0, r) # x軸の範囲\n",
        "plt.ylim(0, r) # y軸の範囲\n",
        "\n",
        "for u in range(0, r):\n",
        "    x = u + 0.5\n",
        "    sx = x*x # 2乗計算は1回で済ませておく\n",
        "    for v in range(0, r):\n",
        "        y = v + 0.5\n",
        "        if sx + y * y <= sr: # 半径r の円の中に入ったら\n",
        "            incount += 1 # 入ったカウンターに 1 を加える\n",
        "            plt.scatter(x, y, c = \"#888\", marker=\"o\") # 灰色で 小さい丸 をプロット\n",
        "        else:\n",
        "            plt.scatter(x, y, c = \"#ddd\", marker=\"x\") # 薄い灰色で x をプロット\n",
        "\n",
        "p = 4 * incount / sr # 求まった円周率の近似値の計算\n",
        "print(\"円周率:\", p) # 近似値の表示\n",
        "plt.title(\"lattice method\") # グラフのタイトル\n",
        "plt.show() # グラフの描画"
      ],
      "execution_count": null,
      "outputs": [
        {
          "output_type": "stream",
          "name": "stdout",
          "text": [
            "radius?30\n",
            "円周率: 3.1422222222222222\n"
          ]
        },
        {
          "output_type": "display_data",
          "data": {
            "text/plain": [
              "<Figure size 720x720 with 1 Axes>"
            ],
            "image/png": "[encoded data removed]"
          },
          "metadata": {
            "needs_background": "light"
          }
        }
      ]
    },
    {
      "cell_type": "markdown",
      "source": [
        "行12のような小さなテクニックは、実は計算速度を上げるのに大きく寄与する。"
      ],
      "metadata": {
        "id": "Q9TDfLhuThYX"
      }
    },
    {
      "cell_type": "markdown",
      "source": [
        "なお、上記のプログラムが、多少の時間を要するのはグラフィックスのためである。グラフィックスに関する行をコメントアウトすると、計算は速い。"
      ],
      "metadata": {
        "id": "Yu0xqMKSWCqo"
      }
    },
    {
      "cell_type": "code",
      "metadata": {
        "colab": {
          "base_uri": "https://localhost:8080/"
        },
        "id": "BIWiZrbhWBVo",
        "outputId": "14e51c6a-7f04-4c9a-e94e-1b1664903320"
      },
      "source": [
        "# import matplotlib.pyplot as plt # グラフプロットの呼び出し\n",
        "r = int(input('radius?')) # 円の半径\n",
        "sr = r * r # 2乗計算は1回で済ませておく\n",
        "incount = 0 # 円に入った点の数、初期値はゼロ\n",
        "\n",
        "# plt.figure(figsize = (10,10)) # 描画領域を正方形に\n",
        "# plt.xlim(0, r) # x軸の範囲\n",
        "# plt.ylim(0, r) # y軸の範囲\n",
        "\n",
        "for u in range(0, r):\n",
        "    x = u + 0.5\n",
        "    sx = x*x # 2乗計算は1回で済ませておく\n",
        "    for v in range(0, r):\n",
        "        y = v + 0.5\n",
        "        if sx + y * y <= sr: # 半径r の円の中に入ったら\n",
        "            incount += 1 # 入ったカウンターに 1 を加える\n",
        "#            plt.scatter(x, y, c = \"#888\", marker=\"o\") # 灰色で 小さい丸 をプロット\n",
        "#        else:\n",
        "#            plt.scatter(x, y, c = \"#ddd\", marker=\"x\") # 薄い灰色で x をプロット\n",
        "\n",
        "p = 4 * incount / sr # 求まった円周率の近似値の計算\n",
        "print(\"円周率:\", p) # 近似値の表示\n",
        "# plt.title(\"lattice method\") # グラフのタイトル\n",
        "# plt.show() # グラフの描画"
      ],
      "execution_count": null,
      "outputs": [
        {
          "output_type": "stream",
          "name": "stdout",
          "text": [
            "radius?200\n",
            "円周率: 3.1419\n"
          ]
        }
      ]
    },
    {
      "cell_type": "code",
      "source": [],
      "metadata": {
        "id": "itpuVOYFebpL"
      },
      "execution_count": null,
      "outputs": []
    }
  ]
}