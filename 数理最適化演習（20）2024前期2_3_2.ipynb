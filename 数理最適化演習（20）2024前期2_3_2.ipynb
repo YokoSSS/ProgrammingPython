{
  "cells": [
    {
      "cell_type": "markdown",
      "metadata": {
        "id": "view-in-github",
        "colab_type": "text"
      },
      "source": [
        "<a href=\"https://colab.research.google.com/github/YokoSSS/ProgrammingPython/blob/%E6%95%B0%E7%90%86%E6%9C%80%E9%81%A9%E5%8C%96%E6%BC%94%E7%BF%92(20)/%E6%95%B0%E7%90%86%E6%9C%80%E9%81%A9%E5%8C%96%E6%BC%94%E7%BF%92%EF%BC%8820%EF%BC%892024%E5%89%8D%E6%9C%9F2_3_2.ipynb\" target=\"_parent\"><img src=\"https://colab.research.google.com/assets/colab-badge.svg\" alt=\"Open In Colab\"/></a>"
      ]
    },
    {
      "cell_type": "markdown",
      "metadata": {
        "id": "yjOvjI4Mi0gq"
      },
      "source": [
        "# PuLPモジュールを用いた生食事問題の最適解の計算\n",
        "## PuLPモジュール読み込み\n",
        "モジュールの読み込みは\n",
        "    \n",
        "    import モジュール名\n",
        "により行う．"
      ]
    },
    {
      "cell_type": "code",
      "execution_count": 1,
      "metadata": {
        "colab": {
          "base_uri": "https://localhost:8080/"
        },
        "id": "_2Mq5-Sbi0gr",
        "outputId": "8d5b2b2c-f4ac-481d-f2ca-7aa860126ade"
      },
      "outputs": [
        {
          "output_type": "stream",
          "name": "stdout",
          "text": [
            "Collecting pulp\n",
            "  Downloading PuLP-2.8.0-py3-none-any.whl (17.7 MB)\n",
            "\u001b[2K     \u001b[90m━━━━━━━━━━━━━━━━━━━━━━━━━━━━━━━━━━━━━━━━\u001b[0m \u001b[32m17.7/17.7 MB\u001b[0m \u001b[31m22.1 MB/s\u001b[0m eta \u001b[36m0:00:00\u001b[0m\n",
            "\u001b[?25hInstalling collected packages: pulp\n",
            "Successfully installed pulp-2.8.0\n"
          ]
        }
      ],
      "source": [
        "# Install pulp package\n",
        "!pip install pulp\n",
        "import pulp"
      ]
    },
    {
      "cell_type": "markdown",
      "metadata": {
        "id": "xiVTN6Pmi0gs"
      },
      "source": [
        "## 決定変数の定義\n",
        "pulp.LpVariableで決定変数を定義する．"
      ]
    },
    {
      "cell_type": "code",
      "execution_count": 2,
      "metadata": {
        "id": "Mp48t2vCi0gs"
      },
      "outputs": [],
      "source": [
        "xA = pulp.LpVariable('xA', 0) # 決定変数 xA >= 0\n",
        "xB = pulp.LpVariable('xB', 0) # 決定変数 xA >= 0\n",
        "xC = pulp.LpVariable('xC', 0) # 決定変数 xA >= 0"
      ]
    },
    {
      "cell_type": "markdown",
      "metadata": {
        "id": "X52McX1hi0gs"
      },
      "source": [
        "決定変数xA, xB, xCは非負の連続値をとる変数\n",
        "\n",
        "## 問題の定義\n",
        "pulp.LpProblemで問題オブジェクトを生成した後，目的関数と制約条件を設定する．"
      ]
    },
    {
      "cell_type": "code",
      "execution_count": 3,
      "metadata": {
        "colab": {
          "base_uri": "https://localhost:8080/"
        },
        "id": "bgBlFOU5i0gs",
        "outputId": "d81d7e5c-58d6-4bee-c25c-8029d62fc095"
      },
      "outputs": [
        {
          "output_type": "execute_result",
          "data": {
            "text/plain": [
              "食事問題:\n",
              "MINIMIZE\n",
              "75*xA + 62*xB + 50*xC + 0\n",
              "SUBJECT TO\n",
              "栄養素1の必要摂取量: 30 xA + 18 xB + 11 xC >= 150\n",
              "\n",
              "栄養素2の必要摂取量: 18 xA + 22 xB + 40 xC >= 100\n",
              "\n",
              "栄養素3の必要摂取量: 2 xA + 3 xB + 5 xC >= 15\n",
              "\n",
              "VARIABLES\n",
              "xA Continuous\n",
              "xB Continuous\n",
              "xC Continuous"
            ]
          },
          "metadata": {},
          "execution_count": 3
        }
      ],
      "source": [
        "p = pulp.LpProblem('食事問題', sense=pulp.LpMinimize) # 最小化問題\n",
        "p += 75*xA + 62*xB + 50*xC, '目的関数　価格'\n",
        "p += 30*xA + 18*xB + 11*xC >= 150, '栄養素1の必要摂取量'\n",
        "p += 18*xA + 22*xB + 40*xC >= 100, '栄養素2の必要摂取量'\n",
        "p += 2*xA + 3*xB + 5*xC >= 15, '栄養素3の必要摂取量'\n",
        "p"
      ]
    },
    {
      "cell_type": "markdown",
      "metadata": {
        "id": "d6W7cYNSi0gt"
      },
      "source": [
        "食事問題は食品の価格を最小化する問題なので，sense=pulp.LpMinimizeとしている（省略可能）．\n",
        "\n",
        "以上の設定により問題pは以下のように定式化される．"
      ]
    },
    {
      "cell_type": "markdown",
      "metadata": {
        "id": "WNWooThfi0gt"
      },
      "source": [
        "## 最適解の計算と結果の読み取り"
      ]
    },
    {
      "cell_type": "code",
      "execution_count": 4,
      "metadata": {
        "id": "OiQrUGMFi0gt"
      },
      "outputs": [],
      "source": [
        "# 最適解を計算\n",
        "result = p.solve()"
      ]
    },
    {
      "cell_type": "code",
      "execution_count": 5,
      "metadata": {
        "colab": {
          "base_uri": "https://localhost:8080/",
          "height": 35
        },
        "id": "6TdjlSMVi0gt",
        "outputId": "8d3e1904-1fdd-400e-b5dc-facfef081541"
      },
      "outputs": [
        {
          "output_type": "execute_result",
          "data": {
            "text/plain": [
              "'Optimal'"
            ],
            "application/vnd.google.colaboratory.intrinsic+json": {
              "type": "string"
            }
          },
          "metadata": {},
          "execution_count": 5
        }
      ],
      "source": [
        "# 最適解は得られたか？\n",
        "pulp.LpStatus[result]"
      ]
    },
    {
      "cell_type": "markdown",
      "metadata": {
        "id": "n-SX0f1Ii0gu"
      },
      "source": [
        "'Optimal'なので最適解が得られた．"
      ]
    },
    {
      "cell_type": "code",
      "execution_count": 6,
      "metadata": {
        "colab": {
          "base_uri": "https://localhost:8080/"
        },
        "id": "7BuqZTAKi0gu",
        "outputId": "a02d56f4-71fb-4d1e-b311-07217f6d889c"
      },
      "outputs": [
        {
          "output_type": "execute_result",
          "data": {
            "text/plain": [
              "401.3671875"
            ]
          },
          "metadata": {},
          "execution_count": 6
        }
      ],
      "source": [
        "# 目的関数の最適値\n",
        "pulp.value(p.objective)"
      ]
    },
    {
      "cell_type": "markdown",
      "metadata": {
        "id": "gBRYo0h4i0gu"
      },
      "source": [
        "食品の価格の最小値は401.37円"
      ]
    },
    {
      "cell_type": "code",
      "execution_count": 7,
      "metadata": {
        "colab": {
          "base_uri": "https://localhost:8080/"
        },
        "id": "edfO2UhRi0gu",
        "outputId": "19aab801-8519-47eb-afbb-7d75a69941e0"
      },
      "outputs": [
        {
          "output_type": "stream",
          "name": "stdout",
          "text": [
            "xA = 4.5703125\n",
            "xB = 0.0\n",
            "xC = 1.171875\n"
          ]
        }
      ],
      "source": [
        "# 最適解\n",
        "for v in p.variables():\n",
        "    print(f'{v} = {pulp.value(v)}')"
      ]
    },
    {
      "cell_type": "markdown",
      "metadata": {
        "id": "2W6PFiZIi0gu"
      },
      "source": [
        "食品Aを4.57 g，食品Cを1.17 g摂取し，食品Bは摂取しないとき，価格は最小になる．"
      ]
    },
    {
      "cell_type": "code",
      "execution_count": null,
      "metadata": {
        "id": "iekRNHjMi0gu"
      },
      "outputs": [],
      "source": []
    }
  ],
  "metadata": {
    "kernelspec": {
      "display_name": "Python 3",
      "language": "python",
      "name": "python3"
    },
    "language_info": {
      "codemirror_mode": {
        "name": "ipython",
        "version": 3
      },
      "file_extension": ".py",
      "mimetype": "text/x-python",
      "name": "python",
      "nbconvert_exporter": "python",
      "pygments_lexer": "ipython3",
      "version": "3.7.0"
    },
    "colab": {
      "provenance": [],
      "include_colab_link": true
    }
  },
  "nbformat": 4,
  "nbformat_minor": 0
}