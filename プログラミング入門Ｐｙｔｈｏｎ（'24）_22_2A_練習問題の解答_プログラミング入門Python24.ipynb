{
  "nbformat": 4,
  "nbformat_minor": 0,
  "metadata": {
    "colab": {
      "provenance": [],
      "collapsed_sections": [
        "WX4sRVO63me5",
        "FnSBdgK-Bwtz"
      ],
      "include_colab_link": true
    },
    "kernelspec": {
      "name": "python3",
      "display_name": "Python 3"
    }
  },
  "cells": [
    {
      "cell_type": "markdown",
      "metadata": {
        "id": "view-in-github",
        "colab_type": "text"
      },
      "source": [
        "<a href=\"https://colab.research.google.com/github/YokoSSS/ProgrammingPython/blob/OUJ_%E3%83%97%E3%83%AD%E3%82%B0%E3%83%A9%E3%83%9F%E3%83%B3%E3%82%B0%E5%85%A5%E9%96%80%EF%BC%B0%EF%BD%99%EF%BD%94%EF%BD%88%EF%BD%8F%EF%BD%8E%EF%BC%88'24%EF%BC%89/%E3%83%97%E3%83%AD%E3%82%B0%E3%83%A9%E3%83%9F%E3%83%B3%E3%82%B0%E5%85%A5%E9%96%80%EF%BC%B0%EF%BD%99%EF%BD%94%EF%BD%88%EF%BD%8F%EF%BD%8E%EF%BC%88'24%EF%BC%89_22_2A_%E7%B7%B4%E7%BF%92%E5%95%8F%E9%A1%8C%E3%81%AE%E8%A7%A3%E7%AD%94_%E3%83%97%E3%83%AD%E3%82%B0%E3%83%A9%E3%83%9F%E3%83%B3%E3%82%B0%E5%85%A5%E9%96%80Python24.ipynb\" target=\"_parent\"><img src=\"https://colab.research.google.com/assets/colab-badge.svg\" alt=\"Open In Colab\"/></a>"
      ]
    },
    {
      "cell_type": "markdown",
      "metadata": {
        "id": "rtIwBxrqqx2w"
      },
      "source": [
        "# 練習問題の解答"
      ]
    },
    {
      "cell_type": "markdown",
      "source": [
        " * 左上の「ファイル」を開いて、「ドライブにコピーを保存」をしてください。\n",
        " * 自分のGoogleドライブに、そのファイルが保存されます。ファイル名は「のコピー」が、最後（右端）についています。それを利用して学習・演習を進めて下さい。"
      ],
      "metadata": {
        "id": "lm7oxHNx4rIf"
      }
    },
    {
      "cell_type": "markdown",
      "source": [
        "# 第2章"
      ],
      "metadata": {
        "id": "e2TqTpwiYPH7"
      }
    },
    {
      "cell_type": "markdown",
      "source": [
        "【問題】入力した整数の2乗を表示するプログラムを作れ。"
      ],
      "metadata": {
        "id": "vI5aZWWSCL60"
      }
    },
    {
      "cell_type": "markdown",
      "source": [
        "解答"
      ],
      "metadata": {
        "id": "pd_KKXg_4gJH"
      }
    },
    {
      "cell_type": "code",
      "source": [
        "x = int(input(\"x?\"))\n",
        "print(x * x)"
      ],
      "metadata": {
        "id": "jRnI7P7WW2k0",
        "colab": {
          "base_uri": "https://localhost:8080/"
        },
        "outputId": "8bb65624-7067-48e4-b28a-85c8a34a9627"
      },
      "execution_count": 1,
      "outputs": [
        {
          "output_type": "stream",
          "name": "stdout",
          "text": [
            "x?4\n",
            "16\n"
          ]
        }
      ]
    },
    {
      "cell_type": "code",
      "source": [
        "x = int(input(\"x?\"))\n",
        "print(x ** 2)"
      ],
      "metadata": {
        "id": "t4XRyDwfW8zo",
        "colab": {
          "base_uri": "https://localhost:8080/"
        },
        "outputId": "189d188f-9873-46af-9de7-835e7f82fb1a"
      },
      "execution_count": 2,
      "outputs": [
        {
          "output_type": "stream",
          "name": "stdout",
          "text": [
            "x?5\n",
            "25\n"
          ]
        }
      ]
    },
    {
      "cell_type": "code",
      "source": [
        "x = int(input(\"x?\"))\n",
        "y = x * x\n",
        "print(y)"
      ],
      "metadata": {
        "id": "qT2Ux9qbXExk",
        "colab": {
          "base_uri": "https://localhost:8080/"
        },
        "outputId": "50dfe475-1ac5-47de-dfcc-bdf42ce24fa5"
      },
      "execution_count": 3,
      "outputs": [
        {
          "output_type": "stream",
          "name": "stdout",
          "text": [
            "x?2\n",
            "4\n"
          ]
        }
      ]
    },
    {
      "cell_type": "code",
      "source": [],
      "metadata": {
        "id": "QvkKy0P4EBJl"
      },
      "execution_count": null,
      "outputs": []
    }
  ]
}