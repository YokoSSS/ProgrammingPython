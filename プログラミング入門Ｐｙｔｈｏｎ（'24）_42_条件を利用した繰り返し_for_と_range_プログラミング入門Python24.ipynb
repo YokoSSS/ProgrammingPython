{
  "nbformat": 4,
  "nbformat_minor": 0,
  "metadata": {
    "colab": {
      "provenance": [],
      "collapsed_sections": [
        "WX4sRVO63me5",
        "FnSBdgK-Bwtz"
      ],
      "include_colab_link": true
    },
    "kernelspec": {
      "name": "python3",
      "display_name": "Python 3"
    }
  },
  "cells": [
    {
      "cell_type": "markdown",
      "metadata": {
        "id": "view-in-github",
        "colab_type": "text"
      },
      "source": [
        "<a href=\"https://colab.research.google.com/github/YokoSSS/ProgrammingPython/blob/OUJ_%E3%83%97%E3%83%AD%E3%82%B0%E3%83%A9%E3%83%9F%E3%83%B3%E3%82%B0%E5%85%A5%E9%96%80%EF%BC%B0%EF%BD%99%EF%BD%94%EF%BD%88%EF%BD%8F%EF%BD%8E%EF%BC%88'24%EF%BC%89/%E3%83%97%E3%83%AD%E3%82%B0%E3%83%A9%E3%83%9F%E3%83%B3%E3%82%B0%E5%85%A5%E9%96%80%EF%BC%B0%EF%BD%99%EF%BD%94%EF%BD%88%EF%BD%8F%EF%BD%8E%EF%BC%88'24%EF%BC%89_42_%E6%9D%A1%E4%BB%B6%E3%82%92%E5%88%A9%E7%94%A8%E3%81%97%E3%81%9F%E7%B9%B0%E3%82%8A%E8%BF%94%E3%81%97_for_%E3%81%A8_range_%E3%83%97%E3%83%AD%E3%82%B0%E3%83%A9%E3%83%9F%E3%83%B3%E3%82%B0%E5%85%A5%E9%96%80Python24.ipynb\" target=\"_parent\"><img src=\"https://colab.research.google.com/assets/colab-badge.svg\" alt=\"Open In Colab\"/></a>"
      ]
    },
    {
      "cell_type": "markdown",
      "source": [
        "# 第4章 繰り返し、インデントスタイル、乱数"
      ],
      "metadata": {
        "id": "7SWNgBsl_LPC"
      }
    },
    {
      "cell_type": "markdown",
      "source": [
        " * 左上の「ファイル」を開いて、「ドライブにコピーを保存」をしてください。\n",
        " * 自分のGoogleドライブに、そのファイルが保存されます。ファイル名は「のコピー」が、最後（右端）についています。それを利用して学習・演習を進めて下さい。"
      ],
      "metadata": {
        "id": "lm7oxHNx4rIf"
      }
    },
    {
      "cell_type": "markdown",
      "metadata": {
        "id": "8P88uIOzvNAo"
      },
      "source": [
        "# 4.2 条件を利用した繰り返し for と range"
      ]
    },
    {
      "cell_type": "markdown",
      "metadata": {
        "id": "0PRARGTf8__2"
      },
      "source": [
        "同じことを複数回行うプログラムを考える。次のプログラムは、for を使わずに、文字列 \"*\" を5回表示して、最後に空列を表示して改行する。"
      ]
    },
    {
      "cell_type": "code",
      "metadata": {
        "id": "LAaJqlAR8u4U",
        "colab": {
          "base_uri": "https://localhost:8080/"
        },
        "outputId": "ce839217-fae8-4655-f267-bd6889b28286"
      },
      "source": [
        "print(\"*\", end=\"\") # * を表示して改行しない\n",
        "print(\"*\", end=\"\") # * を表示して改行しない\n",
        "print(\"*\", end=\"\") # * を表示して改行しない\n",
        "print(\"*\", end=\"\") # * を表示して改行しない\n",
        "print(\"*\", end=\"\") # * を表示して改行しない\n",
        "print(\"\") # 改行する"
      ],
      "execution_count": 1,
      "outputs": [
        {
          "output_type": "stream",
          "name": "stdout",
          "text": [
            "*****\n"
          ]
        }
      ]
    },
    {
      "cell_type": "markdown",
      "source": [
        "上のプログラムの1行目から5行目は、同じ作業の繰り返しである。これを、 for を利用して記述することができる。\n",
        "\n",
        "まず、for を使う行は次のとおりになる。"
      ],
      "metadata": {
        "id": "3sg-q0SUfmlI"
      }
    },
    {
      "cell_type": "markdown",
      "source": [
        "> for i in range(5):"
      ],
      "metadata": {
        "id": "jqTTmh7Jg4mQ"
      }
    },
    {
      "cell_type": "markdown",
      "source": [
        "* 繰り返し回数を数える変数名に i を利用した。これは、「添字」の英語 index （インデックス）の頭文字である。\n",
        "  * i でなくてもいい。\n",
        "* 繰り返し回数を指定する range\n",
        "\n",
        "range(5) と書くと、i=0, 1, 2, 3, 4 と、合計で5回繰り返すことになる。この range をイテレーター（イテラブルオブジェクト）という。(iterator、繰り返し）"
      ],
      "metadata": {
        "id": "i0tqsjupgE5U"
      }
    },
    {
      "cell_type": "code",
      "metadata": {
        "id": "wLp51ASx9P1B",
        "colab": {
          "base_uri": "https://localhost:8080/"
        },
        "outputId": "a9778571-c582-4a89-df2d-c60703ce295c"
      },
      "source": [
        "# range を使った繰り返し\n",
        "for i in range(5):\n",
        "    print(\"*\", end=\"\")\n",
        "print(\"\")"
      ],
      "execution_count": 2,
      "outputs": [
        {
          "output_type": "stream",
          "name": "stdout",
          "text": [
            "*****\n"
          ]
        }
      ]
    },
    {
      "cell_type": "markdown",
      "source": [
        "なお、 range の型は、「レンジ型」となる。"
      ],
      "metadata": {
        "id": "xaN10CpGCP_m"
      }
    },
    {
      "cell_type": "code",
      "source": [
        "a = range(10)\n",
        "print(type(a))"
      ],
      "metadata": {
        "id": "IA9DEuC_CTRe",
        "colab": {
          "base_uri": "https://localhost:8080/"
        },
        "outputId": "2f4061dd-898c-4392-ce2b-3e92db344c4b"
      },
      "execution_count": 3,
      "outputs": [
        {
          "output_type": "stream",
          "name": "stdout",
          "text": [
            "<class 'range'>\n"
          ]
        }
      ]
    },
    {
      "cell_type": "markdown",
      "source": [
        "### カウンター（計数用変数）の利用"
      ],
      "metadata": {
        "id": "8DcsUuJImE0P"
      }
    },
    {
      "cell_type": "markdown",
      "metadata": {
        "id": "C0i5iq6twxMd"
      },
      "source": [
        "for で利用する変数は、ブロックの中で利用することができる。（ブロックの外でも利用できるが、推奨されない。）\n",
        "\n",
        "* 1行目：for のあとに変数名を書くと、その変数にさまざまな値を代入して、直後のブロック全体を実行する。 range(7) は、 0 から 6 までの 7 個の数を表している。"
      ]
    },
    {
      "cell_type": "code",
      "metadata": {
        "id": "yFzFAM61vnGv",
        "colab": {
          "base_uri": "https://localhost:8080/"
        },
        "outputId": "22493c81-381e-4e25-8347-ae8c6e35e9d3"
      },
      "source": [
        "for i in range(7):\n",
        "    print(i)"
      ],
      "execution_count": 4,
      "outputs": [
        {
          "output_type": "stream",
          "name": "stdout",
          "text": [
            "0\n",
            "1\n",
            "2\n",
            "3\n",
            "4\n",
            "5\n",
            "6\n"
          ]
        }
      ]
    },
    {
      "cell_type": "markdown",
      "source": [
        "for のあとの変数名を、ブロックの外で利用しにくいように、あえて、特別な名前の変数名にすることがある。"
      ],
      "metadata": {
        "id": "jDg9Cbj7mLxY"
      }
    },
    {
      "cell_type": "code",
      "source": [
        "for _ in range(7): # アンダースコア _ という名前の変数を利用している\n",
        "    print(\"ohayo\")"
      ],
      "metadata": {
        "id": "zqTg8ZQbmUKW",
        "colab": {
          "base_uri": "https://localhost:8080/"
        },
        "outputId": "d30ba90d-fb5e-4f21-8941-5281dc493ce0"
      },
      "execution_count": 5,
      "outputs": [
        {
          "output_type": "stream",
          "name": "stdout",
          "text": [
            "ohayo\n",
            "ohayo\n",
            "ohayo\n",
            "ohayo\n",
            "ohayo\n",
            "ohayo\n",
            "ohayo\n"
          ]
        }
      ]
    },
    {
      "cell_type": "markdown",
      "source": [
        "## ブロックと、range"
      ],
      "metadata": {
        "id": "x5C905Zij-4v"
      }
    },
    {
      "cell_type": "markdown",
      "metadata": {
        "id": "LvxHy7Zcz8uH"
      },
      "source": [
        "次のプログラムでは、ブロックは2行目のみである。\n",
        "\n",
        "* 1行目の for で繰返し実行される命令が、2行目のみである。\n",
        "* 2行目は3回実行されるが、3行目は1回しか実行されない。\n",
        "* （C言語に慣れている人への注意）3行目の「おやすみ」の右に表示される値は、C言語などと違う。"
      ]
    },
    {
      "cell_type": "code",
      "metadata": {
        "id": "VSEGzbEo0CN7",
        "colab": {
          "base_uri": "https://localhost:8080/"
        },
        "outputId": "d95cd0c3-3568-4732-95d5-be243617b0e2"
      },
      "source": [
        "for i in range(3):\n",
        "    print(\"おはよう\", i)\n",
        "print(\"おやすみ\", i)"
      ],
      "execution_count": 6,
      "outputs": [
        {
          "output_type": "stream",
          "name": "stdout",
          "text": [
            "おはよう 0\n",
            "おはよう 1\n",
            "おはよう 2\n",
            "おやすみ 2\n"
          ]
        }
      ]
    },
    {
      "cell_type": "markdown",
      "metadata": {
        "id": "KOE2jKaXy3eW"
      },
      "source": [
        "次のプログラムでは、2行目と3行目がブロックとなる。\n",
        "* 1行目の for で繰返し実行される命令が、2行目と3行目であり、ともに 3回実行される。"
      ]
    },
    {
      "cell_type": "code",
      "metadata": {
        "id": "wxGuOGfsy9ZB",
        "colab": {
          "base_uri": "https://localhost:8080/"
        },
        "outputId": "1b15bc5b-3e7f-4391-86b3-0d93a2ba767c"
      },
      "source": [
        "for i in range(3):\n",
        "    print(\"おはよう\", i)\n",
        "    print(\"おやすみ\", i)"
      ],
      "execution_count": 7,
      "outputs": [
        {
          "output_type": "stream",
          "name": "stdout",
          "text": [
            "おはよう 0\n",
            "おやすみ 0\n",
            "おはよう 1\n",
            "おやすみ 1\n",
            "おはよう 2\n",
            "おやすみ 2\n"
          ]
        }
      ]
    },
    {
      "cell_type": "markdown",
      "source": [
        "なお、ブロックの中にあるコメント行と空行は無視されるので気軽に使ってよい。"
      ],
      "metadata": {
        "id": "h0_PsVMOGr6q"
      }
    },
    {
      "cell_type": "code",
      "metadata": {
        "id": "5j0Fvwy2w8Fi",
        "colab": {
          "base_uri": "https://localhost:8080/"
        },
        "outputId": "37026750-c683-4c79-8238-391b68954779"
      },
      "source": [
        "for i in range(3):\n",
        "    print(\"おはよう\", i)\n",
        "# 昼\n",
        "    print(\"こんにちは\", i)\n",
        "\n",
        "    print(\"おやすみ\", i)"
      ],
      "execution_count": 8,
      "outputs": [
        {
          "output_type": "stream",
          "name": "stdout",
          "text": [
            "おはよう 0\n",
            "こんにちは 0\n",
            "おやすみ 0\n",
            "おはよう 1\n",
            "こんにちは 1\n",
            "おやすみ 1\n",
            "おはよう 2\n",
            "こんにちは 2\n",
            "おやすみ 2\n"
          ]
        }
      ]
    },
    {
      "cell_type": "markdown",
      "source": [
        "### 確認問題　（確認問題の正答はありません。授業中に提示します）"
      ],
      "metadata": {
        "id": "SXJ63xCpw6o5"
      }
    },
    {
      "cell_type": "markdown",
      "source": [
        "次のように表示するように、その下のプログラムを改造せよ。\n",
        "> おはよう<br>\n",
        "> おはよう<br>\n",
        "> おはよう<br>\n",
        "> おやすみ<br>\n",
        "> おやすみ<br>\n",
        "> おやすみ\n"
      ],
      "metadata": {
        "id": "c5WDsEIGVFg3"
      }
    },
    {
      "cell_type": "code",
      "source": [
        "for i in range(3):\n",
        "    print(\"おはよう\")\n",
        "    print(\"おやすみ\")"
      ],
      "metadata": {
        "id": "KC3PpjhWVUE3",
        "colab": {
          "base_uri": "https://localhost:8080/"
        },
        "outputId": "722a318f-b6ba-4717-e9c4-e7af01d93b71"
      },
      "execution_count": 10,
      "outputs": [
        {
          "output_type": "stream",
          "name": "stdout",
          "text": [
            "おはよう\n",
            "おやすみ\n",
            "おはよう\n",
            "おやすみ\n",
            "おはよう\n",
            "おやすみ\n"
          ]
        }
      ]
    },
    {
      "cell_type": "code",
      "source": [
        "for i in range(3):\n",
        "    print(\"おはよう\")\n",
        "for i in range(3):\n",
        "    print(\"おやすみ\")"
      ],
      "metadata": {
        "colab": {
          "base_uri": "https://localhost:8080/"
        },
        "id": "XlPNp138wwB1",
        "outputId": "796b7f8c-c459-46fd-d529-2aa9bfe3d457"
      },
      "execution_count": 11,
      "outputs": [
        {
          "output_type": "stream",
          "name": "stdout",
          "text": [
            "おはよう\n",
            "おはよう\n",
            "おはよう\n",
            "おやすみ\n",
            "おやすみ\n",
            "おやすみ\n"
          ]
        }
      ]
    },
    {
      "cell_type": "markdown",
      "source": [
        "## ネスト と range"
      ],
      "metadata": {
        "id": "GPTV0rJwslHA"
      }
    },
    {
      "cell_type": "markdown",
      "source": [
        "次のプログラムは、すでに示したプログラムの再掲である。"
      ],
      "metadata": {
        "id": "Lond3kUKkFYP"
      }
    },
    {
      "cell_type": "code",
      "metadata": {
        "id": "Hdykj-9HkBiH",
        "colab": {
          "base_uri": "https://localhost:8080/"
        },
        "outputId": "4561627c-de8c-4a81-8ec6-ce2fc296ebe0"
      },
      "source": [
        "# range を使った繰り返し\n",
        "for i in range(5):\n",
        "    print(\"*\", end=\"\")\n",
        "print(\"\")"
      ],
      "execution_count": 12,
      "outputs": [
        {
          "output_type": "stream",
          "name": "stdout",
          "text": [
            "*****\n"
          ]
        }
      ]
    },
    {
      "cell_type": "markdown",
      "metadata": {
        "id": "50Qy8Zdi9vXV"
      },
      "source": [
        "これ全体をひとつのブロックとして捉え、それを5回繰り返すと、正方形状に文字を並べることができる。つまり、j=0,1,2,3,4 の合計5回、上のプログラムを実行する。次のプログラムの3行目から6行目は、上のプログラムの1行目から4行目が、すべて、4文字分、字下げされたものになる。"
      ]
    },
    {
      "cell_type": "code",
      "metadata": {
        "id": "0CZcb7xG93lV",
        "colab": {
          "base_uri": "https://localhost:8080/"
        },
        "outputId": "7df6434d-27a0-42e9-f0a4-cf343ed3d2e4"
      },
      "source": [
        "# range を使った繰り返し\n",
        "for j in range(5):\n",
        "    # range を使った繰り返し\n",
        "    for i in range(5):\n",
        "        print(\"*\", end=\"\")\n",
        "    print(\"\")"
      ],
      "execution_count": 13,
      "outputs": [
        {
          "output_type": "stream",
          "name": "stdout",
          "text": [
            "*****\n",
            "*****\n",
            "*****\n",
            "*****\n",
            "*****\n"
          ]
        }
      ]
    },
    {
      "cell_type": "markdown",
      "source": [
        "## ブロックのネストの際の字下げ文字数"
      ],
      "metadata": {
        "id": "RcUH4aNbs2xs"
      }
    },
    {
      "cell_type": "markdown",
      "source": [
        "ブロックのなかにブロックを入れるときは、インデントを大きくする。\n",
        "\n",
        "通常は、「4文字、8文字、12文字、16文字」と字下げするが、「2文字、4文字、6文字、8文字」と字下げしていく人もいる。（「8文字、16文字、24文字」と字下げする人もいる。）"
      ],
      "metadata": {
        "id": "vW3Gjl2Ws2xu"
      }
    },
    {
      "cell_type": "code",
      "source": [
        "for i in range(3):\n",
        "  for j in range(3):\n",
        "    for k in range(3):\n",
        "      print(i, j, k)"
      ],
      "metadata": {
        "id": "y5lzHmIWs2xu",
        "colab": {
          "base_uri": "https://localhost:8080/"
        },
        "outputId": "1e0f964a-bd31-4131-a81b-6fdfba7993ec"
      },
      "execution_count": 14,
      "outputs": [
        {
          "output_type": "stream",
          "name": "stdout",
          "text": [
            "0 0 0\n",
            "0 0 1\n",
            "0 0 2\n",
            "0 1 0\n",
            "0 1 1\n",
            "0 1 2\n",
            "0 2 0\n",
            "0 2 1\n",
            "0 2 2\n",
            "1 0 0\n",
            "1 0 1\n",
            "1 0 2\n",
            "1 1 0\n",
            "1 1 1\n",
            "1 1 2\n",
            "1 2 0\n",
            "1 2 1\n",
            "1 2 2\n",
            "2 0 0\n",
            "2 0 1\n",
            "2 0 2\n",
            "2 1 0\n",
            "2 1 1\n",
            "2 1 2\n",
            "2 2 0\n",
            "2 2 1\n",
            "2 2 2\n"
          ]
        }
      ]
    },
    {
      "cell_type": "code",
      "source": [
        "for i in range(3):\n",
        "    for j in range(3):\n",
        "        for k in range(3):\n",
        "            print(i, j, k)"
      ],
      "metadata": {
        "id": "KvjWHBo0s2xu",
        "colab": {
          "base_uri": "https://localhost:8080/"
        },
        "outputId": "1b4add11-ee28-466d-869c-8d2c452c2edc"
      },
      "execution_count": 15,
      "outputs": [
        {
          "output_type": "stream",
          "name": "stdout",
          "text": [
            "0 0 0\n",
            "0 0 1\n",
            "0 0 2\n",
            "0 1 0\n",
            "0 1 1\n",
            "0 1 2\n",
            "0 2 0\n",
            "0 2 1\n",
            "0 2 2\n",
            "1 0 0\n",
            "1 0 1\n",
            "1 0 2\n",
            "1 1 0\n",
            "1 1 1\n",
            "1 1 2\n",
            "1 2 0\n",
            "1 2 1\n",
            "1 2 2\n",
            "2 0 0\n",
            "2 0 1\n",
            "2 0 2\n",
            "2 1 0\n",
            "2 1 1\n",
            "2 1 2\n",
            "2 2 0\n",
            "2 2 1\n",
            "2 2 2\n"
          ]
        }
      ]
    },
    {
      "cell_type": "code",
      "source": [
        "for i in range(3):\n",
        "        for j in range(3):\n",
        "                for k in range(3):\n",
        "                        print(i, j, k)"
      ],
      "metadata": {
        "id": "4XVmXAsJs2xu",
        "colab": {
          "base_uri": "https://localhost:8080/"
        },
        "outputId": "381af756-e537-4661-938b-94cb83cf221c"
      },
      "execution_count": 16,
      "outputs": [
        {
          "output_type": "stream",
          "name": "stdout",
          "text": [
            "0 0 0\n",
            "0 0 1\n",
            "0 0 2\n",
            "0 1 0\n",
            "0 1 1\n",
            "0 1 2\n",
            "0 2 0\n",
            "0 2 1\n",
            "0 2 2\n",
            "1 0 0\n",
            "1 0 1\n",
            "1 0 2\n",
            "1 1 0\n",
            "1 1 1\n",
            "1 1 2\n",
            "1 2 0\n",
            "1 2 1\n",
            "1 2 2\n",
            "2 0 0\n",
            "2 0 1\n",
            "2 0 2\n",
            "2 1 0\n",
            "2 1 1\n",
            "2 1 2\n",
            "2 2 0\n",
            "2 2 1\n",
            "2 2 2\n"
          ]
        }
      ]
    },
    {
      "cell_type": "markdown",
      "metadata": {
        "id": "s4WwlPSbs2xu"
      },
      "source": [
        "### 確認問題"
      ]
    },
    {
      "cell_type": "markdown",
      "metadata": {
        "id": "a1ouP65_s2xu"
      },
      "source": [
        "(1) 次のプログラムはどのように動作するか。よく考えた上で、実行してみて、そのとおりになったかどうかを確認せよ。"
      ]
    },
    {
      "cell_type": "code",
      "metadata": {
        "id": "LQe5MoFOs2xv",
        "colab": {
          "base_uri": "https://localhost:8080/"
        },
        "outputId": "b4b1c09e-2371-44c8-cee9-caa28fbdeac7"
      },
      "source": [
        "for j in range(10):\n",
        "    for i in range(j):\n",
        "        print('a', end=\"\")\n",
        "    print(\"\")"
      ],
      "execution_count": 17,
      "outputs": [
        {
          "output_type": "stream",
          "name": "stdout",
          "text": [
            "\n",
            "a\n",
            "aa\n",
            "aaa\n",
            "aaaa\n",
            "aaaaa\n",
            "aaaaaa\n",
            "aaaaaaa\n",
            "aaaaaaaa\n",
            "aaaaaaaaa\n"
          ]
        }
      ]
    },
    {
      "cell_type": "markdown",
      "metadata": {
        "id": "dlPNDmIds2xv"
      },
      "source": [
        "(2) 次のプログラムはどのように動作するか。よく考えた上で、実行してみて、そのとおりになったかどうかを確認せよ。"
      ]
    },
    {
      "cell_type": "code",
      "metadata": {
        "id": "3CLs-WG9s2xv",
        "colab": {
          "base_uri": "https://localhost:8080/"
        },
        "outputId": "c6fdc772-7842-4422-e585-e21526b0c14e"
      },
      "source": [
        "for j in range(10):\n",
        "    for i in range(j * j):\n",
        "        print('a', end=\"\")\n",
        "    print(\"\")"
      ],
      "execution_count": 18,
      "outputs": [
        {
          "output_type": "stream",
          "name": "stdout",
          "text": [
            "\n",
            "a\n",
            "aaaa\n",
            "aaaaaaaaa\n",
            "aaaaaaaaaaaaaaaa\n",
            "aaaaaaaaaaaaaaaaaaaaaaaaa\n",
            "aaaaaaaaaaaaaaaaaaaaaaaaaaaaaaaaaaaa\n",
            "aaaaaaaaaaaaaaaaaaaaaaaaaaaaaaaaaaaaaaaaaaaaaaaaa\n",
            "aaaaaaaaaaaaaaaaaaaaaaaaaaaaaaaaaaaaaaaaaaaaaaaaaaaaaaaaaaaaaaaa\n",
            "aaaaaaaaaaaaaaaaaaaaaaaaaaaaaaaaaaaaaaaaaaaaaaaaaaaaaaaaaaaaaaaaaaaaaaaaaaaaaaaaa\n"
          ]
        }
      ]
    },
    {
      "cell_type": "markdown",
      "source": [
        "### 確認問題　（確認問題の正答はありません。授業中に提示します）"
      ],
      "metadata": {
        "id": "KYgrvPqml_P0"
      }
    },
    {
      "cell_type": "markdown",
      "source": [
        "次のプログラムを見て、どのように表示されるか予想してから、実行して確認せよ。"
      ],
      "metadata": {
        "id": "GQnD_yBes4ey"
      }
    },
    {
      "cell_type": "code",
      "source": [
        "for j in range(5):\n",
        "    for i in range(5):\n",
        "        print(i + j, \" \", end=\"\")\n",
        "    print(\"\")"
      ],
      "metadata": {
        "id": "IOOv0JaXs9aL",
        "colab": {
          "base_uri": "https://localhost:8080/"
        },
        "outputId": "5c545b2c-f2f1-4b68-fc11-b63b19c5ba86"
      },
      "execution_count": 19,
      "outputs": [
        {
          "output_type": "stream",
          "name": "stdout",
          "text": [
            "0  1  2  3  4  \n",
            "1  2  3  4  5  \n",
            "2  3  4  5  6  \n",
            "3  4  5  6  7  \n",
            "4  5  6  7  8  \n"
          ]
        }
      ]
    },
    {
      "cell_type": "markdown",
      "source": [
        "# 次の教材\n",
        "4.3 range のバリエーション\n",
        "* https://colab.research.google.com/drive/1U9tBFSVUdJRMFNJ2EjbR9MYhhOELlKO6"
      ],
      "metadata": {
        "id": "VjCAVv72VCz4"
      }
    }
  ]
}